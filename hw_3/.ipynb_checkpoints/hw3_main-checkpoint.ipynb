{
 "cells": [
  {
   "cell_type": "code",
   "execution_count": 6,
   "metadata": {
    "collapsed": true
   },
   "outputs": [],
   "source": [
    "import pandas as pd\n",
    "import numpy as np\n",
    "import seaborn as sns\n",
    "import matplotlib.pyplot as plt"
   ]
  },
  {
   "cell_type": "markdown",
   "metadata": {},
   "source": [
    "# Assignment 3: Improving the Pipeline"
   ]
  },
  {
   "cell_type": "markdown",
   "metadata": {},
   "source": [
    "## Things to fix in my pipeline\n",
    "\n",
    "1. ~~A way to read different types of data.~~\n",
    "2. ~~Make it so that the plotting functions have a title.~~\n",
    "3. A pre-processing function that handles outliers.\n",
    "4. ~~A function that discretizes continuous features,~~ and ~~one that turns a categorical variable into dummies.~~\n",
    "5. ~~Add more classifiers to the pipeline~~\n",
    "    * Added logit, KNN, decision trees, SVM, random forests, and naive bayes.\n",
    "    * Not done with my gradient boosted classifier yet, I'll add that as soon as I'm done ...\n",
    "6. Experiment with different parameters for these classifiers.\n",
    "7. ~~Add additional evaluation metrics.~~\n",
    "8. Create temporal validation function."
   ]
  },
  {
   "cell_type": "code",
   "execution_count": null,
   "metadata": {
    "collapsed": true
   },
   "outputs": [],
   "source": []
  },
  {
   "cell_type": "markdown",
   "metadata": {},
   "source": [
    "## Analysis"
   ]
  },
  {
   "cell_type": "code",
   "execution_count": 13,
   "metadata": {},
   "outputs": [],
   "source": [
    "import pipeline_v2 as pxy"
   ]
  },
  {
   "cell_type": "code",
   "execution_count": 14,
   "metadata": {},
   "outputs": [],
   "source": [
    "df = pxy.read_data(\"projects.csv\", \"csv\")"
   ]
  },
  {
   "cell_type": "code",
   "execution_count": 25,
   "metadata": {},
   "outputs": [
    {
     "data": {
      "text/html": [
       "<div>\n",
       "<style scoped>\n",
       "    .dataframe tbody tr th:only-of-type {\n",
       "        vertical-align: middle;\n",
       "    }\n",
       "\n",
       "    .dataframe tbody tr th {\n",
       "        vertical-align: top;\n",
       "    }\n",
       "\n",
       "    .dataframe thead th {\n",
       "        text-align: right;\n",
       "    }\n",
       "</style>\n",
       "<table border=\"1\" class=\"dataframe\">\n",
       "  <thead>\n",
       "    <tr style=\"text-align: right;\">\n",
       "      <th></th>\n",
       "      <th>projectid</th>\n",
       "      <th>teacher_acctid</th>\n",
       "      <th>schoolid</th>\n",
       "      <th>school_ncesid</th>\n",
       "      <th>school_latitude</th>\n",
       "      <th>school_longitude</th>\n",
       "      <th>school_city</th>\n",
       "      <th>school_state</th>\n",
       "      <th>school_zip</th>\n",
       "      <th>school_metro</th>\n",
       "      <th>...</th>\n",
       "      <th>resource_type</th>\n",
       "      <th>poverty_level</th>\n",
       "      <th>grade_level</th>\n",
       "      <th>fulfillment_labor_materials</th>\n",
       "      <th>total_price_excluding_optional_support</th>\n",
       "      <th>total_price_including_optional_support</th>\n",
       "      <th>students_reached</th>\n",
       "      <th>eligible_double_your_impact_match</th>\n",
       "      <th>eligible_almost_home_match</th>\n",
       "      <th>date_posted</th>\n",
       "    </tr>\n",
       "  </thead>\n",
       "  <tbody>\n",
       "    <tr>\n",
       "      <th>0</th>\n",
       "      <td>316ed8fb3b81402ff6ac8f721bb31192</td>\n",
       "      <td>42d43fa6f37314365d08692e08680973</td>\n",
       "      <td>c0e6ce89b244764085691a1b8e28cb81</td>\n",
       "      <td>6.362701e+10</td>\n",
       "      <td>36.576340</td>\n",
       "      <td>-119.608713</td>\n",
       "      <td>Selma</td>\n",
       "      <td>CA</td>\n",
       "      <td>93662.0</td>\n",
       "      <td>NaN</td>\n",
       "      <td>...</td>\n",
       "      <td>Books</td>\n",
       "      <td>highest poverty</td>\n",
       "      <td>Grades 6-8</td>\n",
       "      <td>30.0</td>\n",
       "      <td>555.81</td>\n",
       "      <td>653.89</td>\n",
       "      <td>32.0</td>\n",
       "      <td>f</td>\n",
       "      <td>f</td>\n",
       "      <td>2014-05-12</td>\n",
       "    </tr>\n",
       "    <tr>\n",
       "      <th>1</th>\n",
       "      <td>90de744e368a7e4883223ca49318ae30</td>\n",
       "      <td>864eb466462bf704bf7a16a585ef296a</td>\n",
       "      <td>d711e47810900c96f26a5d0be30c446d</td>\n",
       "      <td>4.837020e+11</td>\n",
       "      <td>32.911179</td>\n",
       "      <td>-96.723640</td>\n",
       "      <td>Dallas</td>\n",
       "      <td>TX</td>\n",
       "      <td>75243.0</td>\n",
       "      <td>urban</td>\n",
       "      <td>...</td>\n",
       "      <td>Books</td>\n",
       "      <td>highest poverty</td>\n",
       "      <td>Grades PreK-2</td>\n",
       "      <td>30.0</td>\n",
       "      <td>296.47</td>\n",
       "      <td>348.79</td>\n",
       "      <td>22.0</td>\n",
       "      <td>f</td>\n",
       "      <td>f</td>\n",
       "      <td>2014-05-12</td>\n",
       "    </tr>\n",
       "    <tr>\n",
       "      <th>2</th>\n",
       "      <td>32943bb1063267de6ed19fc0ceb4b9a7</td>\n",
       "      <td>37f85135259ece793213aca9d8765542</td>\n",
       "      <td>665c3613013ba0a66e3a2a26b89f1b68</td>\n",
       "      <td>4.103270e+11</td>\n",
       "      <td>45.166039</td>\n",
       "      <td>-122.414576</td>\n",
       "      <td>Colton</td>\n",
       "      <td>OR</td>\n",
       "      <td>97017.0</td>\n",
       "      <td>rural</td>\n",
       "      <td>...</td>\n",
       "      <td>Technology</td>\n",
       "      <td>high poverty</td>\n",
       "      <td>Grades PreK-2</td>\n",
       "      <td>30.0</td>\n",
       "      <td>430.89</td>\n",
       "      <td>506.93</td>\n",
       "      <td>17.0</td>\n",
       "      <td>f</td>\n",
       "      <td>f</td>\n",
       "      <td>2014-05-11</td>\n",
       "    </tr>\n",
       "    <tr>\n",
       "      <th>3</th>\n",
       "      <td>bb18f409abda2f264d5acda8cab577a9</td>\n",
       "      <td>2133fc46f951f1e7d60645b0f9e48a6c</td>\n",
       "      <td>4f12c3fa0c1cce823c7ba1df57e90ccb</td>\n",
       "      <td>3.600153e+11</td>\n",
       "      <td>40.641727</td>\n",
       "      <td>-73.965655</td>\n",
       "      <td>Brooklyn</td>\n",
       "      <td>NY</td>\n",
       "      <td>11226.0</td>\n",
       "      <td>urban</td>\n",
       "      <td>...</td>\n",
       "      <td>Books</td>\n",
       "      <td>highest poverty</td>\n",
       "      <td>Grades 3-5</td>\n",
       "      <td>30.0</td>\n",
       "      <td>576.07</td>\n",
       "      <td>677.73</td>\n",
       "      <td>12.0</td>\n",
       "      <td>f</td>\n",
       "      <td>f</td>\n",
       "      <td>2014-05-11</td>\n",
       "    </tr>\n",
       "    <tr>\n",
       "      <th>4</th>\n",
       "      <td>24761b686e18e5eace634607acbcc19f</td>\n",
       "      <td>867ff478a63f5457eaf41049536c47cd</td>\n",
       "      <td>10179fd362d7b8cf0e89baa1ca3025bb</td>\n",
       "      <td>6.227100e+10</td>\n",
       "      <td>34.043939</td>\n",
       "      <td>-118.288371</td>\n",
       "      <td>Los Angeles</td>\n",
       "      <td>CA</td>\n",
       "      <td>90006.0</td>\n",
       "      <td>urban</td>\n",
       "      <td>...</td>\n",
       "      <td>Other</td>\n",
       "      <td>highest poverty</td>\n",
       "      <td>Grades PreK-2</td>\n",
       "      <td>30.0</td>\n",
       "      <td>408.40</td>\n",
       "      <td>480.47</td>\n",
       "      <td>24.0</td>\n",
       "      <td>f</td>\n",
       "      <td>f</td>\n",
       "      <td>2014-05-11</td>\n",
       "    </tr>\n",
       "  </tbody>\n",
       "</table>\n",
       "<p>5 rows × 35 columns</p>\n",
       "</div>"
      ],
      "text/plain": [
       "                          projectid                    teacher_acctid  \\\n",
       "0  316ed8fb3b81402ff6ac8f721bb31192  42d43fa6f37314365d08692e08680973   \n",
       "1  90de744e368a7e4883223ca49318ae30  864eb466462bf704bf7a16a585ef296a   \n",
       "2  32943bb1063267de6ed19fc0ceb4b9a7  37f85135259ece793213aca9d8765542   \n",
       "3  bb18f409abda2f264d5acda8cab577a9  2133fc46f951f1e7d60645b0f9e48a6c   \n",
       "4  24761b686e18e5eace634607acbcc19f  867ff478a63f5457eaf41049536c47cd   \n",
       "\n",
       "                           schoolid  school_ncesid  school_latitude  \\\n",
       "0  c0e6ce89b244764085691a1b8e28cb81   6.362701e+10        36.576340   \n",
       "1  d711e47810900c96f26a5d0be30c446d   4.837020e+11        32.911179   \n",
       "2  665c3613013ba0a66e3a2a26b89f1b68   4.103270e+11        45.166039   \n",
       "3  4f12c3fa0c1cce823c7ba1df57e90ccb   3.600153e+11        40.641727   \n",
       "4  10179fd362d7b8cf0e89baa1ca3025bb   6.227100e+10        34.043939   \n",
       "\n",
       "   school_longitude  school_city school_state  school_zip school_metro  \\\n",
       "0       -119.608713        Selma           CA     93662.0          NaN   \n",
       "1        -96.723640       Dallas           TX     75243.0        urban   \n",
       "2       -122.414576       Colton           OR     97017.0        rural   \n",
       "3        -73.965655     Brooklyn           NY     11226.0        urban   \n",
       "4       -118.288371  Los Angeles           CA     90006.0        urban   \n",
       "\n",
       "      ...     resource_type    poverty_level    grade_level  \\\n",
       "0     ...             Books  highest poverty     Grades 6-8   \n",
       "1     ...             Books  highest poverty  Grades PreK-2   \n",
       "2     ...        Technology     high poverty  Grades PreK-2   \n",
       "3     ...             Books  highest poverty     Grades 3-5   \n",
       "4     ...             Other  highest poverty  Grades PreK-2   \n",
       "\n",
       "  fulfillment_labor_materials total_price_excluding_optional_support  \\\n",
       "0                        30.0                                 555.81   \n",
       "1                        30.0                                 296.47   \n",
       "2                        30.0                                 430.89   \n",
       "3                        30.0                                 576.07   \n",
       "4                        30.0                                 408.40   \n",
       "\n",
       "  total_price_including_optional_support students_reached  \\\n",
       "0                                 653.89             32.0   \n",
       "1                                 348.79             22.0   \n",
       "2                                 506.93             17.0   \n",
       "3                                 677.73             12.0   \n",
       "4                                 480.47             24.0   \n",
       "\n",
       "  eligible_double_your_impact_match eligible_almost_home_match date_posted  \n",
       "0                                 f                          f  2014-05-12  \n",
       "1                                 f                          f  2014-05-12  \n",
       "2                                 f                          f  2014-05-11  \n",
       "3                                 f                          f  2014-05-11  \n",
       "4                                 f                          f  2014-05-11  \n",
       "\n",
       "[5 rows x 35 columns]"
      ]
     },
     "execution_count": 25,
     "metadata": {},
     "output_type": "execute_result"
    }
   ],
   "source": [
    "df.head()"
   ]
  },
  {
   "cell_type": "code",
   "execution_count": 15,
   "metadata": {
    "collapsed": true
   },
   "outputs": [],
   "source": [
    "df2 = df.iloc[0:1000,:]"
   ]
  },
  {
   "cell_type": "code",
   "execution_count": 16,
   "metadata": {
    "collapsed": true
   },
   "outputs": [],
   "source": [
    "ldf = pxy.read_data(\"outcomes.csv\", \"csv\")"
   ]
  },
  {
   "cell_type": "code",
   "execution_count": 17,
   "metadata": {},
   "outputs": [
    {
     "data": {
      "text/html": [
       "<div>\n",
       "<style scoped>\n",
       "    .dataframe tbody tr th:only-of-type {\n",
       "        vertical-align: middle;\n",
       "    }\n",
       "\n",
       "    .dataframe tbody tr th {\n",
       "        vertical-align: top;\n",
       "    }\n",
       "\n",
       "    .dataframe thead th {\n",
       "        text-align: right;\n",
       "    }\n",
       "</style>\n",
       "<table border=\"1\" class=\"dataframe\">\n",
       "  <thead>\n",
       "    <tr style=\"text-align: right;\">\n",
       "      <th></th>\n",
       "      <th>projectid</th>\n",
       "      <th>is_exciting</th>\n",
       "      <th>at_least_1_teacher_referred_donor</th>\n",
       "      <th>fully_funded</th>\n",
       "      <th>at_least_1_green_donation</th>\n",
       "      <th>great_chat</th>\n",
       "      <th>three_or_more_non_teacher_referred_donors</th>\n",
       "      <th>one_non_teacher_referred_donor_giving_100_plus</th>\n",
       "      <th>donation_from_thoughtful_donor</th>\n",
       "      <th>great_messages_proportion</th>\n",
       "      <th>teacher_referred_count</th>\n",
       "      <th>non_teacher_referred_count</th>\n",
       "    </tr>\n",
       "  </thead>\n",
       "  <tbody>\n",
       "    <tr>\n",
       "      <th>0</th>\n",
       "      <td>ffffc4f85b60efc5b52347df489d0238</td>\n",
       "      <td>f</td>\n",
       "      <td>NaN</td>\n",
       "      <td>f</td>\n",
       "      <td>NaN</td>\n",
       "      <td>f</td>\n",
       "      <td>NaN</td>\n",
       "      <td>NaN</td>\n",
       "      <td>NaN</td>\n",
       "      <td>NaN</td>\n",
       "      <td>NaN</td>\n",
       "      <td>NaN</td>\n",
       "    </tr>\n",
       "    <tr>\n",
       "      <th>1</th>\n",
       "      <td>ffffac55ee02a49d1abc87ba6fc61135</td>\n",
       "      <td>f</td>\n",
       "      <td>f</td>\n",
       "      <td>t</td>\n",
       "      <td>t</td>\n",
       "      <td>f</td>\n",
       "      <td>t</td>\n",
       "      <td>f</td>\n",
       "      <td>f</td>\n",
       "      <td>57.0</td>\n",
       "      <td>0.0</td>\n",
       "      <td>7.0</td>\n",
       "    </tr>\n",
       "    <tr>\n",
       "      <th>2</th>\n",
       "      <td>ffff97ed93720407d70a2787475932b0</td>\n",
       "      <td>f</td>\n",
       "      <td>f</td>\n",
       "      <td>t</td>\n",
       "      <td>t</td>\n",
       "      <td>t</td>\n",
       "      <td>t</td>\n",
       "      <td>t</td>\n",
       "      <td>f</td>\n",
       "      <td>100.0</td>\n",
       "      <td>0.0</td>\n",
       "      <td>3.0</td>\n",
       "    </tr>\n",
       "    <tr>\n",
       "      <th>3</th>\n",
       "      <td>ffff418bb42fad24347527ad96100f81</td>\n",
       "      <td>f</td>\n",
       "      <td>f</td>\n",
       "      <td>f</td>\n",
       "      <td>t</td>\n",
       "      <td>t</td>\n",
       "      <td>f</td>\n",
       "      <td>f</td>\n",
       "      <td>f</td>\n",
       "      <td>100.0</td>\n",
       "      <td>0.0</td>\n",
       "      <td>1.0</td>\n",
       "    </tr>\n",
       "    <tr>\n",
       "      <th>4</th>\n",
       "      <td>ffff2d9c769c8fb5335e949c615425eb</td>\n",
       "      <td>t</td>\n",
       "      <td>t</td>\n",
       "      <td>t</td>\n",
       "      <td>t</td>\n",
       "      <td>t</td>\n",
       "      <td>f</td>\n",
       "      <td>t</td>\n",
       "      <td>f</td>\n",
       "      <td>63.0</td>\n",
       "      <td>6.0</td>\n",
       "      <td>2.0</td>\n",
       "    </tr>\n",
       "  </tbody>\n",
       "</table>\n",
       "</div>"
      ],
      "text/plain": [
       "                          projectid is_exciting  \\\n",
       "0  ffffc4f85b60efc5b52347df489d0238           f   \n",
       "1  ffffac55ee02a49d1abc87ba6fc61135           f   \n",
       "2  ffff97ed93720407d70a2787475932b0           f   \n",
       "3  ffff418bb42fad24347527ad96100f81           f   \n",
       "4  ffff2d9c769c8fb5335e949c615425eb           t   \n",
       "\n",
       "  at_least_1_teacher_referred_donor fully_funded at_least_1_green_donation  \\\n",
       "0                               NaN            f                       NaN   \n",
       "1                                 f            t                         t   \n",
       "2                                 f            t                         t   \n",
       "3                                 f            f                         t   \n",
       "4                                 t            t                         t   \n",
       "\n",
       "  great_chat three_or_more_non_teacher_referred_donors  \\\n",
       "0          f                                       NaN   \n",
       "1          f                                         t   \n",
       "2          t                                         t   \n",
       "3          t                                         f   \n",
       "4          t                                         f   \n",
       "\n",
       "  one_non_teacher_referred_donor_giving_100_plus  \\\n",
       "0                                            NaN   \n",
       "1                                              f   \n",
       "2                                              t   \n",
       "3                                              f   \n",
       "4                                              t   \n",
       "\n",
       "  donation_from_thoughtful_donor  great_messages_proportion  \\\n",
       "0                            NaN                        NaN   \n",
       "1                              f                       57.0   \n",
       "2                              f                      100.0   \n",
       "3                              f                      100.0   \n",
       "4                              f                       63.0   \n",
       "\n",
       "   teacher_referred_count  non_teacher_referred_count  \n",
       "0                     NaN                         NaN  \n",
       "1                     0.0                         7.0  \n",
       "2                     0.0                         3.0  \n",
       "3                     0.0                         1.0  \n",
       "4                     6.0                         2.0  "
      ]
     },
     "execution_count": 17,
     "metadata": {},
     "output_type": "execute_result"
    }
   ],
   "source": [
    "ldf.head()"
   ]
  },
  {
   "cell_type": "code",
   "execution_count": 22,
   "metadata": {},
   "outputs": [
    {
     "data": {
      "text/plain": [
       "(80.0, 100.0]    116022\n",
       "(-0.1, 20.0]     102855\n",
       "(40.0, 60.0]      98264\n",
       "(60.0, 80.0]      72245\n",
       "(20.0, 40.0]      50101\n",
       "Name: great_messages_proportion, dtype: int64"
      ]
     },
     "execution_count": 22,
     "metadata": {},
     "output_type": "execute_result"
    }
   ],
   "source": [
    "pd.cut(ldf['great_messages_proportion'],5).value_counts()"
   ]
  },
  {
   "cell_type": "code",
   "execution_count": null,
   "metadata": {
    "collapsed": true
   },
   "outputs": [],
   "source": [
    "# Maybe I can use qcut to remove outliers?"
   ]
  },
  {
   "cell_type": "code",
   "execution_count": 31,
   "metadata": {},
   "outputs": [
    {
     "name": "stdout",
     "output_type": "stream",
     "text": [
      "Object `value_counts` not found.\n"
     ]
    }
   ],
   "source": [
    "?value_counts()"
   ]
  },
  {
   "cell_type": "code",
   "execution_count": 38,
   "metadata": {},
   "outputs": [
    {
     "data": {
      "text/plain": [
       "(-0.001, 109.685]         3321\n",
       "(109.685, 122.23]         3323\n",
       "(122.23, 130.18]          3361\n",
       "(130.18, 135.24]          3280\n",
       "(135.24, 139.08]          3324\n",
       "(139.08, 142.099]         3314\n",
       "(142.099, 145.0]          3332\n",
       "(145.0, 147.71]           3314\n",
       "(147.71, 150.06]          3322\n",
       "(150.06, 152.238]         3314\n",
       "(152.238, 154.97]         3336\n",
       "(154.97, 157.26]          3310\n",
       "(157.26, 159.81]          3318\n",
       "(159.81, 162.068]         3318\n",
       "(162.068, 164.92]         3336\n",
       "(164.92, 167.55]          3313\n",
       "(167.55, 170.24]          3314\n",
       "(170.24, 173.0]           3367\n",
       "(173.0, 176.0]            3302\n",
       "(176.0, 178.94]           3351\n",
       "(178.94, 181.96]          3265\n",
       "(181.96, 184.91]          3321\n",
       "(184.91, 187.31]          3326\n",
       "(187.31, 190.47]          3316\n",
       "(190.47, 193.34]          3330\n",
       "(193.34, 196.31]          3306\n",
       "(196.31, 199.16]          3327\n",
       "(199.16, 202.156]         3313\n",
       "(202.156, 205.43]         3325\n",
       "(205.43, 208.54]          3319\n",
       "                          ... \n",
       "(763.36, 773.88]          3304\n",
       "(773.88, 784.07]          3327\n",
       "(784.07, 794.089]         3310\n",
       "(794.089, 803.74]         3386\n",
       "(803.74, 812.37]          3257\n",
       "(812.37, 821.54]          3328\n",
       "(821.54, 831.0]           3319\n",
       "(831.0, 838.67]           3353\n",
       "(838.67, 845.488]         3280\n",
       "(845.488, 853.98]         3699\n",
       "(853.98, 862.918]         2942\n",
       "(862.918, 876.793]        3321\n",
       "(876.793, 889.948]        3320\n",
       "(889.948, 901.37]         3322\n",
       "(901.37, 913.0]           3321\n",
       "(913.0, 923.98]           3331\n",
       "(923.98, 940.257]         3308\n",
       "(940.257, 969.0]          3341\n",
       "(969.0, 1008.907]         3300\n",
       "(1008.907, 1076.02]       3322\n",
       "(1076.02, 1161.954]       3319\n",
       "(1161.954, 1264.98]       3325\n",
       "(1264.98, 1400.25]        3317\n",
       "(1400.25, 1552.5]         3336\n",
       "(1552.5, 1696.86]         3306\n",
       "(1696.86, 1924.19]        3321\n",
       "(1924.19, 2097.033]       3318\n",
       "(2097.033, 2387.903]      3321\n",
       "(2387.903, 3507.628]      3320\n",
       "(3507.628, 10250017.0]    3321\n",
       "Name: total_price_excluding_optional_support, Length: 200, dtype: int64"
      ]
     },
     "execution_count": 38,
     "metadata": {},
     "output_type": "execute_result"
    }
   ],
   "source": [
    "pd.qcut(df['total_price_excluding_optional_support'],200).value_counts(sort = False)"
   ]
  },
  {
   "cell_type": "code",
   "execution_count": 23,
   "metadata": {
    "collapsed": true
   },
   "outputs": [],
   "source": [
    "?pd.qcut"
   ]
  },
  {
   "cell_type": "code",
   "execution_count": null,
   "metadata": {
    "collapsed": true
   },
   "outputs": [],
   "source": []
  },
  {
   "cell_type": "code",
   "execution_count": null,
   "metadata": {
    "collapsed": true
   },
   "outputs": [],
   "source": []
  },
  {
   "cell_type": "code",
   "execution_count": null,
   "metadata": {
    "collapsed": true
   },
   "outputs": [],
   "source": []
  }
 ],
 "metadata": {
  "kernelspec": {
   "display_name": "Python 3",
   "language": "python",
   "name": "python3"
  },
  "language_info": {
   "codemirror_mode": {
    "name": "ipython",
    "version": 3
   },
   "file_extension": ".py",
   "mimetype": "text/x-python",
   "name": "python",
   "nbconvert_exporter": "python",
   "pygments_lexer": "ipython3",
   "version": "3.6.3"
  }
 },
 "nbformat": 4,
 "nbformat_minor": 2
}

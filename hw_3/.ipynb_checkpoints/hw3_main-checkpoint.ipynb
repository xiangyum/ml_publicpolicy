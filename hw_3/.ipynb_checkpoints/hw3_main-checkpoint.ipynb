{
 "cells": [
  {
   "cell_type": "code",
   "execution_count": 1,
   "metadata": {
    "collapsed": true
   },
   "outputs": [],
   "source": [
    "import pandas as pd\n",
    "import numpy as np\n",
    "import seaborn as sns\n",
    "import matplotlib.pyplot as plt"
   ]
  },
  {
   "cell_type": "markdown",
   "metadata": {},
   "source": [
    "# Assignment 3: Improving the Pipeline"
   ]
  },
  {
   "cell_type": "markdown",
   "metadata": {},
   "source": [
    "## Things to fix in my pipeline\n",
    "1. ~~A way to read different types of data.~~\n",
    "2. ~~Make it so that the plotting functions have a title.~~\n",
    "3. A pre-processing function that handles outliers.\n",
    "4. ~~A function that discretizes continuous features,~~ and ~~one that turns a categorical variable into dummies.~~\n",
    "5. ~~Add more classifiers to the pipeline~~\n",
    "    * Added logit, KNN, decision trees, SVM, random forests, naive bayes, and gradient boostered trees.\n",
    "6. ~~Experiment with different parameters for these classifiers.~~\n",
    "7. ~~Add additional evaluation metrics.~~\n",
    "8. Create temporal validation function."
   ]
  },
  {
   "cell_type": "markdown",
   "metadata": {},
   "source": [
    "## Analysis"
   ]
  },
  {
   "cell_type": "markdown",
   "metadata": {},
   "source": [
    "First, we need to pre-process the data set. We begin for filtering the data for the years we're interested in, 2011-2013. Then, we create the outcome labels we're interested in (whether or not a project got fully funded)."
   ]
  },
  {
   "cell_type": "code",
   "execution_count": 2,
   "metadata": {},
   "outputs": [],
   "source": [
    "import pipeline_v2 as pxy"
   ]
  },
  {
   "cell_type": "code",
   "execution_count": 3,
   "metadata": {
    "collapsed": true
   },
   "outputs": [],
   "source": [
    "df = pxy.read_data(\"projects.csv\", \"csv\")"
   ]
  },
  {
   "cell_type": "code",
   "execution_count": 23,
   "metadata": {
    "collapsed": true
   },
   "outputs": [],
   "source": [
    "ldf = pxy.read_data(\"outcomes.csv\", \"csv\")"
   ]
  },
  {
   "cell_type": "code",
   "execution_count": 8,
   "metadata": {},
   "outputs": [],
   "source": [
    "df['year_dt'] = pxy.create_datetime(df, 'date_posted')"
   ]
  },
  {
   "cell_type": "code",
   "execution_count": 9,
   "metadata": {
    "collapsed": true
   },
   "outputs": [],
   "source": [
    "df['year_posted'] = pxy.retrieve_year(df, 'year_dt')"
   ]
  },
  {
   "cell_type": "code",
   "execution_count": 10,
   "metadata": {
    "collapsed": true
   },
   "outputs": [],
   "source": [
    "# filter for data from 2011-2013\n",
    "df2 = df.loc[(df['year_posted']>2010) & (df['year_posted']<2014),:]"
   ]
  },
  {
   "cell_type": "code",
   "execution_count": 28,
   "metadata": {
    "collapsed": true
   },
   "outputs": [],
   "source": [
    "def left_merge(df_left, df_right, merge_column):\n",
    "    return pd.merge(df_left, df_right, how = 'left', on = merge_column)"
   ]
  },
  {
   "cell_type": "code",
   "execution_count": null,
   "metadata": {
    "collapsed": true
   },
   "outputs": [],
   "source": [
    "maindata = left_merge(df, )"
   ]
  },
  {
   "cell_type": "code",
   "execution_count": 18,
   "metadata": {},
   "outputs": [
    {
     "data": {
      "text/plain": [
       "t    430683\n",
       "f    188643\n",
       "Name: fully_funded, dtype: int64"
      ]
     },
     "execution_count": 18,
     "metadata": {},
     "output_type": "execute_result"
    }
   ],
   "source": [
    "ldf['fully_funded'].value_counts()"
   ]
  },
  {
   "cell_type": "code",
   "execution_count": 24,
   "metadata": {
    "collapsed": true
   },
   "outputs": [],
   "source": [
    "ldf2 = pxy.take_sample(ldf, 0.05).reset_index()"
   ]
  },
  {
   "cell_type": "code",
   "execution_count": 26,
   "metadata": {},
   "outputs": [],
   "source": [
    "ldf2['true_labs'] = np.nan\n",
    "for i in range(0, len(ldf2)):\n",
    "    if ldf2.loc[i,'fully_funded'] == \"t\":\n",
    "        ldf2.loc[i,'true_labs'] = 1\n",
    "    if ldf2.loc[i,'fully_funded'] == \"f\":\n",
    "        ldf2.loc[i,'true_labs'] = 0"
   ]
  },
  {
   "cell_type": "code",
   "execution_count": null,
   "metadata": {
    "collapsed": true
   },
   "outputs": [],
   "source": []
  }
 ],
 "metadata": {
  "kernelspec": {
   "display_name": "Python 3",
   "language": "python",
   "name": "python3"
  },
  "language_info": {
   "codemirror_mode": {
    "name": "ipython",
    "version": 3
   },
   "file_extension": ".py",
   "mimetype": "text/x-python",
   "name": "python",
   "nbconvert_exporter": "python",
   "pygments_lexer": "ipython3",
   "version": "3.6.3"
  }
 },
 "nbformat": 4,
 "nbformat_minor": 2
}

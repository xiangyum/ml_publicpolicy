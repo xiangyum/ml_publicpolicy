{
 "cells": [
  {
   "cell_type": "markdown",
   "metadata": {},
   "source": [
    "# Lab 4: Logistic Regression, SVM, Cross Validation\n",
    "In this lab we will \n",
    "1. get some more practice with classification methods(Logistic Regression and Support Vector Machines)\n",
    "2. explore validation methods that we covered in class this week and last.\n",
    "\n",
    "We'll use the credit data from Assignment 2 for this lab."
   ]
  },
  {
   "cell_type": "markdown",
   "metadata": {},
   "source": [
    "## Import libraries"
   ]
  },
  {
   "cell_type": "code",
   "execution_count": 1,
   "metadata": {
    "collapsed": true
   },
   "outputs": [],
   "source": [
    "import numpy as np\n",
    "import matplotlib.pyplot as plt\n",
    "import seaborn as sns\n",
    "import pandas as pd\n",
    "from sklearn.model_selection import train_test_split, KFold\n",
    "%matplotlib inline"
   ]
  },
  {
   "cell_type": "code",
   "execution_count": 2,
   "metadata": {
    "collapsed": true
   },
   "outputs": [],
   "source": [
    "# Load data\n",
    "fname = 'credit-data.csv'\n",
    "df = pd.read_csv(fname)"
   ]
  },
  {
   "cell_type": "code",
   "execution_count": 3,
   "metadata": {},
   "outputs": [
    {
     "data": {
      "text/plain": [
       "PersonID                                41016\n",
       "SeriousDlqin2yrs                        41016\n",
       "RevolvingUtilizationOfUnsecuredLines    41016\n",
       "age                                     41016\n",
       "zipcode                                 41016\n",
       "NumberOfTime30-59DaysPastDueNotWorse    41016\n",
       "DebtRatio                               41016\n",
       "MonthlyIncome                           33042\n",
       "NumberOfOpenCreditLinesAndLoans         41016\n",
       "NumberOfTimes90DaysLate                 41016\n",
       "NumberRealEstateLoansOrLines            41016\n",
       "NumberOfTime60-89DaysPastDueNotWorse    41016\n",
       "NumberOfDependents                      39979\n",
       "dtype: int64"
      ]
     },
     "execution_count": 3,
     "metadata": {},
     "output_type": "execute_result"
    }
   ],
   "source": [
    "# get counts\n",
    "df.count()"
   ]
  },
  {
   "cell_type": "markdown",
   "metadata": {},
   "source": [
    "# 1) Cleaning the dataset\n",
    "A decent chunk of the columns are missing values. If you're using features that are missing values, you need to do something to take care of them(IE: drop those rows, fill in the missing value, add a new category that corresponds to missing value, etc).\n",
    "\n",
    "Remember that a lot of these features are not operating at the same magnitude. A feature like \n",
    "Monthly Income has values on the order of $10^3$ while a feature like Number of times 90 days late is on the order of 10. So do some kind of feature normalization or bucketing to account for this.\n",
    "\n",
    "## Important\n",
    "Some data cleaning can happen on the entire data set and some needs to happen for each training and test set separately. You can write the code/function to do this here but you should not do this globally on the entire dataset. For example:\n",
    "* imputation: any imputation requiring computation (mean or median for example) on a given data set should take place for each training set separately.\n",
    "* discretization: same as imputation."
   ]
  },
  {
   "cell_type": "code",
   "execution_count": 4,
   "metadata": {
    "collapsed": true
   },
   "outputs": [],
   "source": [
    "def show_nulls(df):\n",
    "\treturn df.isna().sum().sort_values(ascending=False)\n",
    "\n",
    "def fill_whole_df_with_mean(df):\n",
    "    num_cols = len(df.columns)\n",
    "    for i in range(0, num_cols):\n",
    "        df.iloc[:,i] = fill_col_with_mean(df.iloc[:,i])\n",
    "    return\n",
    "\n",
    "def fill_col_with_mean(df):\n",
    "\treturn df.fillna(df.mean())"
   ]
  },
  {
   "cell_type": "code",
   "execution_count": 5,
   "metadata": {},
   "outputs": [
    {
     "data": {
      "text/plain": [
       "MonthlyIncome                           7974\n",
       "NumberOfDependents                      1037\n",
       "NumberOfTime60-89DaysPastDueNotWorse       0\n",
       "NumberRealEstateLoansOrLines               0\n",
       "NumberOfTimes90DaysLate                    0\n",
       "NumberOfOpenCreditLinesAndLoans            0\n",
       "DebtRatio                                  0\n",
       "NumberOfTime30-59DaysPastDueNotWorse       0\n",
       "zipcode                                    0\n",
       "age                                        0\n",
       "RevolvingUtilizationOfUnsecuredLines       0\n",
       "SeriousDlqin2yrs                           0\n",
       "PersonID                                   0\n",
       "dtype: int64"
      ]
     },
     "execution_count": 5,
     "metadata": {},
     "output_type": "execute_result"
    }
   ],
   "source": [
    "show_nulls(df)"
   ]
  },
  {
   "cell_type": "code",
   "execution_count": 6,
   "metadata": {
    "collapsed": true
   },
   "outputs": [],
   "source": [
    "from sklearn.preprocessing import scale"
   ]
  },
  {
   "cell_type": "code",
   "execution_count": 7,
   "metadata": {},
   "outputs": [
    {
     "name": "stderr",
     "output_type": "stream",
     "text": [
      "/Users/xiangyu/anaconda3/lib/python3.6/site-packages/sklearn/utils/validation.py:475: DataConversionWarning: Data with input dtype int64 was converted to float64 by the scale function.\n",
      "  warnings.warn(msg, DataConversionWarning)\n"
     ]
    },
    {
     "data": {
      "text/plain": [
       "array([ 0.22489849,  1.309887  , -0.04634863, ...,  1.51332234,\n",
       "        1.37769878,  0.5639574 ])"
      ]
     },
     "execution_count": 7,
     "metadata": {},
     "output_type": "execute_result"
    }
   ],
   "source": [
    "scale(df['age'])"
   ]
  },
  {
   "cell_type": "markdown",
   "metadata": {},
   "source": [
    "## Split the data \n",
    "Split the data into a training set and a test set. We're assuming here that there is no time dimension here so we'll split the data by rows and not use any time variables into account."
   ]
  },
  {
   "cell_type": "code",
   "execution_count": 58,
   "metadata": {
    "collapsed": true
   },
   "outputs": [],
   "source": [
    "from sklearn.model_selection import train_test_split\n",
    "features = ['MonthlyIncome', 'DebtRatio', 'age', 'NumberOfTimes90DaysLate','NumberOfOpenCreditLinesAndLoans'] # Pick the features you want\n",
    "df_features = df[features]\n",
    "df_target = df['SeriousDlqin2yrs']\n",
    "X_train, X_test, Y_train, Y_test = train_test_split(df_features, df_target, test_size=0.2)"
   ]
  },
  {
   "cell_type": "code",
   "execution_count": 59,
   "metadata": {},
   "outputs": [
    {
     "name": "stderr",
     "output_type": "stream",
     "text": [
      "/Users/xiangyu/anaconda3/lib/python3.6/site-packages/pandas/core/indexing.py:537: SettingWithCopyWarning: \n",
      "A value is trying to be set on a copy of a slice from a DataFrame.\n",
      "Try using .loc[row_indexer,col_indexer] = value instead\n",
      "\n",
      "See the caveats in the documentation: http://pandas.pydata.org/pandas-docs/stable/indexing.html#indexing-view-versus-copy\n",
      "  self.obj[item] = s\n"
     ]
    }
   ],
   "source": [
    "fill_whole_df_with_mean(X_train)\n",
    "fill_whole_df_with_mean(X_test)"
   ]
  },
  {
   "cell_type": "code",
   "execution_count": 60,
   "metadata": {
    "collapsed": true
   },
   "outputs": [],
   "source": [
    "from sklearn.preprocessing import scale\n",
    "def scale_a_df(df, features_list):\n",
    "    temp_scaled = scale(df[features_list])\n",
    "    #return a DF\n",
    "    return pd.DataFrame(temp_scaled, columns= df.columns)"
   ]
  },
  {
   "cell_type": "code",
   "execution_count": 61,
   "metadata": {
    "collapsed": true
   },
   "outputs": [],
   "source": [
    "X_train = scale_a_df(X_train, features)"
   ]
  },
  {
   "cell_type": "code",
   "execution_count": 62,
   "metadata": {
    "collapsed": true
   },
   "outputs": [],
   "source": [
    "X_test = scale_a_df(X_test, features)"
   ]
  },
  {
   "cell_type": "markdown",
   "metadata": {},
   "source": [
    "# 2) Applying Logistic Regression"
   ]
  },
  {
   "cell_type": "markdown",
   "metadata": {},
   "source": [
    "Ref: http://scikit-learn.org/stable/modules/generated/sklearn.linear_model.LogisticRegression.html\n",
    "\n",
    "You'll notice that LogisticRegression takes a ton of parameters. We'll play around with the \"penalty\" and \"C\" parameters.\n",
    "If we set the penalty parameter to ['l2'](http://mathworld.wolfram.com/L2-Norm.html), sklearn's LogisticRegression model solves the following minimization problem:\n",
    "\n",
    "$$ \\min_{\\beta} ||\\beta||_2 + C \\sum_{i} \\log ( -y_i (X_i^T \\beta) +1)$$\n",
    "\n",
    "Similarly, if we set the penalty parameter to ['l1'](http://mathworld.wolfram.com/L2-Norm.html), LogisticRegression will solve the following minimization problem:\n",
    "\n",
    "$$\\min_{\\beta} ||\\beta||_1 + C \\sum_{i} \\log ( -y_i (X_i^T \\beta) +1)$$\n",
    "\n",
    "where $$||\\beta||_2 = \\sqrt { \\sum_{i} \\beta_i^2 }$$ and $$||\\beta||_1 =  \\sum_{i} | \\beta_i | $$ \n",
    "\n",
    "Try running logistic regression with both L1 and L2 penalties and a mix of C values with K-fold cross validation on the training set. If the K-fold cross validation takes too long, consider using a smaller subset of the data. Write a function to perform the cross validation over both penalties, and a range of C values (something like $10^{-2}, 10^{-1}, 1, 10, 10^2)$ is reasonable\n",
    "\n",
    "Write a function that performs [KFold cross validation](http://scikit-learn.org/stable/modules/generated/sklearn.model_selection.KFold.html) over the training set. This function\n",
    "should loop over penalty('l1' and 'l2') and C values.\n",
    "\n",
    "In this cross validation function, you should only be dealing with the training set. Below is a sample of how I might structure my cross validation + parameter search loop."
   ]
  },
  {
   "cell_type": "code",
   "execution_count": 13,
   "metadata": {},
   "outputs": [
    {
     "name": "stdout",
     "output_type": "stream",
     "text": [
      "Model with params: 0.001 | MSE: 0.09\n",
      "Model with params: 0.01 | MSE: 0.09\n",
      "Model with params: 0.1 | MSE: 0.09\n",
      "Model with params: 1 | MSE: 0.09\n",
      "Model with params: 10 | MSE: 0.09\n",
      "Model with params: 100 | MSE: 0.09\n"
     ]
    }
   ],
   "source": [
    "# Here is an example of how I'd do this for linear regression\n",
    "from sklearn.linear_model import Ridge\n",
    "from sklearn.metrics import mean_squared_error # to evaluate how good/bad my model predictions are\n",
    "N = 1000\n",
    "X = np.random.random((N, 10))\n",
    "Y = np.random.random(N)\n",
    "X_train, X_test, y_train, y_test = train_test_split(X, Y, test_size=0.2)\n",
    "alphas = [10**i for i in range(-3, 3)]\n",
    "splits = 5\n",
    "kf = KFold(n_splits=splits)\n",
    "\n",
    "results = {} # dict of model params -> model performance over the KFold cross validation\n",
    "for fold_num, (train_idx, test_idx) in enumerate(kf.split(X_train)):\n",
    "    x_split_train, x_split_test = X_train[train_idx], X_train[test_idx]\n",
    "    y_split_train, y_split_test = y_train[train_idx], y_train[test_idx]\n",
    "    \n",
    "    for a in alphas:\n",
    "        linreg = Ridge(alpha=a)\n",
    "        linreg.fit(x_split_train, y_split_train)\n",
    "        y_pred = linreg.predict(x_split_test)\n",
    "        model_key = (a, ) # this will be a longer tuple for things with more parameters\n",
    "        results[a] =  results.get(a, 0) + mean_squared_error(y_pred, y_split_test) / splits\n",
    "\n",
    "for model, model_perf in results.items():\n",
    "    # the MSE here is meaningless b/c we're fitting random noise to random noise.\n",
    "    print(\"Model with params: {} | MSE: {:.2f}\".format(model, model_perf))"
   ]
  },
  {
   "cell_type": "markdown",
   "metadata": {},
   "source": [
    "For regression tasks, mean_squared_error is a sensible metric to evaluate on. \n",
    "\n",
    "For classification, we might not want to use accuracy if our dataset is a unbalanced. Instead we might use [roc_auc_score](http://scikit-learn.org/stable/modules/generated/sklearn.metrics.roc_auc_score.html#sklearn.metrics.roc_auc_score) or precision or recall at a certain threshold. Note that regardless of which you use, you should call predict_proba from the LogisticRegression object."
   ]
  },
  {
   "cell_type": "markdown",
   "metadata": {},
   "source": [
    "Write a function to do do cross validation over the parameters penalty and C with LogisticRegresion."
   ]
  },
  {
   "cell_type": "code",
   "execution_count": 87,
   "metadata": {
    "collapsed": true
   },
   "outputs": [],
   "source": [
    "\n",
    "# cross validate + optimization for parameters\n",
    "\n",
    "from sklearn.linear_model import LogisticRegression\n",
    "from sklearn.metrics import roc_auc_score\n",
    "from sklearn.model_selection import KFold\n",
    "\n",
    "def custom_predictions(clf, threshold = 0.7, x_test = X_test):\n",
    "    # generate array with predicted probabilities\n",
    "    pred_array = clf.predict_proba(x_test)\n",
    "\n",
    "    # initialize an empty array for the predictions\n",
    "    pred_generated = np.array([])\n",
    "\n",
    "    # predict the first entry\n",
    "    if pred_array[0][0] >= threshold:\n",
    "        pred_generated = np.hstack([pred_generated, 0])\n",
    "    else:\n",
    "        pred_generated = np.hstack([pred_generated, 1])\n",
    "\n",
    "    # loops over the rest of the array\n",
    "    for i in range(1,len(x_test)):\n",
    "        if pred_array[i][0] >= threshold:\n",
    "            pred_generated = np.vstack([pred_generated, 0])\n",
    "        else:\n",
    "            pred_generated = np.vstack([pred_generated, 1])\n",
    "\n",
    "    # return an np.array\n",
    "    return  pred_generated\n",
    "\n",
    "def precision_arr(y_pred, y_true):\n",
    "    tp = 0\n",
    "    fp = 0\n",
    "    for i in range(0, len(y_pred)):\n",
    "        if y_pred[i] == 1:\n",
    "            if y_true.iloc[i] == 1:\n",
    "                tp += 1\n",
    "            else:\n",
    "                fp += 1\n",
    "    #calculate & return precision\n",
    "    if tp == 0:\n",
    "        return 0\n",
    "    else:\n",
    "        return (tp/(tp+fp))\n",
    "\n",
    "def recall_arr(y_pred, y_true):\n",
    "    #initialize true positives and false negatives\n",
    "    tp = 0\n",
    "    fn = 0\n",
    "\n",
    "    for i in range(0, len(y_pred)):\n",
    "        # update tp if i is a true positive\n",
    "        if y_pred[i] == 1 & y_true.iloc[i] == 1:\n",
    "            tp += 1\n",
    "\n",
    "        # update fn if i is a false negative\n",
    "        if y_pred[i] == 0 & y_true.iloc[i] == 1:\n",
    "            fn += 1\n",
    "\n",
    "    if tp+fn == 0:\n",
    "        return 0\n",
    "    else:\n",
    "        return (tp/(tp+fn))\n",
    "\n",
    "def cv_LR(X_train = X_train, Y_train = Y_train, pred_threshold = 0.5, penalty_list = ['l1', 'l2'], cvalues_list = [10**-5, 10**-2, 10**-1, 1, 10, 10**2, 10**5], k_folds_num = 5):\n",
    "   \n",
    "    # initialize KFolds\n",
    "    kf = KFold(n_splits = k_folds_num)\n",
    "\n",
    "    # dictionary of results\n",
    "    results_LR = {}\n",
    "\n",
    "    for fold_numb, (train_idx, test_idx) in enumerate(kf.split(X_train)):\n",
    "\n",
    "        # split into k-folds\n",
    "        x_split_train, x_split_test = X_train.iloc[train_idx], X_train.iloc[test_idx]\n",
    "        y_split_train, y_split_test = Y_train.iloc[train_idx], Y_train.iloc[test_idx]\n",
    "\n",
    "        # test for each combination of parameters\n",
    "        for c_para in cvalues_list:\n",
    "            for penalty_para in penalty_list:\n",
    "\n",
    "                #initialize logistic regression object with combination of parameters\n",
    "                logreg = LogisticRegression(penalty = penalty_para, C = c_para)\n",
    "\n",
    "                #fit the algorithm with data\n",
    "                logreg.fit(x_split_train, y_split_train)\n",
    "\n",
    "                # make predictions. for now, I'll just use the default .predict, which sets the threshold at 0.5\n",
    "                y_pred = custom_predictions(logreg, threshold = pred_threshold, x_test = x_split_test)\n",
    "\n",
    "                # write evaluation results to dictionary\n",
    "                precision_model_key = (c_para,penalty_para,\"Precision\")\n",
    "                recall_model_key = (c_para,penalty_para, \"Recall\")\n",
    "\n",
    "                # dict.get(key[, default]) this reports the value for the given key, returning a default value of 0 if it's absent\n",
    "                results_LR[precision_model_key] =  results_LR.get(precision_model_key, 0) + precision_arr(y_pred, y_split_test)/k_folds_num\n",
    "                results_LR[recall_model_key] = results_LR.get(recall_model_key, 0) + recall_arr(y_pred, y_split_test)/k_folds_num\n",
    "\n",
    "    #print results\n",
    "    for model, model_perf in results_LR.items():\n",
    "        print(\"Model parameter & evaluation metric: {} | score: {:.5f}\".format(model, model_perf))\n",
    "\n",
    "    return"
   ]
  },
  {
   "cell_type": "code",
   "execution_count": 88,
   "metadata": {},
   "outputs": [
    {
     "name": "stdout",
     "output_type": "stream",
     "text": [
      "Model parameter & evaluation metric: (1e-05, 'l1', 'Precision') | score: 0.00000\n",
      "Model parameter & evaluation metric: (1e-05, 'l1', 'Recall') | score: 0.00000\n",
      "Model parameter & evaluation metric: (1e-05, 'l2', 'Precision') | score: 0.82344\n",
      "Model parameter & evaluation metric: (1e-05, 'l2', 'Recall') | score: 1.00000\n",
      "Model parameter & evaluation metric: (0.01, 'l1', 'Precision') | score: 0.80983\n",
      "Model parameter & evaluation metric: (0.01, 'l1', 'Recall') | score: 1.00000\n",
      "Model parameter & evaluation metric: (0.01, 'l2', 'Precision') | score: 0.81592\n",
      "Model parameter & evaluation metric: (0.01, 'l2', 'Recall') | score: 1.00000\n",
      "Model parameter & evaluation metric: (0.1, 'l1', 'Precision') | score: 0.83659\n",
      "Model parameter & evaluation metric: (0.1, 'l1', 'Recall') | score: 1.00000\n",
      "Model parameter & evaluation metric: (0.1, 'l2', 'Precision') | score: 0.83533\n",
      "Model parameter & evaluation metric: (0.1, 'l2', 'Recall') | score: 1.00000\n",
      "Model parameter & evaluation metric: (1, 'l1', 'Precision') | score: 0.84108\n",
      "Model parameter & evaluation metric: (1, 'l1', 'Recall') | score: 1.00000\n",
      "Model parameter & evaluation metric: (1, 'l2', 'Precision') | score: 0.84108\n",
      "Model parameter & evaluation metric: (1, 'l2', 'Recall') | score: 1.00000\n",
      "Model parameter & evaluation metric: (10, 'l1', 'Precision') | score: 0.83476\n",
      "Model parameter & evaluation metric: (10, 'l1', 'Recall') | score: 1.00000\n",
      "Model parameter & evaluation metric: (10, 'l2', 'Precision') | score: 0.83476\n",
      "Model parameter & evaluation metric: (10, 'l2', 'Recall') | score: 1.00000\n",
      "Model parameter & evaluation metric: (100, 'l1', 'Precision') | score: 0.83476\n",
      "Model parameter & evaluation metric: (100, 'l1', 'Recall') | score: 1.00000\n",
      "Model parameter & evaluation metric: (100, 'l2', 'Precision') | score: 0.83476\n",
      "Model parameter & evaluation metric: (100, 'l2', 'Recall') | score: 1.00000\n",
      "Model parameter & evaluation metric: (100000, 'l1', 'Precision') | score: 0.83476\n",
      "Model parameter & evaluation metric: (100000, 'l1', 'Recall') | score: 1.00000\n",
      "Model parameter & evaluation metric: (100000, 'l2', 'Precision') | score: 0.83476\n",
      "Model parameter & evaluation metric: (100000, 'l2', 'Recall') | score: 1.00000\n"
     ]
    }
   ],
   "source": [
    "cv_LR()"
   ]
  },
  {
   "cell_type": "markdown",
   "metadata": {},
   "source": [
    "What combination of C value and penalty gives the highest cross validation score? Now create new models that uses the penalty and C-value that performed the best(according to whatever criteria you decided on). Fit this fresh model on the entire training set, and evaluate it on the test set."
   ]
  },
  {
   "cell_type": "code",
   "execution_count": 92,
   "metadata": {},
   "outputs": [
    {
     "name": "stdout",
     "output_type": "stream",
     "text": [
      "0.8389830508474576\n",
      "1.0\n",
      "0.8409607314588512\n"
     ]
    }
   ],
   "source": [
    "# C of 1 with L1 regularization seems to perform well, so let's choose that.\n",
    "logreg = LogisticRegression(penalty = \"l1\", C = 1)\n",
    "logreg.fit(X_train, Y_train)\n",
    "y_pred = logreg.predict(X_test)\n",
    "print(precision_arr(y_pred, Y_test))\n",
    "print(recall_arr(y_pred, Y_test))\n",
    "print(roc_auc_score(y_pred, Y_test))"
   ]
  },
  {
   "cell_type": "markdown",
   "metadata": {},
   "source": [
    "To really see the difference between L1 and L2 regularization, we need to take a closer look at the models they produced. Plot a histogram of the weight values of LogisticRegression models for each C value. You can access these weight coefficients via the coef\\_ attribute in LogisticRegression. Do you notice anything interesting happening as the C value varies?"
   ]
  },
  {
   "cell_type": "code",
   "execution_count": null,
   "metadata": {},
   "outputs": [],
   "source": [
    "# Let's see how coefficients for L1 regularization change as C value varies\n",
    "# Now, for L2 Regularization\n",
    "c_values_list = [10**i for i in range(-5, 5)]\n",
    "all_coefs = np.array([])\n",
    "i = 0\n",
    "for c_value in c_values_list:\n",
    "    if i == 0:\n",
    "        logreg = LogisticRegression(penalty = \"l1\", C = c_value)\n",
    "        logreg.fit(X_train, Y_train)\n",
    "        all_coefs = np.hstack([all_coefs,logreg.coef_[0]])\n",
    "    else:\n",
    "        logreg = LogisticRegression(penalty = \"l1\", C = c_value)\n",
    "        logreg.fit(X_train, Y_train)\n",
    "        all_coefs = np.vstack([all_coefs,logreg.coef_[0]])\n",
    "    i += 1\n",
    "pd.DataFrame(all_coefs)"
   ]
  },
  {
   "cell_type": "code",
   "execution_count": null,
   "metadata": {},
   "outputs": [],
   "source": [
    "# transform to DF\n",
    "coefs_df = pd.DataFrame(all_coefs)\n",
    "coefs_df['c_value'] = c_values_list\n",
    "\n",
    "# plot using seaborn\n",
    "import seaborn as sns\n",
    "sns.pointplot(x='c_value', y = 0, data = coefs_df)\n",
    "sns.pointplot(x='c_value', y = 1, data = coefs_df)\n",
    "sns.pointplot(x='c_value', y = 2, data = coefs_df)\n",
    "sns.pointplot(x='c_value', y = 3, data = coefs_df)\n",
    "sns.pointplot(x='c_value', y = 4, data = coefs_df)"
   ]
  },
  {
   "cell_type": "code",
   "execution_count": null,
   "metadata": {},
   "outputs": [],
   "source": [
    "# Now, for L2 Regularization\n",
    "c_values_list = [10**i for i in range(-5, 5)]\n",
    "all_coefs = np.array([])\n",
    "i = 0\n",
    "for c_value in c_values_list:\n",
    "    if i == 0:\n",
    "        logreg = LogisticRegression(penalty = \"l2\", C = c_value)\n",
    "        logreg.fit(X_train, Y_train)\n",
    "        all_coefs = np.hstack([all_coefs,logreg.coef_[0]])\n",
    "    else:\n",
    "        logreg = LogisticRegression(penalty = \"l2\", C = c_value)\n",
    "        logreg.fit(X_train, Y_train)\n",
    "        all_coefs = np.vstack([all_coefs,logreg.coef_[0]])\n",
    "    i += 1\n",
    "pd.DataFrame(all_coefs)"
   ]
  },
  {
   "cell_type": "code",
   "execution_count": null,
   "metadata": {},
   "outputs": [],
   "source": [
    "# transform to DF\n",
    "coefs_df = pd.DataFrame(all_coefs)\n",
    "coefs_df['c_value'] = c_values_list\n",
    "\n",
    "# plot using seaborn\n",
    "import seaborn as sns\n",
    "sns.pointplot(x='c_value', y = 0, data = coefs_df)\n",
    "sns.pointplot(x='c_value', y = 1, data = coefs_df)\n",
    "sns.pointplot(x='c_value', y = 2, data = coefs_df)\n",
    "sns.pointplot(x='c_value', y = 3, data = coefs_df)\n",
    "sns.pointplot(x='c_value', y = 4, data = coefs_df)"
   ]
  },
  {
   "cell_type": "markdown",
   "metadata": {},
   "source": [
    "It appears that the coefficients converge to zero as the C decreases."
   ]
  },
  {
   "cell_type": "markdown",
   "metadata": {},
   "source": [
    "You should see that the number of weight coefficients set to 0 in L1 regularized Logistic Regression increases with smaller C values. Revisit the minimization problems: you can think of the \"C\" parameter as a way of specifying the tradeoff between the L1/L2 penalty and the negative log likelihood of the model. A small value of \"C\" means that we are assigning greater weight to the L1/L2 penalty(equivalently downweighting the negative log likelihood).\n",
    "**L1 regularization induces sparse models** - this can be a very useful if you suspect your classification target variable can be explained by few features."
   ]
  },
  {
   "cell_type": "markdown",
   "metadata": {},
   "source": [
    "Recall that a LogisticRegression model has a predict_proba function, so we can change our\n",
    "classification threshold as we please. For tasks where a given class is extremely rare (IE: medical diagnoesis), you might have a very small number of positive examples(IE: patient has cancer). And you can artificially get a very high classification accuracy by simply predicting \"No Cancer\" for each patient. So instead of just using classification accuracy to see how good our model is, we'll consider precision and recall.\n",
    "\n",
    "As a reminder, precision is defined as:\n",
    "$$\\text{precision} = \\frac{TP}{TP + FP} $$\n",
    "and recall is defined as:\n",
    "$$ \\text{recall} = \\frac{TP}{TP + FN} $$\n",
    "\n",
    "Complete the following functions to compute precision and recall."
   ]
  },
  {
   "cell_type": "code",
   "execution_count": 93,
   "metadata": {
    "collapsed": true
   },
   "outputs": [],
   "source": [
    "def custom_predictions(clf, threshold = 0.7, x_test = X_test, y_test = Y_test):\n",
    "    \n",
    "    # generate array with predicted probabilities\n",
    "    pred_array = clf.predict_proba(x_test)\n",
    "\n",
    "    # initialize an empty array for the predictions\n",
    "    pred_generated = np.array([])\n",
    "\n",
    "    # predict the first entry\n",
    "    if pred_array[0][0] >= threshold:\n",
    "        pred_generated = np.hstack([pred_generated, 0])\n",
    "    else:\n",
    "        pred_generated = np.hstack([pred_generated, 1])\n",
    "\n",
    "    # loops over the rest of the array\n",
    "    for i in range(1,len(x_test)):\n",
    "        if pred_array[i][0] >= threshold:\n",
    "            pred_generated = np.vstack([pred_generated, 0])\n",
    "        else:\n",
    "            pred_generated = np.vstack([pred_generated, 1])\n",
    "\n",
    "    # return an np.array\n",
    "    return  pred_generated"
   ]
  },
  {
   "cell_type": "code",
   "execution_count": 94,
   "metadata": {},
   "outputs": [
    {
     "data": {
      "text/plain": [
       "(array([0., 1.]), array([7843,  361]))"
      ]
     },
     "execution_count": 94,
     "metadata": {},
     "output_type": "execute_result"
    }
   ],
   "source": [
    "pred_df = pd.DataFrame(custom_predictions(logreg, threshold= 0.7))\n",
    "np.unique(pred_df, return_counts= True)"
   ]
  },
  {
   "cell_type": "code",
   "execution_count": 95,
   "metadata": {
    "collapsed": true
   },
   "outputs": [],
   "source": [
    "test = custom_predictions(logreg, threshold= 0.7)"
   ]
  },
  {
   "cell_type": "code",
   "execution_count": 96,
   "metadata": {
    "collapsed": true
   },
   "outputs": [],
   "source": [
    "def precision(y_pred, y_true):\n",
    "    tp = 0\n",
    "    fp = 0\n",
    "    for i in range(0, len(y_pred)):\n",
    "        if y_pred.iloc[i,0] == 1:\n",
    "            if y_true.iloc[i] == 1:\n",
    "                tp += 1\n",
    "            else:\n",
    "                fp += 1\n",
    "    #calculate & return precision\n",
    "    return (tp/(tp+fp))\n",
    "\n",
    "def recall(y_pred, y_true):\n",
    "    #initialize true positives and false negatives\n",
    "    tp = 0\n",
    "    fn = 0\n",
    "\n",
    "    for i in range(0, len(y_pred)):\n",
    "        # update tp if i is a true positive\n",
    "        if y_pred.iloc[i,0] == 1 & y_true.iloc[i] == 1:\n",
    "            tp += 1\n",
    "\n",
    "        # update fn if i is a false negative\n",
    "        if y_pred.iloc[i,0] == 0 & y_true.iloc[i] == 1:\n",
    "            fn += 1\n",
    "\n",
    "    return (tp/(tp+fn))\n"
   ]
  },
  {
   "cell_type": "code",
   "execution_count": 97,
   "metadata": {},
   "outputs": [
    {
     "data": {
      "text/plain": [
       "0.739612188365651"
      ]
     },
     "execution_count": 97,
     "metadata": {},
     "output_type": "execute_result"
    }
   ],
   "source": [
    "precision(pred_df, Y_test)"
   ]
  },
  {
   "cell_type": "code",
   "execution_count": 98,
   "metadata": {},
   "outputs": [
    {
     "data": {
      "text/plain": [
       "1.0"
      ]
     },
     "execution_count": 98,
     "metadata": {},
     "output_type": "execute_result"
    }
   ],
   "source": [
    "recall(pred_df, Y_test)"
   ]
  },
  {
   "cell_type": "markdown",
   "metadata": {},
   "source": [
    "LogisticRegression.predict uses 0.5 as the threshold for predicting True vs False. But a lower/higher probability threshold might give us better results. Try varying the classification probability thresholds and compute the precision and recall values and plot the [ROC curve](http://scikit-learn.org/stable/modules/generated/sklearn.metrics.roc_curve.html) for the LogisticRegression model that performed the best. Also compute the [AUC](http://scikit-learn.org/stable/modules/generated/sklearn.metrics.roc_auc_score.html#sklearn.metrics.roc_auc_score)."
   ]
  },
  {
   "cell_type": "code",
   "execution_count": 99,
   "metadata": {
    "collapsed": true
   },
   "outputs": [],
   "source": [
    "pred_array = custom_predictions(logreg, threshold= 0.7)"
   ]
  },
  {
   "cell_type": "code",
   "execution_count": 100,
   "metadata": {
    "collapsed": true
   },
   "outputs": [],
   "source": [
    "from sklearn.metrics import roc_curve\n",
    "from sklearn.metrics import roc_auc_score\n",
    "import matplotlib.pyplot as plt \n",
    "\n",
    "def plot_roc(pred_y, true_y, randomLine = True):\n",
    "    # generate false postive rate and true positive rate\n",
    "    fpr, tpr, thresholds = roc_curve(pred_y, true_y)\n",
    "    # plot using matplotlib\n",
    "    plt.title('Receiver Operating Characteristic')\n",
    "    plt.plot(fpr,tpr)\n",
    "    if randomLine:\n",
    "        x = [0.0, 1.0]\n",
    "        plt.plot(x, x, linestyle='dashed', color='red', linewidth=2, label='random')\n",
    "    plt.show()\n",
    "    return\n",
    "\n",
    "def print_auc(pred_y, true_y):\n",
    "    print('AUC Score: {}'.format(roc_auc_score(pred_y, true_y)))\n",
    "    return"
   ]
  },
  {
   "cell_type": "code",
   "execution_count": 101,
   "metadata": {
    "collapsed": true
   },
   "outputs": [],
   "source": [
    "def try_thresholds_range(clf, thresh_list, x_test, y_test):\n",
    "    # loop through list of threshold probabilities\n",
    "    for i in thresh_list:     \n",
    "        # generate predictions\n",
    "        pred_y = custom_predictions(clf, threshold = i, x_test = x_test, y_test = y_test)\n",
    "        # turn it into a DF because some of the helper functions I wrote require it\n",
    "        pred_yDF = pd.DataFrame(pred_y)\n",
    "        print('Threshold: {}'.format(i))\n",
    "        print('Recall: {}'.format(recall(pred_yDF, y_test)))\n",
    "        print('Precision: {}'.format(precision(pred_yDF, y_test)))\n",
    "        print_auc(pred_y, y_test)\n",
    "        plot_roc(pred_y, y_test)\n",
    "    return "
   ]
  },
  {
   "cell_type": "code",
   "execution_count": 102,
   "metadata": {
    "collapsed": true
   },
   "outputs": [],
   "source": [
    "threshold_range = [0.5,0.6,0.7,0.8,0.9]"
   ]
  },
  {
   "cell_type": "code",
   "execution_count": 103,
   "metadata": {},
   "outputs": [
    {
     "name": "stdout",
     "output_type": "stream",
     "text": [
      "Threshold: 0.5\n",
      "Recall: 1.0\n",
      "Precision: 0.8389830508474576\n",
      "AUC Score: 0.8409607314588512\n"
     ]
    },
    {
     "data": {
      "image/png": "[encoded data removed]",
      "text/plain": [
       "<Figure size 432x288 with 1 Axes>"
      ]
     },
     "metadata": {},
     "output_type": "display_data"
    },
    {
     "name": "stdout",
     "output_type": "stream",
     "text": [
      "Threshold: 0.6\n",
      "Recall: 1.0\n",
      "Precision: 0.8181818181818182\n",
      "AUC Score: 0.8332520666311362\n"
     ]
    },
    {
     "data": {
      "image/png": "[encoded data removed]",
      "text/plain": [
       "<Figure size 432x288 with 1 Axes>"
      ]
     },
     "metadata": {},
     "output_type": "display_data"
    },
    {
     "name": "stdout",
     "output_type": "stream",
     "text": [
      "Threshold: 0.7\n",
      "Recall: 1.0\n",
      "Precision: 0.739612188365651\n",
      "AUC Score: 0.7995523647425603\n"
     ]
    },
    {
     "data": {
      "image/png": "[encoded data removed]",
      "text/plain": [
       "<Figure size 432x288 with 1 Axes>"
      ]
     },
     "metadata": {},
     "output_type": "display_data"
    },
    {
     "name": "stdout",
     "output_type": "stream",
     "text": [
      "Threshold: 0.8\n",
      "Recall: 1.0\n",
      "Precision: 0.34063745019920316\n",
      "AUC Score: 0.6150411266489882\n"
     ]
    },
    {
     "data": {
      "image/png": "[encoded data removed]",
      "text/plain": [
       "<Figure size 432x288 with 1 Axes>"
      ]
     },
     "metadata": {},
     "output_type": "display_data"
    },
    {
     "name": "stdout",
     "output_type": "stream",
     "text": [
      "Threshold: 0.9\n",
      "Recall: 1.0\n",
      "Precision: 0.1978004956629492\n",
      "AUC Score: 0.5725844583577904\n"
     ]
    },
    {
     "data": {
      "image/png": "[encoded data removed]",
      "text/plain": [
       "<Figure size 432x288 with 1 Axes>"
      ]
     },
     "metadata": {},
     "output_type": "display_data"
    }
   ],
   "source": [
    "try_thresholds_range(logreg, threshold_range, X_test, Y_test)"
   ]
  },
  {
   "cell_type": "markdown",
   "metadata": {},
   "source": [
    "# 3) Applying SVM"
   ]
  },
  {
   "cell_type": "markdown",
   "metadata": {},
   "source": [
    "Ref: http://scikit-learn.org/stable/modules/generated/sklearn.svm.SVC.html\n",
    "The SVM Classifier also takes quite a few parameters. We will be playing with following parameters:\n",
    "* C: same as above\n",
    "* kernel: string, it can be one of 'rbf', 'poly', 'linear'. More on that below:\n",
    "* gamma: parameter for the rbf kernel\n",
    "* degree: int, optional(only used if the kernel is 'poly'\n",
    "* coef0: float, optional(only used if the kernel is ‘poly’ or ‘sigmoid’)\n",
    "* probability: **set it to true** (this boolean flag enables/disables probability estimates)\n",
    "\n",
    "SVM tries to find the hyperplane that maximizes the \"margin\" between the two classes of points. The \"C\" parameter in [SVC](http://scikit-learn.org/stable/modules/generated/sklearn.svm.SVC.html#sklearn.svm.SVC) has the same role as the \"C\" parameter in LogisticRegression: it tells you how much to penalize the \"size\" of the weight vector. Note that SVC only allows for L2 regularization.\n",
    "\n",
    "## Choosing the kernel\n",
    "The kernels\n",
    "* linear: $\\langle x, x'\\rangle$.\n",
    "* polynomial: $(\\gamma \\langle x, x'\\rangle + r)^d$. $d$ is specified by keyword degree, $r$ by coef0.\n",
    "* rbf: $\\exp(-\\gamma \\|x-x'\\|^2)$.  $\\gamma$ is specified by keyword gamma, must be greater than 0.\n",
    "* sigmoid $(\\tanh(\\gamma \\langle x,x'\\rangle + r))$, where r is specified by coef0, and tanh is the [hyperbolic tangent](https://en.wikipedia.org/wiki/Hyperbolic_function#Definitions)\n",
    "\n",
    "You should think of this kernel function as playing a similar role to what the distance metric  did in the KNN classifier. Fundamentally, SVM is trying to find a hyperplane that maximize some **geometric distance** between points of different classes, and this distance is determined by the kernel. So here it seems like there are many many free parameters to play with. To save a bit of time, the most important kernels to try out are: the linear, rbf kernel(with a few different gamma values). You should think about what a high/low gamma value does to the RBF kernel.\n",
    "\n",
    "Write some code that computes the RBF kernel between two rows of the training set. Plot the rbf kernel between these two points with a few different values of gamma"
   ]
  },
  {
   "cell_type": "code",
   "execution_count": null,
   "metadata": {},
   "outputs": [],
   "source": [
    "x1 = X_train.iloc[10,1] # any random training point\n",
    "x2 = X_train.iloc[20,1] # any random training point that is not the same as x1\n",
    "gammas = [10**i for i in np.arange(0, 1, 0.05)]\n",
    "\n",
    "def rbf(x1, x2, gamma):\n",
    "    from math import exp\n",
    "    return exp(-1*gamma*((x1-x2)**2))\n",
    "\n",
    "rbf_vals = [rbf(x1, x2, g) for g in gammas]\n",
    "plt.plot(gammas, rbf_vals)\n",
    "plt.title('Gamma vs RBF')\n",
    "plt.xlabel('Gamma')\n",
    "plt.ylabel('RBF kernel value')\n",
    "plt.show()"
   ]
  },
  {
   "cell_type": "code",
   "execution_count": null,
   "metadata": {
    "collapsed": true
   },
   "outputs": [],
   "source": [
    "np.arange(-1, 1, 0.5)"
   ]
  },
  {
   "cell_type": "markdown",
   "metadata": {},
   "source": [
    "As we did for LogisticRegression, write a function/some code to perform KFold crossvalidation on the training set to find the optimal C and kernel parameters. Repeat the cross validation after normalizing your continous features as well. Does normalization affect the SVM performance?"
   ]
  },
  {
   "cell_type": "code",
   "execution_count": null,
   "metadata": {
    "collapsed": true
   },
   "outputs": [],
   "source": [
    "from sklearn.svm import SVC\n",
    "def cv_svm(**params):\n",
    "    pass"
   ]
  },
  {
   "cell_type": "code",
   "execution_count": 119,
   "metadata": {},
   "outputs": [],
   "source": [
    "testdict = {}"
   ]
  },
  {
   "cell_type": "code",
   "execution_count": 122,
   "metadata": {},
   "outputs": [],
   "source": [
    "testdict['test'] = {1}"
   ]
  },
  {
   "cell_type": "code",
   "execution_count": 123,
   "metadata": {},
   "outputs": [
    {
     "data": {
      "text/plain": [
       "{'test': {1}}"
      ]
     },
     "execution_count": 123,
     "metadata": {},
     "output_type": "execute_result"
    }
   ],
   "source": [
    "testdict"
   ]
  },
  {
   "cell_type": "code",
   "execution_count": 125,
   "metadata": {},
   "outputs": [
    {
     "ename": "AttributeError",
     "evalue": "'set' object has no attribute 'values'",
     "output_type": "error",
     "traceback": [
      "\u001b[0;31m---------------------------------------------------------------------------\u001b[0m",
      "\u001b[0;31mAttributeError\u001b[0m                            Traceback (most recent call last)",
      "\u001b[0;32m<ipython-input-125-ec6e4e3c732b>\u001b[0m in \u001b[0;36m<module>\u001b[0;34m()\u001b[0m\n\u001b[0;32m----> 1\u001b[0;31m \u001b[0mtestdict\u001b[0m\u001b[0;34m[\u001b[0m\u001b[0;34m'test'\u001b[0m\u001b[0;34m]\u001b[0m \u001b[0;34m=\u001b[0m \u001b[0mtestdict\u001b[0m\u001b[0;34m[\u001b[0m\u001b[0;34m'test'\u001b[0m\u001b[0;34m]\u001b[0m\u001b[0;34m.\u001b[0m\u001b[0mvalues\u001b[0m \u001b[0;34m+\u001b[0m \u001b[0;36m2\u001b[0m\u001b[0;34m\u001b[0m\u001b[0m\n\u001b[0m",
      "\u001b[0;31mAttributeError\u001b[0m: 'set' object has no attribute 'values'"
     ]
    }
   ],
   "source": [
    "testdict['test'] = testdict['test'].values + 2"
   ]
  },
  {
   "cell_type": "code",
   "execution_count": 128,
   "metadata": {},
   "outputs": [
    {
     "data": {
      "text/plain": [
       "set"
      ]
     },
     "execution_count": 128,
     "metadata": {},
     "output_type": "execute_result"
    }
   ],
   "source": [
    " type(testdict['test'])"
   ]
  },
  {
   "cell_type": "code",
   "execution_count": 137,
   "metadata": {},
   "outputs": [],
   "source": [
    "testdict = {}\n",
    "for i in range (0,10):\n",
    "    testdict['t1'] = testdict.get('t1',0) + i"
   ]
  },
  {
   "cell_type": "code",
   "execution_count": 150,
   "metadata": {},
   "outputs": [],
   "source": [
    "testdict = {}\n",
    "testdict['t1'] = {}\n",
    "for i in range (0,10):\n",
    "    testdict['t1']['a'] = testdict['t1'].get('a',0) + i\n",
    "    testdict['t1']['b'] = testdict['t1'].get('b',0) + i*2 "
   ]
  },
  {
   "cell_type": "code",
   "execution_count": 151,
   "metadata": {},
   "outputs": [
    {
     "data": {
      "text/plain": [
       "{'t1': {'a': 45, 'b': 90}}"
      ]
     },
     "execution_count": 151,
     "metadata": {},
     "output_type": "execute_result"
    }
   ],
   "source": [
    "testdict"
   ]
  },
  {
   "cell_type": "code",
   "execution_count": 152,
   "metadata": {},
   "outputs": [
    {
     "name": "stdout",
     "output_type": "stream",
     "text": [
      "t1\n",
      "{'a': 45, 'b': 90}\n",
      "a\n",
      "45\n",
      "b\n",
      "90\n"
     ]
    }
   ],
   "source": [
    "for x, y in testdict.items():\n",
    "    print(x)\n",
    "    print(y)\n",
    "    for i, j in y.items():\n",
    "        print(i)\n",
    "        print(j)\n",
    "    "
   ]
  },
  {
   "cell_type": "code",
   "execution_count": 153,
   "metadata": {
    "collapsed": true
   },
   "outputs": [],
   "source": [
    "# parameters to optimize for\n",
    "\n",
    "from sklearn.svm import SVC\n",
    "from sklearn.metrics import roc_auc_score\n",
    "from sklearn.model_selection import KFold\n",
    "\n",
    "\n",
    "def custom_predictions(clf, threshold = 0.7, x_test = X_test):\n",
    "    # generate array with predicted probabilities\n",
    "    pred_array = clf.predict_proba(x_test)\n",
    "\n",
    "    # initialize an empty array for the predictions\n",
    "    pred_generated = np.array([])\n",
    "\n",
    "    # predict the first entry\n",
    "    if pred_array[0][0] >= threshold:\n",
    "        pred_generated = np.hstack([pred_generated, 0])\n",
    "    else:\n",
    "        pred_generated = np.hstack([pred_generated, 1])\n",
    "\n",
    "    # loops over the rest of the array\n",
    "    for i in range(1,len(x_test)):\n",
    "        if pred_array[i][0] >= threshold:\n",
    "            pred_generated = np.vstack([pred_generated, 0])\n",
    "        else:\n",
    "            pred_generated = np.vstack([pred_generated, 1])\n",
    "\n",
    "    # return an np.array\n",
    "    return  pred_generated\n",
    "\n",
    "def precision_arr(y_pred, y_true):\n",
    "    tp = 0\n",
    "    fp = 0\n",
    "    for i in range(0, len(y_pred)):\n",
    "        if y_pred[i] == 1:\n",
    "            if y_true.iloc[i] == 1:\n",
    "                tp += 1\n",
    "            else:\n",
    "                fp += 1\n",
    "    #calculate & return precision\n",
    "    if tp+fp == 0:\n",
    "        return 0\n",
    "    else:\n",
    "        return (tp/(tp+fp))\n",
    "\n",
    "def recall_arr(y_pred, y_true):\n",
    "    #initialize true positives and false negatives\n",
    "    tp = 0\n",
    "    fn = 0\n",
    "\n",
    "    for i in range(0, len(y_pred)):\n",
    "        # update tp if i is a true positive\n",
    "        if y_pred[i] == 1 & y_true.iloc[i] == 1:\n",
    "            tp += 1\n",
    "\n",
    "        # update fn if i is a false negative\n",
    "        if y_pred[i] == 0 & y_true.iloc[i] == 1:\n",
    "            fn += 1\n",
    "\n",
    "    if tp+fn == 0:\n",
    "        return 0\n",
    "    else:\n",
    "        return (tp/(tp+fn))"
   ]
  },
  {
   "cell_type": "code",
   "execution_count": 171,
   "metadata": {
    "collapsed": true
   },
   "outputs": [],
   "source": [
    "def cv_svm(x_train, y_train, cvalues_list, kern_list, rbf_gammas_list, k_folds_num, pred_threshold):\n",
    "    # initialize KFolds\n",
    "    kf = KFold(n_splits = k_folds_num)\n",
    "    # dictionary of results\n",
    "    results_SVM = {}\n",
    "    # split data into k-folds, and loop over each fold\n",
    "    for fold_numb, (train_idx, test_idx) in enumerate(kf.split(x_train)):\n",
    "        # split into k-folds\n",
    "        x_split_train, x_split_test = x_train.iloc[train_idx], x_train.iloc[test_idx]\n",
    "        y_split_train, y_split_test = y_train.iloc[train_idx], y_train.iloc[test_idx]\n",
    "        # loop over different C values\n",
    "        for c_value in cvalues_list:\n",
    "            #loop over different types of kernels\n",
    "            for kern in kern_list:\n",
    "                # for rbf kernels:\n",
    "                if kern == \"rbf\":\n",
    "                    for rbf_gam in rbf_gammas_list:\n",
    "                        # intialize SVM classifier according to parameters of loop\n",
    "                        clf = SVC(C = c_value, kernel = kern, gamma = rbf_gam, probability = True)\n",
    "                        # fit data\n",
    "                        clf.fit(x_split_train, y_split_train)\n",
    "                        # make predictions using pre-determined threshold\n",
    "                        y_pred = custom_predictions(clf, threshold = pred_threshold, x_test = x_split_test)\n",
    "                        # intialize the main dictionary key\n",
    "                        model_key = (kern, c_value, rbf_gam)\n",
    "                        results_SVM[model_key] = {}\n",
    "                        # write evaluation results to dictionary\n",
    "                        results_SVM[model_key]['Precision'] = results_SVM[model_key].get('Precision', 0) + precision_arr(y_pred, y_split_test)/k_folds_num\n",
    "                        results_SVM[model_key]['Recall'] = results_SVM[model_key].get('Recall', 0) + recall_arr(y_pred, y_split_test)/k_folds_num\n",
    "                        results_SVM[model_key]['AUC Score'] = results_SVM[model_key].get('AUC Score', 0) + roc_auc_score(y_pred, y_split_test)/k_folds_num\n",
    "                        print(str(model_key) + \" completed\")\n",
    "                # for linear kernels\n",
    "                if kern == \"linear\":\n",
    "                    # intialize SVM classifier according to parameters of loop\n",
    "                    clf = SVC(C = c_value, kernel = kern, probability = True)\n",
    "                    # fit data\n",
    "                    clf.fit(x_split_train, y_split_train)\n",
    "                    # make predictions using pre-determined threshold\n",
    "                    y_pred = custom_predictions(clf, threshold = pred_threshold, x_test = x_split_test)\n",
    "                    # intialize the main dictionary key\n",
    "                    model_key = (kern, c_value)\n",
    "                    results_SVM[model_key] = {}\n",
    "                    # write evaluation results to dictionary\n",
    "                    results_SVM[model_key]['Precision'] = results_SVM[model_key].get('Precision', 0) + precision_arr(y_pred, y_split_test)/k_folds_num\n",
    "                    results_SVM[model_key]['Recall'] = results_SVM[model_key].get('Recall', 0) + recall_arr(y_pred, y_split_test)/k_folds_num\n",
    "                    results_SVM[model_key]['AUC Score'] = results_SVM[model_key].get('AUC Score', 0) + roc_auc_score(y_pred, y_split_test)/k_folds_num\n",
    "                    print(str(model_key) + \" completed\")\n",
    "    #print results\n",
    "    for model, model_perf in results_SVM.items():\n",
    "        print(\"Model parameters: {}\".format(model, model_perf))\n",
    "        for eva_metric, eva_value in model_perf.items():\n",
    "            print(\"{}: {}\".format(eva_metric, eva_value))\n",
    "    #return the results, in case I want to do anything with it.\n",
    "    return results_SVM"
   ]
  },
  {
   "cell_type": "code",
   "execution_count": 172,
   "metadata": {},
   "outputs": [
    {
     "name": "stdout",
     "output_type": "stream",
     "text": [
      "('linear', 0.1) completed\n",
      "('rbf', 0.1, 1.0) completed\n",
      "('rbf', 0.1, 1.7782794100389228) completed\n",
      "('rbf', 0.1, 3.1622776601683795) completed\n",
      "('rbf', 0.1, 5.623413251903491) completed\n",
      "('linear', 1) completed\n",
      "('rbf', 1, 1.0) completed\n",
      "('rbf', 1, 1.7782794100389228) completed\n",
      "('rbf', 1, 3.1622776601683795) completed\n",
      "('rbf', 1, 5.623413251903491) completed\n",
      "('linear', 10) completed\n",
      "('rbf', 10, 1.0) completed\n",
      "('rbf', 10, 1.7782794100389228) completed\n",
      "('rbf', 10, 3.1622776601683795) completed\n",
      "('rbf', 10, 5.623413251903491) completed\n",
      "('linear', 0.1) completed\n",
      "('rbf', 0.1, 1.0) completed\n",
      "('rbf', 0.1, 1.7782794100389228) completed\n",
      "('rbf', 0.1, 3.1622776601683795) completed\n",
      "('rbf', 0.1, 5.623413251903491) completed\n",
      "('linear', 1) completed\n",
      "('rbf', 1, 1.0) completed\n",
      "('rbf', 1, 1.7782794100389228) completed\n",
      "('rbf', 1, 3.1622776601683795) completed\n",
      "('rbf', 1, 5.623413251903491) completed\n",
      "('linear', 10) completed\n",
      "('rbf', 10, 1.0) completed\n",
      "('rbf', 10, 1.7782794100389228) completed\n",
      "('rbf', 10, 3.1622776601683795) completed\n",
      "('rbf', 10, 5.623413251903491) completed\n",
      "('linear', 0.1) completed\n",
      "('rbf', 0.1, 1.0) completed\n",
      "('rbf', 0.1, 1.7782794100389228) completed\n",
      "('rbf', 0.1, 3.1622776601683795) completed\n",
      "('rbf', 0.1, 5.623413251903491) completed\n",
      "('linear', 1) completed\n",
      "('rbf', 1, 1.0) completed\n",
      "('rbf', 1, 1.7782794100389228) completed\n",
      "('rbf', 1, 3.1622776601683795) completed\n",
      "('rbf', 1, 5.623413251903491) completed\n",
      "('linear', 10) completed\n",
      "('rbf', 10, 1.0) completed\n",
      "('rbf', 10, 1.7782794100389228) completed\n",
      "('rbf', 10, 3.1622776601683795) completed\n",
      "('rbf', 10, 5.623413251903491) completed\n",
      "Model parameters: ('linear', 0.1)\n",
      "Precision: 0.27878787878787875\n",
      "Recall: 0.3333333333333333\n",
      "AUC Score: 0.28055357607429277\n",
      "Model parameters: ('rbf', 0.1, 1.0)\n",
      "Precision: 0.23834196891191708\n",
      "Recall: 0.3333333333333333\n",
      "AUC Score: 0.26497972117378615\n",
      "Model parameters: ('rbf', 0.1, 1.7782794100389228)\n",
      "Precision: 0.23783783783783785\n",
      "Recall: 0.3333333333333333\n",
      "AUC Score: 0.2644008072411368\n",
      "Model parameters: ('rbf', 0.1, 3.1622776601683795)\n",
      "Precision: 0.2397003745318352\n",
      "Recall: 0.3333333333333333\n",
      "AUC Score: 0.26512926916471785\n",
      "Model parameters: ('rbf', 0.1, 5.623413251903491)\n",
      "Precision: 0.242603550295858\n",
      "Recall: 0.3333333333333333\n",
      "AUC Score: 0.26633101491401084\n",
      "Model parameters: ('linear', 1)\n",
      "Precision: 0.27358490566037735\n",
      "Recall: 0.3333333333333333\n",
      "AUC Score: 0.28005729301283705\n",
      "Model parameters: ('rbf', 1, 1.0)\n",
      "Precision: 0.2378917378917379\n",
      "Recall: 0.3333333333333333\n",
      "AUC Score: 0.266345868945869\n",
      "Model parameters: ('rbf', 1, 1.7782794100389228)\n",
      "Precision: 0.23641703377386195\n",
      "Recall: 0.3333333333333333\n",
      "AUC Score: 0.26526342979744816\n",
      "Model parameters: ('rbf', 1, 3.1622776601683795)\n",
      "Precision: 0.2378716744913928\n",
      "Recall: 0.3333333333333333\n",
      "AUC Score: 0.2655046591417694\n",
      "Model parameters: ('rbf', 1, 5.623413251903491)\n",
      "Precision: 0.22435897435897437\n",
      "Recall: 0.3333333333333333\n",
      "AUC Score: 0.25799632539537526\n",
      "Model parameters: ('linear', 10)\n",
      "Precision: 0.27878787878787875\n",
      "Recall: 0.3333333333333333\n",
      "AUC Score: 0.28055357607429277\n",
      "Model parameters: ('rbf', 10, 1.0)\n",
      "Precision: 0.22540983606557377\n",
      "Recall: 0.3333333333333333\n",
      "AUC Score: 0.2598936730528672\n",
      "Model parameters: ('rbf', 10, 1.7782794100389228)\n",
      "Precision: 0.2181571815718157\n",
      "Recall: 0.3333333333333333\n",
      "AUC Score: 0.2559837354804416\n",
      "Model parameters: ('rbf', 10, 3.1622776601683795)\n",
      "Precision: 0.1924119241192412\n",
      "Recall: 0.3333333333333333\n",
      "AUC Score: 0.24183833076272884\n",
      "Model parameters: ('rbf', 10, 5.623413251903491)\n",
      "Precision: 0.1708333333333333\n",
      "Recall: 0.3333333333333333\n",
      "AUC Score: 0.22982992515370224\n"
     ]
    }
   ],
   "source": [
    "cv_svm(X_test, Y_test, cvalues_list =  [10**i for i in range(-1, 2)], kern_list = [\"linear\", \"rbf\"], rbf_gammas_list = [10**i for i in np.arange(0, 1, 0.25)], k_folds_num = 3, pred_threshold= 0.7)"
   ]
  },
  {
   "cell_type": "markdown",
   "metadata": {},
   "source": [
    "The SVC classifier might take some time to train because it has to compute this square matrix of kernel values, which can be expensive for 30k points. If it's taking too long, you should subsample your data and try to fit the SVC model on this smaller subsample."
   ]
  },
  {
   "cell_type": "code",
   "execution_count": null,
   "metadata": {
    "collapsed": true
   },
   "outputs": [],
   "source": []
  },
  {
   "cell_type": "markdown",
   "metadata": {},
   "source": [
    "SVC also has a [predict_proba](http://scikit-learn.org/stable/modules/generated/sklearn.svm.SVC.html#sklearn.svm.SVC.predict_proba) function, so let's also plot an ROC curve for your best performing SVC model."
   ]
  },
  {
   "cell_type": "code",
   "execution_count": null,
   "metadata": {
    "collapsed": true
   },
   "outputs": [],
   "source": []
  },
  {
   "cell_type": "markdown",
   "metadata": {},
   "source": [
    "Do you think SVM or LogisticRegression is better suited for this classification task?"
   ]
  },
  {
   "cell_type": "markdown",
   "metadata": {},
   "source": [
    "## 4) Class Imbalance and Evaluation Metrics"
   ]
  },
  {
   "cell_type": "markdown",
   "metadata": {},
   "source": [
    "As noted in lecture, accuracy is not necessarily the best way to evaluate your classifier. This is especially true in situations where\n",
    "our classification dataset has class imbalance. In our current dataset, we have the following class proportions:"
   ]
  },
  {
   "cell_type": "markdown",
   "metadata": {},
   "source": [
    "Both LogisticRegression and SVC have a class_weight parameter that allows you to specify how much the model should prefer correctly classifying one class over another. Try specifying this parameter in your models and see how this affects the evaluation metrics you just tried above. "
   ]
  },
  {
   "cell_type": "code",
   "execution_count": null,
   "metadata": {
    "collapsed": true
   },
   "outputs": [],
   "source": []
  },
  {
   "cell_type": "markdown",
   "metadata": {},
   "source": [
    "## Additional Questions\n",
    "If you have the time, here are some additional things to try:\n",
    "* pull in other features from the ACS api like demographic information of a given zipcode. Does this improve the models performance? Do you think this is an ethical thing to do for deciding loan applications?\n",
    "* you've written a cv_logistic_regression function and a cv_svm function which probably look very similar. Try writing a cross validation function that takes a model(IE: LogisiticRegression, SVC, DecisionTreeClassifier) as a parameter as well so that we can just do cv_model(SVC, ....) and cv_model(LogisticRegression, ...)"
   ]
  },
  {
   "cell_type": "code",
   "execution_count": null,
   "metadata": {
    "collapsed": true
   },
   "outputs": [],
   "source": []
  },
  {
   "cell_type": "code",
   "execution_count": null,
   "metadata": {
    "collapsed": true
   },
   "outputs": [],
   "source": []
  },
  {
   "cell_type": "code",
   "execution_count": null,
   "metadata": {
    "collapsed": true
   },
   "outputs": [],
   "source": []
  },
  {
   "cell_type": "markdown",
   "metadata": {
    "collapsed": true
   },
   "source": [
    "##### "
   ]
  }
 ],
 "metadata": {
  "kernelspec": {
   "display_name": "Python 3",
   "language": "python",
   "name": "python3"
  },
  "language_info": {
   "codemirror_mode": {
    "name": "ipython",
    "version": 3
   },
   "file_extension": ".py",
   "mimetype": "text/x-python",
   "name": "python",
   "nbconvert_exporter": "python",
   "pygments_lexer": "ipython3",
   "version": "3.6.3"
  }
 },
 "nbformat": 4,
 "nbformat_minor": 1
}

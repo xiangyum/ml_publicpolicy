{
 "cells": [
  {
   "cell_type": "markdown",
   "metadata": {},
   "source": [
    "# Lab 3: KNN and Decision Trees\n",
    "\n",
    "\n",
    "In this lab we'll get some hands on experience with two of the classifiers we've seen in class\n",
    "- K Nearest Neighbors\n",
    "- Decision Trees"
   ]
  },
  {
   "cell_type": "markdown",
   "metadata": {},
   "source": [
    "## Goals for this lab\n",
    "\n",
    "- Understand the practical implications for changing the parameters used in KNearest Neighbor Classifier\n",
    "  - k\n",
    "  - distance metric\n",
    "  - weighting method\n",
    "  \n",
    "  \n",
    "- Understand the practical implications for changing the parameters used in Decision Trees\n",
    "\n",
    " - splitting criteria (gini vs information gain)\n",
    " - max depth\n",
    " - min sample size for split\n",
    " \n",
    "- Understand how to interpret Decision Trees"
   ]
  },
  {
   "cell_type": "code",
   "execution_count": 2,
   "metadata": {},
   "outputs": [
    {
     "name": "stderr",
     "output_type": "stream",
     "text": [
      "/Users/xiangyu/anaconda3/lib/python3.6/site-packages/sklearn/cross_validation.py:41: DeprecationWarning: This module was deprecated in version 0.18 in favor of the model_selection module into which all the refactored classes and functions are moved. Also note that the interface of the new CV iterators are different from that of this module. This module will be removed in 0.20.\n",
      "  \"This module will be removed in 0.20.\", DeprecationWarning)\n"
     ]
    }
   ],
   "source": [
    "import matplotlib.pyplot as plt\n",
    "import numpy as np\n",
    "import pandas as pd\n",
    "import sklearn.tree as tree\n",
    "from sklearn.tree import DecisionTreeClassifier\n",
    "from sklearn.neighbors import KNeighborsClassifier\n",
    "from sklearn.cross_validation import train_test_split\n",
    "import graphviz # If you don't have this, install via pip/conda\n",
    "%matplotlib inline"
   ]
  },
  {
   "cell_type": "markdown",
   "metadata": {},
   "source": [
    "# Data\n",
    "We'll use these classifiers on a small dataset on world happiness metrics:\n",
    "https://www.kaggle.com/unsdsn/world-happiness/\n",
    "\n",
    "Download the data from 2015 or 2016 and load it. Note: the 2017 data is missing the Region column so don't use that.\n",
    "\n",
    "You should also try this with other data sets you have been provided for the homeworks."
   ]
  },
  {
   "cell_type": "code",
   "execution_count": 3,
   "metadata": {},
   "outputs": [],
   "source": [
    "# Change this to wherever you're storing your data\n",
    "dfile = '2015.csv'\n",
    "df = pd.read_csv(dfile)"
   ]
  },
  {
   "cell_type": "code",
   "execution_count": 4,
   "metadata": {},
   "outputs": [
    {
     "data": {
      "text/plain": [
       "Index(['Country', 'Region', 'Happiness Rank', 'Happiness Score',\n",
       "       'Standard Error', 'Economy (GDP per Capita)', 'Family',\n",
       "       'Health (Life Expectancy)', 'Freedom', 'Trust (Government Corruption)',\n",
       "       'Generosity', 'Dystopia Residual'],\n",
       "      dtype='object')"
      ]
     },
     "execution_count": 4,
     "metadata": {},
     "output_type": "execute_result"
    }
   ],
   "source": [
    "df.columns"
   ]
  },
  {
   "cell_type": "code",
   "execution_count": 221,
   "metadata": {},
   "outputs": [
    {
     "data": {
      "text/html": [
       "<div>\n",
       "<table border=\"1\" class=\"dataframe\">\n",
       "  <thead>\n",
       "    <tr style=\"text-align: right;\">\n",
       "      <th></th>\n",
       "      <th>Country</th>\n",
       "      <th>Region</th>\n",
       "      <th>Happiness Rank</th>\n",
       "      <th>Happiness Score</th>\n",
       "      <th>Standard Error</th>\n",
       "      <th>Economy (GDP per Capita)</th>\n",
       "      <th>Family</th>\n",
       "      <th>Health (Life Expectancy)</th>\n",
       "      <th>Freedom</th>\n",
       "      <th>Trust (Government Corruption)</th>\n",
       "      <th>Generosity</th>\n",
       "      <th>Dystopia Residual</th>\n",
       "    </tr>\n",
       "  </thead>\n",
       "  <tbody>\n",
       "    <tr>\n",
       "      <th>0</th>\n",
       "      <td>Switzerland</td>\n",
       "      <td>Western Europe</td>\n",
       "      <td>1</td>\n",
       "      <td>7.587</td>\n",
       "      <td>0.03411</td>\n",
       "      <td>1.39651</td>\n",
       "      <td>1.34951</td>\n",
       "      <td>0.94143</td>\n",
       "      <td>0.66557</td>\n",
       "      <td>0.41978</td>\n",
       "      <td>0.29678</td>\n",
       "      <td>2.51738</td>\n",
       "    </tr>\n",
       "    <tr>\n",
       "      <th>1</th>\n",
       "      <td>Iceland</td>\n",
       "      <td>Western Europe</td>\n",
       "      <td>2</td>\n",
       "      <td>7.561</td>\n",
       "      <td>0.04884</td>\n",
       "      <td>1.30232</td>\n",
       "      <td>1.40223</td>\n",
       "      <td>0.94784</td>\n",
       "      <td>0.62877</td>\n",
       "      <td>0.14145</td>\n",
       "      <td>0.43630</td>\n",
       "      <td>2.70201</td>\n",
       "    </tr>\n",
       "    <tr>\n",
       "      <th>2</th>\n",
       "      <td>Denmark</td>\n",
       "      <td>Western Europe</td>\n",
       "      <td>3</td>\n",
       "      <td>7.527</td>\n",
       "      <td>0.03328</td>\n",
       "      <td>1.32548</td>\n",
       "      <td>1.36058</td>\n",
       "      <td>0.87464</td>\n",
       "      <td>0.64938</td>\n",
       "      <td>0.48357</td>\n",
       "      <td>0.34139</td>\n",
       "      <td>2.49204</td>\n",
       "    </tr>\n",
       "    <tr>\n",
       "      <th>3</th>\n",
       "      <td>Norway</td>\n",
       "      <td>Western Europe</td>\n",
       "      <td>4</td>\n",
       "      <td>7.522</td>\n",
       "      <td>0.03880</td>\n",
       "      <td>1.45900</td>\n",
       "      <td>1.33095</td>\n",
       "      <td>0.88521</td>\n",
       "      <td>0.66973</td>\n",
       "      <td>0.36503</td>\n",
       "      <td>0.34699</td>\n",
       "      <td>2.46531</td>\n",
       "    </tr>\n",
       "    <tr>\n",
       "      <th>4</th>\n",
       "      <td>Canada</td>\n",
       "      <td>North America</td>\n",
       "      <td>5</td>\n",
       "      <td>7.427</td>\n",
       "      <td>0.03553</td>\n",
       "      <td>1.32629</td>\n",
       "      <td>1.32261</td>\n",
       "      <td>0.90563</td>\n",
       "      <td>0.63297</td>\n",
       "      <td>0.32957</td>\n",
       "      <td>0.45811</td>\n",
       "      <td>2.45176</td>\n",
       "    </tr>\n",
       "  </tbody>\n",
       "</table>\n",
       "</div>"
      ],
      "text/plain": [
       "       Country          Region  Happiness Rank  Happiness Score  \\\n",
       "0  Switzerland  Western Europe               1            7.587   \n",
       "1      Iceland  Western Europe               2            7.561   \n",
       "2      Denmark  Western Europe               3            7.527   \n",
       "3       Norway  Western Europe               4            7.522   \n",
       "4       Canada   North America               5            7.427   \n",
       "\n",
       "   Standard Error  Economy (GDP per Capita)   Family  \\\n",
       "0         0.03411                   1.39651  1.34951   \n",
       "1         0.04884                   1.30232  1.40223   \n",
       "2         0.03328                   1.32548  1.36058   \n",
       "3         0.03880                   1.45900  1.33095   \n",
       "4         0.03553                   1.32629  1.32261   \n",
       "\n",
       "   Health (Life Expectancy)  Freedom  Trust (Government Corruption)  \\\n",
       "0                   0.94143  0.66557                        0.41978   \n",
       "1                   0.94784  0.62877                        0.14145   \n",
       "2                   0.87464  0.64938                        0.48357   \n",
       "3                   0.88521  0.66973                        0.36503   \n",
       "4                   0.90563  0.63297                        0.32957   \n",
       "\n",
       "   Generosity  Dystopia Residual  \n",
       "0     0.29678            2.51738  \n",
       "1     0.43630            2.70201  \n",
       "2     0.34139            2.49204  \n",
       "3     0.34699            2.46531  \n",
       "4     0.45811            2.45176  "
      ]
     },
     "execution_count": 221,
     "metadata": {},
     "output_type": "execute_result"
    }
   ],
   "source": [
    "df.head()"
   ]
  },
  {
   "cell_type": "markdown",
   "metadata": {},
   "source": [
    "# Some Quick Data Exploration\n",
    "Before running any sort of model on your dataset, it's always a good idea to do some quick data exploration to get a sense of how your data looks like. Try to answer the following questions with some sort of plot/histogram/etc:\n",
    "\n",
    "1) What do the distributions of each feature look like?"
   ]
  },
  {
   "cell_type": "code",
   "execution_count": 222,
   "metadata": {},
   "outputs": [
    {
     "data": {
      "image/png": "[encoded data removed]",
      "text/plain": [
       "<matplotlib.figure.Figure at 0x11116c710>"
      ]
     },
     "metadata": {},
     "output_type": "display_data"
    }
   ],
   "source": [
    "# Ex\n",
    "plt.hist(df['Happiness Score'], bins=20)\n",
    "plt.title('Distribution of Happiness Scores')\n",
    "plt.ylabel('Happiness Score')\n",
    "plt.xlabel('Frequency')\n",
    "plt.show()"
   ]
  },
  {
   "cell_type": "markdown",
   "metadata": {},
   "source": [
    "2) Do countries from the same region have similar feature values? (To save on time so that you're not generating hundreds of plots, you can just pick one or two regions, and look at whichever features look most interesting).\n",
    "\n",
    "Hint: consider using [pandas' groupby function](https://pandas.pydata.org/pandas-docs/stable/generated/pandas.DataFrame.groupby.html) or doing a manual filter"
   ]
  },
  {
   "cell_type": "code",
   "execution_count": 38,
   "metadata": {},
   "outputs": [],
   "source": [
    "seaDF = df.loc[df[\"Region\"] == \"Southeastern Asia\", :]"
   ]
  },
  {
   "cell_type": "code",
   "execution_count": 46,
   "metadata": {},
   "outputs": [
    {
     "data": {
      "text/plain": [
       "Index(['Country', 'Region', 'Happiness Rank', 'Happiness Score',\n",
       "       'Standard Error', 'Economy (GDP per Capita)', 'Family',\n",
       "       'Health (Life Expectancy)', 'Freedom', 'Trust (Government Corruption)',\n",
       "       'Generosity', 'Dystopia Residual'],\n",
       "      dtype='object')"
      ]
     },
     "execution_count": 46,
     "metadata": {},
     "output_type": "execute_result"
    }
   ],
   "source": [
    "seaDF.columns"
   ]
  },
  {
   "cell_type": "code",
   "execution_count": 45,
   "metadata": {
    "collapsed": true
   },
   "outputs": [],
   "source": [
    "import seaborn as sns"
   ]
  },
  {
   "cell_type": "code",
   "execution_count": 48,
   "metadata": {},
   "outputs": [],
   "source": [
    "def basic_hist(df, x):\n",
    "\tsns.distplot(df[x])\n",
    "\tplt.show()\n",
    "\treturn"
   ]
  },
  {
   "cell_type": "code",
   "execution_count": 49,
   "metadata": {},
   "outputs": [
    {
     "name": "stderr",
     "output_type": "stream",
     "text": [
      "/Users/xiangyu/anaconda3/lib/python3.6/site-packages/matplotlib/axes/_axes.py:6448: UserWarning: The 'normed' kwarg is deprecated, and has been replaced by the 'density' kwarg.\n",
      "  warnings.warn(\"The 'normed' kwarg is deprecated, and has been \"\n"
     ]
    },
    {
     "data": {
      "image/png": "[encoded data removed]",
      "text/plain": [
       "<Figure size 432x288 with 1 Axes>"
      ]
     },
     "metadata": {},
     "output_type": "display_data"
    }
   ],
   "source": [
    "basic_hist(seaDF, \"Happiness Score\")"
   ]
  },
  {
   "cell_type": "code",
   "execution_count": 50,
   "metadata": {},
   "outputs": [
    {
     "name": "stderr",
     "output_type": "stream",
     "text": [
      "/Users/xiangyu/anaconda3/lib/python3.6/site-packages/matplotlib/axes/_axes.py:6448: UserWarning: The 'normed' kwarg is deprecated, and has been replaced by the 'density' kwarg.\n",
      "  warnings.warn(\"The 'normed' kwarg is deprecated, and has been \"\n"
     ]
    },
    {
     "data": {
      "image/png": "[encoded data removed]",
      "text/plain": [
       "<Figure size 432x288 with 1 Axes>"
      ]
     },
     "metadata": {},
     "output_type": "display_data"
    }
   ],
   "source": [
    "basic_hist(seaDF, \"Economy (GDP per Capita)\")"
   ]
  },
  {
   "cell_type": "code",
   "execution_count": 51,
   "metadata": {},
   "outputs": [
    {
     "name": "stderr",
     "output_type": "stream",
     "text": [
      "/Users/xiangyu/anaconda3/lib/python3.6/site-packages/matplotlib/axes/_axes.py:6448: UserWarning: The 'normed' kwarg is deprecated, and has been replaced by the 'density' kwarg.\n",
      "  warnings.warn(\"The 'normed' kwarg is deprecated, and has been \"\n"
     ]
    },
    {
     "data": {
      "image/png": "[encoded data removed]",
      "text/plain": [
       "<Figure size 432x288 with 1 Axes>"
      ]
     },
     "metadata": {},
     "output_type": "display_data"
    }
   ],
   "source": [
    "basic_hist(seaDF, \"Health (Life Expectancy)\")"
   ]
  },
  {
   "cell_type": "code",
   "execution_count": null,
   "metadata": {
    "collapsed": true
   },
   "outputs": [],
   "source": []
  },
  {
   "cell_type": "code",
   "execution_count": 23,
   "metadata": {},
   "outputs": [
    {
     "data": {
      "text/plain": [
       "<pandas.core.groupby.DataFrameGroupBy object at 0x11718e160>"
      ]
     },
     "execution_count": 23,
     "metadata": {},
     "output_type": "execute_result"
    }
   ],
   "source": [
    "region_groupDF.Region"
   ]
  },
  {
   "cell_type": "markdown",
   "metadata": {},
   "source": [
    "3) Which features are least correlated with \"Happiness\"?\n",
    "\n",
    "Hint: Plotting this is a good idea. Also consider using [pandas' correlation function](https://pandas.pydata.org/pandas-docs/stable/generated/pandas.DataFrame.corr.html)"
   ]
  },
  {
   "cell_type": "code",
   "execution_count": 208,
   "metadata": {},
   "outputs": [
    {
     "data": {
      "image/png": "[encoded data removed]",
      "text/plain": [
       "<matplotlib.figure.Figure at 0x1110c8cd0>"
      ]
     },
     "metadata": {},
     "output_type": "display_data"
    }
   ],
   "source": [
    "# Example plot\n",
    "plt.scatter(df['Happiness Score'], df['Health (Life Expectancy)'])\n",
    "plt.title('Life Expectancy vs Happiness')\n",
    "plt.xlabel('Life Expectancy coefficient') # units unclear...\n",
    "plt.ylabel('Happiness Score')\n",
    "plt.show()"
   ]
  },
  {
   "cell_type": "markdown",
   "metadata": {},
   "source": [
    "## Classification\n",
    "A natural thing to do with this dataset is to try to use the various feature columns to predict each country's \"Happiness Score\" via some regression model. But in this class we're mostly going to focus on classification. So let's create a toy column so that we have a classification task: create a binary 'In Europe' column. We can do this by checking if \"Europe\" is contained in the \"Region\" column of each row."
   ]
  },
  {
   "cell_type": "code",
   "execution_count": 57,
   "metadata": {
    "collapsed": true
   },
   "outputs": [],
   "source": [
    "df['In Europe'] = df['Region'].apply(lambda x: 'Europe' in x)"
   ]
  },
  {
   "cell_type": "markdown",
   "metadata": {},
   "source": [
    "Before we can use any of the classifiers, we need to pick which features we want to drop/keep."
   ]
  },
  {
   "cell_type": "code",
   "execution_count": 58,
   "metadata": {},
   "outputs": [
    {
     "data": {
      "text/html": [
       "<div>\n",
       "<style scoped>\n",
       "    .dataframe tbody tr th:only-of-type {\n",
       "        vertical-align: middle;\n",
       "    }\n",
       "\n",
       "    .dataframe tbody tr th {\n",
       "        vertical-align: top;\n",
       "    }\n",
       "\n",
       "    .dataframe thead th {\n",
       "        text-align: right;\n",
       "    }\n",
       "</style>\n",
       "<table border=\"1\" class=\"dataframe\">\n",
       "  <thead>\n",
       "    <tr style=\"text-align: right;\">\n",
       "      <th></th>\n",
       "      <th>Country</th>\n",
       "      <th>Happiness Score</th>\n",
       "      <th>Standard Error</th>\n",
       "      <th>Economy (GDP per Capita)</th>\n",
       "      <th>Family</th>\n",
       "      <th>Health (Life Expectancy)</th>\n",
       "      <th>Freedom</th>\n",
       "      <th>Trust (Government Corruption)</th>\n",
       "      <th>Generosity</th>\n",
       "      <th>Dystopia Residual</th>\n",
       "      <th>In Europe</th>\n",
       "    </tr>\n",
       "  </thead>\n",
       "  <tbody>\n",
       "    <tr>\n",
       "      <th>0</th>\n",
       "      <td>Switzerland</td>\n",
       "      <td>7.587</td>\n",
       "      <td>0.03411</td>\n",
       "      <td>1.39651</td>\n",
       "      <td>1.34951</td>\n",
       "      <td>0.94143</td>\n",
       "      <td>0.66557</td>\n",
       "      <td>0.41978</td>\n",
       "      <td>0.29678</td>\n",
       "      <td>2.51738</td>\n",
       "      <td>True</td>\n",
       "    </tr>\n",
       "    <tr>\n",
       "      <th>1</th>\n",
       "      <td>Iceland</td>\n",
       "      <td>7.561</td>\n",
       "      <td>0.04884</td>\n",
       "      <td>1.30232</td>\n",
       "      <td>1.40223</td>\n",
       "      <td>0.94784</td>\n",
       "      <td>0.62877</td>\n",
       "      <td>0.14145</td>\n",
       "      <td>0.43630</td>\n",
       "      <td>2.70201</td>\n",
       "      <td>True</td>\n",
       "    </tr>\n",
       "    <tr>\n",
       "      <th>2</th>\n",
       "      <td>Denmark</td>\n",
       "      <td>7.527</td>\n",
       "      <td>0.03328</td>\n",
       "      <td>1.32548</td>\n",
       "      <td>1.36058</td>\n",
       "      <td>0.87464</td>\n",
       "      <td>0.64938</td>\n",
       "      <td>0.48357</td>\n",
       "      <td>0.34139</td>\n",
       "      <td>2.49204</td>\n",
       "      <td>True</td>\n",
       "    </tr>\n",
       "    <tr>\n",
       "      <th>3</th>\n",
       "      <td>Norway</td>\n",
       "      <td>7.522</td>\n",
       "      <td>0.03880</td>\n",
       "      <td>1.45900</td>\n",
       "      <td>1.33095</td>\n",
       "      <td>0.88521</td>\n",
       "      <td>0.66973</td>\n",
       "      <td>0.36503</td>\n",
       "      <td>0.34699</td>\n",
       "      <td>2.46531</td>\n",
       "      <td>True</td>\n",
       "    </tr>\n",
       "    <tr>\n",
       "      <th>4</th>\n",
       "      <td>Canada</td>\n",
       "      <td>7.427</td>\n",
       "      <td>0.03553</td>\n",
       "      <td>1.32629</td>\n",
       "      <td>1.32261</td>\n",
       "      <td>0.90563</td>\n",
       "      <td>0.63297</td>\n",
       "      <td>0.32957</td>\n",
       "      <td>0.45811</td>\n",
       "      <td>2.45176</td>\n",
       "      <td>False</td>\n",
       "    </tr>\n",
       "  </tbody>\n",
       "</table>\n",
       "</div>"
      ],
      "text/plain": [
       "       Country  Happiness Score  Standard Error  Economy (GDP per Capita)  \\\n",
       "0  Switzerland            7.587         0.03411                   1.39651   \n",
       "1      Iceland            7.561         0.04884                   1.30232   \n",
       "2      Denmark            7.527         0.03328                   1.32548   \n",
       "3       Norway            7.522         0.03880                   1.45900   \n",
       "4       Canada            7.427         0.03553                   1.32629   \n",
       "\n",
       "    Family  Health (Life Expectancy)  Freedom  Trust (Government Corruption)  \\\n",
       "0  1.34951                   0.94143  0.66557                        0.41978   \n",
       "1  1.40223                   0.94784  0.62877                        0.14145   \n",
       "2  1.36058                   0.87464  0.64938                        0.48357   \n",
       "3  1.33095                   0.88521  0.66973                        0.36503   \n",
       "4  1.32261                   0.90563  0.63297                        0.32957   \n",
       "\n",
       "   Generosity  Dystopia Residual  In Europe  \n",
       "0     0.29678            2.51738       True  \n",
       "1     0.43630            2.70201       True  \n",
       "2     0.34139            2.49204       True  \n",
       "3     0.34699            2.46531       True  \n",
       "4     0.45811            2.45176      False  "
      ]
     },
     "execution_count": 58,
     "metadata": {},
     "output_type": "execute_result"
    }
   ],
   "source": [
    "df.drop(['Region', 'Happiness Rank'], axis=1, inplace=True)\n",
    "df.head()"
   ]
  },
  {
   "cell_type": "markdown",
   "metadata": {},
   "source": [
    "# Train/Test Splits\n",
    "\n",
    "Create a train/test set split using sklearn's [train_test_split](http://scikit-learn.org/stable/modules/generated/sklearn.model_selection.train_test_split.html) function. We'll use these train/test splits for evaluating all our classification models."
   ]
  },
  {
   "cell_type": "code",
   "execution_count": 59,
   "metadata": {},
   "outputs": [],
   "source": [
    "countries = df['Country'] # useful later for reindexing\n",
    "X = df.drop(['In Europe', 'Country'], axis=1)\n",
    "Y = df['In Europe']\n",
    "test_size = 0.3 # you can adjust this\n",
    "x_train, x_test, y_train, y_test = train_test_split(X, Y, test_size=test_size)"
   ]
  },
  {
   "cell_type": "markdown",
   "metadata": {
    "collapsed": true
   },
   "source": [
    "# K Nearest Neighbors\n",
    "See the sklearn documentation on the [KNN classifier](http://scikit-learn.org/stable/modules/generated/sklearn.neighbors.KNeighborsClassifier.html#sklearn.neighbors.KNeighborsClassifier) to see its parameters. The one's we'll mostly be interested in are:\n",
    "- n_neighbors\n",
    "- distance metric\n",
    "- weighting function\n",
    "\n",
    "## KNN Distance Function\n",
    "Something important to note is that the KNN algorithm requires a \"metric\" or a notion of distance. If you don't set this parameter, it defaults to the Euclidean distance. Do you think the Euclidean distance is appropriate in this setting? You can set the metric parameter to any one of the distance metrics defined under the sklearn [DistanceMetric class](http://scikit-learn.org/stable/modules/generated/sklearn.neighbors.DistanceMetric.html)\n",
    "\n",
    "Different metrics might have different parameters which you can set like so:"
   ]
  },
  {
   "cell_type": "code",
   "execution_count": 226,
   "metadata": {},
   "outputs": [
    {
     "name": "stderr",
     "output_type": "stream",
     "text": [
      "/Users/xiangyu/anaconda3/lib/python3.6/site-packages/ipykernel_launcher.py:3: SyntaxWarning: Parameter p is found in metric_params. The corresponding parameter from __init__ is ignored.\n",
      "  This is separate from the ipykernel package so we can avoid doing imports until\n"
     ]
    }
   ],
   "source": [
    "# If your metric has a metric parameter you need to pass that in via a\n",
    "# dictionary to metric_params.\n",
    "knn = KNeighborsClassifier(n_neighbors=10, metric='euclidean', metric_params={'p': 3})"
   ]
  },
  {
   "cell_type": "markdown",
   "metadata": {},
   "source": [
    "Remember that when training a model, **you should only use the training data!** The test set is reserved exclusively for evaluating your model. Now let's use the classifier:"
   ]
  },
  {
   "cell_type": "code",
   "execution_count": 63,
   "metadata": {},
   "outputs": [
    {
     "data": {
      "text/plain": [
       "array([ True, False, False, False, False, False, False, False, False,\n",
       "        True,  True, False, False, False, False, False, False, False,\n",
       "       False, False,  True,  True, False, False,  True, False,  True,\n",
       "       False,  True, False, False, False,  True, False, False,  True,\n",
       "       False, False, False, False, False, False,  True, False, False,\n",
       "        True, False,  True])"
      ]
     },
     "execution_count": 63,
     "metadata": {},
     "output_type": "execute_result"
    }
   ],
   "source": [
    "knn = KNeighborsClassifier(n_neighbors=1)\n",
    "knn.fit(x_train, y_train)\n",
    "knn.predict(x_test)"
   ]
  },
  {
   "cell_type": "markdown",
   "metadata": {},
   "source": [
    "## KNN Tasks:\n",
    "\n",
    "1) Write a function that computes the accuracy of the predicted values\n",
    "\n"
   ]
  },
  {
   "cell_type": "code",
   "execution_count": 250,
   "metadata": {
    "collapsed": true
   },
   "outputs": [],
   "source": [
    "def evaluateAccuracy(clf,predictDF, truthDF):\n",
    "    correct_pred = 0\n",
    "    pred_x = clf.predict(predictDF)\n",
    "    for i in range(0,len(predictDF)):\n",
    "        if pred_x[i] == truthDF.iloc[i]:\n",
    "            correct_pred +=1\n",
    "    return (correct_pred/len(predictDF))"
   ]
  },
  {
   "cell_type": "code",
   "execution_count": 251,
   "metadata": {},
   "outputs": [
    {
     "data": {
      "text/plain": [
       "0.7083333333333334"
      ]
     },
     "execution_count": 251,
     "metadata": {},
     "output_type": "execute_result"
    }
   ],
   "source": [
    "evaluateAccuracy(knn, x_test,y_test)"
   ]
  },
  {
   "cell_type": "markdown",
   "metadata": {},
   "source": [
    "2) Play around with the n_neighbors value. Fit your data on the training data(x_train, y_train). Then evaluate it on both the training data, and the testing data. How does the accuracy of your train and test set predictions change as you increase n_neighbors?\n"
   ]
  },
  {
   "cell_type": "markdown",
   "metadata": {},
   "source": [
    "It seems that the performing on the training set decreases as k increases. The performance on the testing set increases at k = 3, but then drops as k increases as well."
   ]
  },
  {
   "cell_type": "code",
   "execution_count": 252,
   "metadata": {},
   "outputs": [
    {
     "name": "stdout",
     "output_type": "stream",
     "text": [
      "1.0\n",
      "0.7708333333333334\n"
     ]
    }
   ],
   "source": [
    "# try k = 1\n",
    "knn = KNeighborsClassifier(n_neighbors=1)\n",
    "knn.fit(x_train, y_train)\n",
    "print(evaluateAccuracy(knn, x_train,y_train))\n",
    "print(evaluateAccuracy(knn, x_test,y_test))"
   ]
  },
  {
   "cell_type": "code",
   "execution_count": 108,
   "metadata": {},
   "outputs": [
    {
     "name": "stdout",
     "output_type": "stream",
     "text": [
      "0.8363636363636363\n",
      "0.8125\n"
     ]
    }
   ],
   "source": [
    "# try k = 3\n",
    "knn = KNeighborsClassifier(n_neighbors=3)\n",
    "knn.fit(x_train, y_train)\n",
    "print(evaluateAccuracy(knn, x_train,y_train))\n",
    "print(evaluateAccuracy(knn, x_test,y_test))"
   ]
  },
  {
   "cell_type": "code",
   "execution_count": 110,
   "metadata": {},
   "outputs": [
    {
     "name": "stdout",
     "output_type": "stream",
     "text": [
      "0.7909090909090909\n",
      "0.7708333333333334\n"
     ]
    }
   ],
   "source": [
    "# try k = 5\n",
    "knn = KNeighborsClassifier(n_neighbors=5)\n",
    "knn.fit(x_train, y_train)\n",
    "print(evaluateAccuracy(knn, x_train,y_train))\n",
    "print(evaluateAccuracy(knn, x_test,y_test))"
   ]
  },
  {
   "cell_type": "code",
   "execution_count": 106,
   "metadata": {
    "scrolled": true
   },
   "outputs": [
    {
     "name": "stdout",
     "output_type": "stream",
     "text": [
      "0.7454545454545455\n",
      "0.75\n"
     ]
    }
   ],
   "source": [
    "# try k = 10\n",
    "knn = KNeighborsClassifier(n_neighbors=10)\n",
    "knn.fit(x_train, y_train)\n",
    "print(evaluateAccuracy(knn, x_train,y_train))\n",
    "print(evaluateAccuracy(knn, x_test,y_test))"
   ]
  },
  {
   "cell_type": "code",
   "execution_count": 107,
   "metadata": {},
   "outputs": [
    {
     "name": "stdout",
     "output_type": "stream",
     "text": [
      "0.6818181818181818\n",
      "0.75\n"
     ]
    }
   ],
   "source": [
    "# try k = 20\n",
    "knn = KNeighborsClassifier(n_neighbors=20)\n",
    "knn.fit(x_train, y_train)\n",
    "print(evaluateAccuracy(knn, x_train,y_train))\n",
    "print(evaluateAccuracy(knn, x_test,y_test))"
   ]
  },
  {
   "cell_type": "code",
   "execution_count": 111,
   "metadata": {},
   "outputs": [
    {
     "name": "stdout",
     "output_type": "stream",
     "text": [
      "0.6727272727272727\n",
      "0.7291666666666666\n"
     ]
    }
   ],
   "source": [
    "# try k = 30\n",
    "knn = KNeighborsClassifier(n_neighbors=30)\n",
    "knn.fit(x_train, y_train)\n",
    "print(evaluateAccuracy(knn, x_train,y_train))\n",
    "print(evaluateAccuracy(knn, x_test,y_test))"
   ]
  },
  {
   "cell_type": "code",
   "execution_count": 114,
   "metadata": {},
   "outputs": [
    {
     "name": "stdout",
     "output_type": "stream",
     "text": [
      "0.6727272727272727\n",
      "0.7083333333333334\n"
     ]
    }
   ],
   "source": [
    "# try k = 50\n",
    "knn = KNeighborsClassifier(n_neighbors=50)\n",
    "knn.fit(x_train, y_train)\n",
    "print(evaluateAccuracy(knn, x_train,y_train))\n",
    "print(evaluateAccuracy(knn, x_test,y_test))"
   ]
  },
  {
   "cell_type": "markdown",
   "metadata": {},
   "source": [
    "3) The KNeighborsClassifier also has a [predict_proba](http://scikit-learn.org/stable/modules/generated/sklearn.neighbors.KNeighborsClassifier.html#sklearn.neighbors.KNeighborsClassifier.predict_proba) function. Which countries is the classifier most/least confident about?"
   ]
  },
  {
   "cell_type": "code",
   "execution_count": 147,
   "metadata": {},
   "outputs": [],
   "source": [
    "confidence = knn.predict_proba(x_test)\n",
    "x_test2 = x_test.reset_index()"
   ]
  },
  {
   "cell_type": "code",
   "execution_count": 175,
   "metadata": {},
   "outputs": [],
   "source": [
    "country_no = []\n",
    "max_prob = []\n",
    "for i in range(0, len(x_test2)):\n",
    "    country_no.append(x_test2.iloc[i,0])\n",
    "    max_prob.append(max(confidence[i]))"
   ]
  },
  {
   "cell_type": "code",
   "execution_count": 177,
   "metadata": {},
   "outputs": [],
   "source": [
    "tempDF = pd.DataFrame({'a': country_no,\n",
    "                      'b': max_prob})"
   ]
  },
  {
   "cell_type": "code",
   "execution_count": 189,
   "metadata": {},
   "outputs": [
    {
     "name": "stderr",
     "output_type": "stream",
     "text": [
      "/Users/xiangyu/anaconda3/lib/python3.6/site-packages/ipykernel_launcher.py:2: SettingWithCopyWarning: \n",
      "A value is trying to be set on a copy of a slice from a DataFrame\n",
      "\n",
      "See the caveats in the documentation: http://pandas.pydata.org/pandas-docs/stable/indexing.html#indexing-view-versus-copy\n",
      "  \n"
     ]
    }
   ],
   "source": [
    "for i in range(0, len(tempDF)):\n",
    "    tempDF['cname'][i] = countries[tempDF['a'][i]]"
   ]
  },
  {
   "cell_type": "code",
   "execution_count": 191,
   "metadata": {},
   "outputs": [
    {
     "data": {
      "text/html": [
       "<div>\n",
       "<style scoped>\n",
       "    .dataframe tbody tr th:only-of-type {\n",
       "        vertical-align: middle;\n",
       "    }\n",
       "\n",
       "    .dataframe tbody tr th {\n",
       "        vertical-align: top;\n",
       "    }\n",
       "\n",
       "    .dataframe thead th {\n",
       "        text-align: right;\n",
       "    }\n",
       "</style>\n",
       "<table border=\"1\" class=\"dataframe\">\n",
       "  <thead>\n",
       "    <tr style=\"text-align: right;\">\n",
       "      <th></th>\n",
       "      <th>a</th>\n",
       "      <th>b</th>\n",
       "      <th>cname</th>\n",
       "    </tr>\n",
       "  </thead>\n",
       "  <tbody>\n",
       "    <tr>\n",
       "      <th>18</th>\n",
       "      <td>147</td>\n",
       "      <td>0.78</td>\n",
       "      <td>Central African Republic</td>\n",
       "    </tr>\n",
       "    <tr>\n",
       "      <th>25</th>\n",
       "      <td>152</td>\n",
       "      <td>0.78</td>\n",
       "      <td>Afghanistan</td>\n",
       "    </tr>\n",
       "    <tr>\n",
       "      <th>31</th>\n",
       "      <td>130</td>\n",
       "      <td>0.78</td>\n",
       "      <td>Malawi</td>\n",
       "    </tr>\n",
       "  </tbody>\n",
       "</table>\n",
       "</div>"
      ],
      "text/plain": [
       "      a     b                     cname\n",
       "18  147  0.78  Central African Republic\n",
       "25  152  0.78               Afghanistan\n",
       "31  130  0.78                    Malawi"
      ]
     },
     "execution_count": 191,
     "metadata": {},
     "output_type": "execute_result"
    }
   ],
   "source": [
    "tempDF.sort_values('b', ascending = False)[:3]"
   ]
  },
  {
   "cell_type": "code",
   "execution_count": 192,
   "metadata": {},
   "outputs": [
    {
     "data": {
      "text/html": [
       "<div>\n",
       "<style scoped>\n",
       "    .dataframe tbody tr th:only-of-type {\n",
       "        vertical-align: middle;\n",
       "    }\n",
       "\n",
       "    .dataframe tbody tr th {\n",
       "        vertical-align: top;\n",
       "    }\n",
       "\n",
       "    .dataframe thead th {\n",
       "        text-align: right;\n",
       "    }\n",
       "</style>\n",
       "<table border=\"1\" class=\"dataframe\">\n",
       "  <thead>\n",
       "    <tr style=\"text-align: right;\">\n",
       "      <th></th>\n",
       "      <th>a</th>\n",
       "      <th>b</th>\n",
       "      <th>cname</th>\n",
       "    </tr>\n",
       "  </thead>\n",
       "  <tbody>\n",
       "    <tr>\n",
       "      <th>45</th>\n",
       "      <td>72</td>\n",
       "      <td>0.54</td>\n",
       "      <td>Estonia</td>\n",
       "    </tr>\n",
       "    <tr>\n",
       "      <th>26</th>\n",
       "      <td>44</td>\n",
       "      <td>0.56</td>\n",
       "      <td>Slovakia</td>\n",
       "    </tr>\n",
       "    <tr>\n",
       "      <th>34</th>\n",
       "      <td>53</td>\n",
       "      <td>0.56</td>\n",
       "      <td>Kazakhstan</td>\n",
       "    </tr>\n",
       "  </tbody>\n",
       "</table>\n",
       "</div>"
      ],
      "text/plain": [
       "     a     b       cname\n",
       "45  72  0.54     Estonia\n",
       "26  44  0.56    Slovakia\n",
       "34  53  0.56  Kazakhstan"
      ]
     },
     "execution_count": 192,
     "metadata": {},
     "output_type": "execute_result"
    }
   ],
   "source": [
    "tempDF.sort_values('b', ascending = True)[:3]"
   ]
  },
  {
   "cell_type": "markdown",
   "metadata": {},
   "source": [
    "4) You can see what datapoints are closest to a given query point via the [kneighbors function](http://scikit-learn.org/stable/modules/generated/sklearn.neighbors.KNeighborsClassifier.html#sklearn.neighbors.KNeighborsClassifier.kneighbors). What countries are closest to Switzerland? United States? Your favorite country?"
   ]
  },
  {
   "cell_type": "code",
   "execution_count": 194,
   "metadata": {},
   "outputs": [
    {
     "data": {
      "text/html": [
       "<div>\n",
       "<style scoped>\n",
       "    .dataframe tbody tr th:only-of-type {\n",
       "        vertical-align: middle;\n",
       "    }\n",
       "\n",
       "    .dataframe tbody tr th {\n",
       "        vertical-align: top;\n",
       "    }\n",
       "\n",
       "    .dataframe thead th {\n",
       "        text-align: right;\n",
       "    }\n",
       "</style>\n",
       "<table border=\"1\" class=\"dataframe\">\n",
       "  <thead>\n",
       "    <tr style=\"text-align: right;\">\n",
       "      <th></th>\n",
       "      <th>Country</th>\n",
       "      <th>Happiness Score</th>\n",
       "      <th>Standard Error</th>\n",
       "      <th>Economy (GDP per Capita)</th>\n",
       "      <th>Family</th>\n",
       "      <th>Health (Life Expectancy)</th>\n",
       "      <th>Freedom</th>\n",
       "      <th>Trust (Government Corruption)</th>\n",
       "      <th>Generosity</th>\n",
       "      <th>Dystopia Residual</th>\n",
       "      <th>In Europe</th>\n",
       "    </tr>\n",
       "  </thead>\n",
       "  <tbody>\n",
       "    <tr>\n",
       "      <th>0</th>\n",
       "      <td>Switzerland</td>\n",
       "      <td>7.587</td>\n",
       "      <td>0.03411</td>\n",
       "      <td>1.39651</td>\n",
       "      <td>1.34951</td>\n",
       "      <td>0.94143</td>\n",
       "      <td>0.66557</td>\n",
       "      <td>0.41978</td>\n",
       "      <td>0.29678</td>\n",
       "      <td>2.51738</td>\n",
       "      <td>True</td>\n",
       "    </tr>\n",
       "  </tbody>\n",
       "</table>\n",
       "</div>"
      ],
      "text/plain": [
       "       Country  Happiness Score  Standard Error  Economy (GDP per Capita)  \\\n",
       "0  Switzerland            7.587         0.03411                   1.39651   \n",
       "\n",
       "    Family  Health (Life Expectancy)  Freedom  Trust (Government Corruption)  \\\n",
       "0  1.34951                   0.94143  0.66557                        0.41978   \n",
       "\n",
       "   Generosity  Dystopia Residual  In Europe  \n",
       "0     0.29678            2.51738       True  "
      ]
     },
     "execution_count": 194,
     "metadata": {},
     "output_type": "execute_result"
    }
   ],
   "source": [
    "df[df[\"Country\"]==\"Switzerland\"]"
   ]
  },
  {
   "cell_type": "code",
   "execution_count": 210,
   "metadata": {},
   "outputs": [],
   "source": [
    "x_train2 = x_train.reset_index()"
   ]
  },
  {
   "cell_type": "code",
   "execution_count": 216,
   "metadata": {},
   "outputs": [
    {
     "data": {
      "text/html": [
       "<div>\n",
       "<style scoped>\n",
       "    .dataframe tbody tr th:only-of-type {\n",
       "        vertical-align: middle;\n",
       "    }\n",
       "\n",
       "    .dataframe tbody tr th {\n",
       "        vertical-align: top;\n",
       "    }\n",
       "\n",
       "    .dataframe thead th {\n",
       "        text-align: right;\n",
       "    }\n",
       "</style>\n",
       "<table border=\"1\" class=\"dataframe\">\n",
       "  <thead>\n",
       "    <tr style=\"text-align: right;\">\n",
       "      <th></th>\n",
       "      <th>Happiness Score</th>\n",
       "      <th>Standard Error</th>\n",
       "      <th>Economy (GDP per Capita)</th>\n",
       "      <th>Family</th>\n",
       "      <th>Health (Life Expectancy)</th>\n",
       "      <th>Freedom</th>\n",
       "      <th>Trust (Government Corruption)</th>\n",
       "      <th>Generosity</th>\n",
       "      <th>Dystopia Residual</th>\n",
       "    </tr>\n",
       "  </thead>\n",
       "  <tbody>\n",
       "    <tr>\n",
       "      <th>17</th>\n",
       "      <td>7.587</td>\n",
       "      <td>0.03411</td>\n",
       "      <td>1.39651</td>\n",
       "      <td>1.34951</td>\n",
       "      <td>0.94143</td>\n",
       "      <td>0.66557</td>\n",
       "      <td>0.41978</td>\n",
       "      <td>0.29678</td>\n",
       "      <td>2.51738</td>\n",
       "    </tr>\n",
       "  </tbody>\n",
       "</table>\n",
       "</div>"
      ],
      "text/plain": [
       "    Happiness Score  Standard Error  Economy (GDP per Capita)   Family  \\\n",
       "17            7.587         0.03411                   1.39651  1.34951   \n",
       "\n",
       "    Health (Life Expectancy)  Freedom  Trust (Government Corruption)  \\\n",
       "17                   0.94143  0.66557                        0.41978   \n",
       "\n",
       "    Generosity  Dystopia Residual  \n",
       "17     0.29678            2.51738  "
      ]
     },
     "execution_count": 216,
     "metadata": {},
     "output_type": "execute_result"
    }
   ],
   "source": [
    "x_train2[x_train2[\"index\"] == 0].drop(\"index\", axis = 1)"
   ]
  },
  {
   "cell_type": "code",
   "execution_count": 222,
   "metadata": {},
   "outputs": [
    {
     "data": {
      "text/plain": [
       "(array([[0.        , 0.1410828 , 0.14210154]]), array([[17, 64, 65]]))"
      ]
     },
     "execution_count": 222,
     "metadata": {},
     "output_type": "execute_result"
    }
   ],
   "source": [
    "knn.kneighbors(x_train2[x_train2[\"index\"] == 0].drop(\"index\", axis =1), 3)"
   ]
  },
  {
   "cell_type": "code",
   "execution_count": 224,
   "metadata": {},
   "outputs": [
    {
     "name": "stdout",
     "output_type": "stream",
     "text": [
      "Ireland\n",
      "Jamaica\n",
      "North Cyprus\n"
     ]
    }
   ],
   "source": [
    "print(countries[17])\n",
    "print(countries[64])\n",
    "print(countries[65])"
   ]
  },
  {
   "cell_type": "markdown",
   "metadata": {},
   "source": [
    "5) Use a different metric for the KNN classifier. Evaluate the train/test set accuracies with the new KNN classifier."
   ]
  },
  {
   "cell_type": "code",
   "execution_count": 227,
   "metadata": {},
   "outputs": [
    {
     "name": "stdout",
     "output_type": "stream",
     "text": [
      "0.7727272727272727\n",
      "0.75\n"
     ]
    }
   ],
   "source": [
    "knn = KNeighborsClassifier(n_neighbors=10,  metric='manhattan')\n",
    "knn.fit(x_train, y_train)\n",
    "print(evaluateAccuracy(knn, x_train,y_train))\n",
    "print(evaluateAccuracy(knn, x_test,y_test))"
   ]
  },
  {
   "cell_type": "markdown",
   "metadata": {},
   "source": [
    "6) Use a different weighting function for the KNN classifier. Evaluate the train/test set accuracies with the new KNN classifier."
   ]
  },
  {
   "cell_type": "code",
   "execution_count": 228,
   "metadata": {},
   "outputs": [
    {
     "name": "stdout",
     "output_type": "stream",
     "text": [
      "1.0\n",
      "0.8125\n"
     ]
    }
   ],
   "source": [
    "knn = KNeighborsClassifier(n_neighbors=10,  metric='manhattan', weights = \"distance\")\n",
    "knn.fit(x_train, y_train)\n",
    "print(evaluateAccuracy(knn, x_train,y_train))\n",
    "print(evaluateAccuracy(knn, x_test,y_test))"
   ]
  },
  {
   "cell_type": "markdown",
   "metadata": {},
   "source": [
    "## Now write a nested for loop that loops over all the parameters and values and store the results in a data frame\n",
    "\n",
    "### pseudocode\n",
    "\n",
    "- for k in 1,2,3,4,5...10\n",
    "  - for distance metric in (metric1, metric2,...)\n",
    "    - for weighting function in (uniform, distance weighted)\n",
    "      - train model\n",
    "      - score test data\n",
    "      - evaluate - calculate metrics\n",
    "      - store parameters and evaluation metric in data frame\n",
    "- print dataframe\n",
    "\n",
    "\n",
    "     "
   ]
  },
  {
   "cell_type": "code",
   "execution_count": 237,
   "metadata": {},
   "outputs": [],
   "source": [
    "def try_many_par_KNN():\n",
    "\tk_list = [3,5,8,10, 13,15,20,25,30,50]\n",
    "\tdistance_list = [\"euclidean\", \"manhattan\", \"chebyshev\" ]\n",
    "\tweights_list = [\"uniform\", \"distance\"]\n",
    "\n",
    "\n",
    "\tk_rec = []\n",
    "\tdist_rec = []\n",
    "\tweights_rec = []\n",
    "\ttr_acc_rec = []\n",
    "\ttest_acc_rec = []\n",
    "\n",
    "\tfor index, row in enumerate(k_list):\n",
    "\t\tfor index_d, row_d in enumerate(distance_list):\n",
    "\t\t\tfor index_w, row_w in enumerate(weights_list):\n",
    "\t\t\t\tknn = KNeighborsClassifier(n_neighbors= row,  metric= row_d, weights = row_w)\n",
    "\t\t\t\tknn.fit(x_train, y_train)\n",
    "\t\t\t\tk_rec.append(row)\n",
    "\t\t\t\tdist_rec.append(row_d)\n",
    "\t\t\t\tweights_rec.append(row_w)\n",
    "\t\t\t\ttr_acc_rec.append(evaluateAccuracy(knn, x_train, y_train))\n",
    "\t\t\t\ttest_acc_rec.append(evaluateAccuracy(knn, x_test, y_test))\n",
    "\n",
    "\tfinalDF = pd.DataFrame({'k': k_rec,\n",
    "\t                      'dist': dist_rec,\n",
    "\t                      'weights': weights_rec,\n",
    "\t                      'train_acc': tr_acc_rec,\n",
    "\t                      'test_acc': test_acc_rec})\n",
    "\n",
    "\treturn finalDF\n",
    "\n"
   ]
  },
  {
   "cell_type": "code",
   "execution_count": 240,
   "metadata": {
    "collapsed": true
   },
   "outputs": [],
   "source": [
    "finalDF = try_many_par_KNN()"
   ]
  },
  {
   "cell_type": "code",
   "execution_count": 241,
   "metadata": {},
   "outputs": [
    {
     "data": {
      "text/html": [
       "<div>\n",
       "<style scoped>\n",
       "    .dataframe tbody tr th:only-of-type {\n",
       "        vertical-align: middle;\n",
       "    }\n",
       "\n",
       "    .dataframe tbody tr th {\n",
       "        vertical-align: top;\n",
       "    }\n",
       "\n",
       "    .dataframe thead th {\n",
       "        text-align: right;\n",
       "    }\n",
       "</style>\n",
       "<table border=\"1\" class=\"dataframe\">\n",
       "  <thead>\n",
       "    <tr style=\"text-align: right;\">\n",
       "      <th></th>\n",
       "      <th>dist</th>\n",
       "      <th>k</th>\n",
       "      <th>test_acc</th>\n",
       "      <th>train_acc</th>\n",
       "      <th>weights</th>\n",
       "    </tr>\n",
       "  </thead>\n",
       "  <tbody>\n",
       "    <tr>\n",
       "      <th>0</th>\n",
       "      <td>euclidean</td>\n",
       "      <td>3</td>\n",
       "      <td>0.812500</td>\n",
       "      <td>0.836364</td>\n",
       "      <td>uniform</td>\n",
       "    </tr>\n",
       "    <tr>\n",
       "      <th>1</th>\n",
       "      <td>euclidean</td>\n",
       "      <td>3</td>\n",
       "      <td>0.812500</td>\n",
       "      <td>1.000000</td>\n",
       "      <td>distance</td>\n",
       "    </tr>\n",
       "    <tr>\n",
       "      <th>2</th>\n",
       "      <td>manhattan</td>\n",
       "      <td>3</td>\n",
       "      <td>0.833333</td>\n",
       "      <td>0.900000</td>\n",
       "      <td>uniform</td>\n",
       "    </tr>\n",
       "  </tbody>\n",
       "</table>\n",
       "</div>"
      ],
      "text/plain": [
       "        dist  k  test_acc  train_acc   weights\n",
       "0  euclidean  3  0.812500   0.836364   uniform\n",
       "1  euclidean  3  0.812500   1.000000  distance\n",
       "2  manhattan  3  0.833333   0.900000   uniform"
      ]
     },
     "execution_count": 241,
     "metadata": {},
     "output_type": "execute_result"
    }
   ],
   "source": [
    "finalDF.head(3)"
   ]
  },
  {
   "cell_type": "code",
   "execution_count": 242,
   "metadata": {},
   "outputs": [
    {
     "data": {
      "text/html": [
       "<div>\n",
       "<style scoped>\n",
       "    .dataframe tbody tr th:only-of-type {\n",
       "        vertical-align: middle;\n",
       "    }\n",
       "\n",
       "    .dataframe tbody tr th {\n",
       "        vertical-align: top;\n",
       "    }\n",
       "\n",
       "    .dataframe thead th {\n",
       "        text-align: right;\n",
       "    }\n",
       "</style>\n",
       "<table border=\"1\" class=\"dataframe\">\n",
       "  <thead>\n",
       "    <tr style=\"text-align: right;\">\n",
       "      <th></th>\n",
       "      <th>dist</th>\n",
       "      <th>k</th>\n",
       "      <th>test_acc</th>\n",
       "      <th>train_acc</th>\n",
       "      <th>weights</th>\n",
       "    </tr>\n",
       "  </thead>\n",
       "  <tbody>\n",
       "    <tr>\n",
       "      <th>8</th>\n",
       "      <td>manhattan</td>\n",
       "      <td>5</td>\n",
       "      <td>0.875000</td>\n",
       "      <td>0.836364</td>\n",
       "      <td>uniform</td>\n",
       "    </tr>\n",
       "    <tr>\n",
       "      <th>9</th>\n",
       "      <td>manhattan</td>\n",
       "      <td>5</td>\n",
       "      <td>0.875000</td>\n",
       "      <td>1.000000</td>\n",
       "      <td>distance</td>\n",
       "    </tr>\n",
       "    <tr>\n",
       "      <th>2</th>\n",
       "      <td>manhattan</td>\n",
       "      <td>3</td>\n",
       "      <td>0.833333</td>\n",
       "      <td>0.900000</td>\n",
       "      <td>uniform</td>\n",
       "    </tr>\n",
       "    <tr>\n",
       "      <th>3</th>\n",
       "      <td>manhattan</td>\n",
       "      <td>3</td>\n",
       "      <td>0.833333</td>\n",
       "      <td>1.000000</td>\n",
       "      <td>distance</td>\n",
       "    </tr>\n",
       "    <tr>\n",
       "      <th>4</th>\n",
       "      <td>chebyshev</td>\n",
       "      <td>3</td>\n",
       "      <td>0.833333</td>\n",
       "      <td>0.790909</td>\n",
       "      <td>uniform</td>\n",
       "    </tr>\n",
       "    <tr>\n",
       "      <th>15</th>\n",
       "      <td>manhattan</td>\n",
       "      <td>8</td>\n",
       "      <td>0.833333</td>\n",
       "      <td>1.000000</td>\n",
       "      <td>distance</td>\n",
       "    </tr>\n",
       "    <tr>\n",
       "      <th>0</th>\n",
       "      <td>euclidean</td>\n",
       "      <td>3</td>\n",
       "      <td>0.812500</td>\n",
       "      <td>0.836364</td>\n",
       "      <td>uniform</td>\n",
       "    </tr>\n",
       "    <tr>\n",
       "      <th>13</th>\n",
       "      <td>euclidean</td>\n",
       "      <td>8</td>\n",
       "      <td>0.812500</td>\n",
       "      <td>1.000000</td>\n",
       "      <td>distance</td>\n",
       "    </tr>\n",
       "    <tr>\n",
       "      <th>21</th>\n",
       "      <td>manhattan</td>\n",
       "      <td>10</td>\n",
       "      <td>0.812500</td>\n",
       "      <td>1.000000</td>\n",
       "      <td>distance</td>\n",
       "    </tr>\n",
       "    <tr>\n",
       "      <th>1</th>\n",
       "      <td>euclidean</td>\n",
       "      <td>3</td>\n",
       "      <td>0.812500</td>\n",
       "      <td>1.000000</td>\n",
       "      <td>distance</td>\n",
       "    </tr>\n",
       "  </tbody>\n",
       "</table>\n",
       "</div>"
      ],
      "text/plain": [
       "         dist   k  test_acc  train_acc   weights\n",
       "8   manhattan   5  0.875000   0.836364   uniform\n",
       "9   manhattan   5  0.875000   1.000000  distance\n",
       "2   manhattan   3  0.833333   0.900000   uniform\n",
       "3   manhattan   3  0.833333   1.000000  distance\n",
       "4   chebyshev   3  0.833333   0.790909   uniform\n",
       "15  manhattan   8  0.833333   1.000000  distance\n",
       "0   euclidean   3  0.812500   0.836364   uniform\n",
       "13  euclidean   8  0.812500   1.000000  distance\n",
       "21  manhattan  10  0.812500   1.000000  distance\n",
       "1   euclidean   3  0.812500   1.000000  distance"
      ]
     },
     "execution_count": 242,
     "metadata": {},
     "output_type": "execute_result"
    }
   ],
   "source": [
    "# 10 best performing on test set\n",
    "finalDF.sort_values('test_acc', ascending= False)[:10]"
   ]
  },
  {
   "cell_type": "markdown",
   "metadata": {},
   "source": [
    "###  You cn now use this data frame to analyze the results and see how the model performs as you modify the parameters"
   ]
  },
  {
   "cell_type": "markdown",
   "metadata": {},
   "source": [
    "# Decision Trees"
   ]
  },
  {
   "cell_type": "markdown",
   "metadata": {},
   "source": [
    "Moving onto decision trees. The [DecisionTreeClassifier constructor](http://scikit-learn.org/stable/modules/generated/sklearn.tree.DecisionTreeClassifier.html#sklearn.tree.DecisionTreeClassifier) can take a number of parameters. You should look at all the available \n",
    "- criterion: string, \"gini' for Gini Impurity or 'entropy' for information gain\n",
    "- splitter: string,  \"best\" or 'random'\n",
    "- max_features: the number of features to consider when looking for the best split.\n",
    "- max_depth: int, the maximum depth of the tree.\n",
    "- min_samples_split: minimum number of samples required to split an internal node\n",
    "- min_samples_leaf: min number of samples required to be at a leaf node.\n",
    "- max_leaf_nodes: max number of leaf nodes a tree can have\n",
    "\n",
    "We can do the same fit/predict/predict_proba:"
   ]
  },
  {
   "cell_type": "code",
   "execution_count": 244,
   "metadata": {},
   "outputs": [
    {
     "data": {
      "text/plain": [
       "DecisionTreeClassifier(class_weight=None, criterion='gini', max_depth=None,\n",
       "            max_features=None, max_leaf_nodes=None,\n",
       "            min_impurity_decrease=0.0, min_impurity_split=None,\n",
       "            min_samples_leaf=1, min_samples_split=2,\n",
       "            min_weight_fraction_leaf=0.0, presort=False, random_state=None,\n",
       "            splitter='best')"
      ]
     },
     "execution_count": 244,
     "metadata": {},
     "output_type": "execute_result"
    }
   ],
   "source": [
    "dec_tree = DecisionTreeClassifier()\n",
    "dec_tree.fit(x_train, y_train)\n",
    "# dec_tree.predict(x_train)\n",
    "# dec_tree.predict_proba(y_train)"
   ]
  },
  {
   "cell_type": "markdown",
   "metadata": {},
   "source": [
    "We'll be interested in how each of these parameters will affect the performance of a Decision Tree classifier.\n",
    "\n",
    "For example: Increasing max_depth this should increase your model's ability to explain the data and eventually overfit the training data once it's high enough. The performance on the test set should degrade a bit as the training set is overfitted."
   ]
  },
  {
   "cell_type": "code",
   "execution_count": 246,
   "metadata": {
    "collapsed": true
   },
   "outputs": [],
   "source": [
    "from sklearn.metrics import accuracy_score as accuracy"
   ]
  },
  {
   "cell_type": "code",
   "execution_count": 283,
   "metadata": {},
   "outputs": [
    {
     "name": "stdout",
     "output_type": "stream",
     "text": [
      "Depth: 1 | Train acc: 0.76 | Test acc: 0.73\n",
      "Depth: 3 | Train acc: 0.92 | Test acc: 0.65\n",
      "Depth: 5 | Train acc: 0.97 | Test acc: 0.60\n",
      "Depth: 7 | Train acc: 1.00 | Test acc: 0.58\n",
      "Depth: 9 | Train acc: 1.00 | Test acc: 0.58\n"
     ]
    }
   ],
   "source": [
    "depths = [1, 3, 5, 7, 9]\n",
    "for d in depths:\n",
    "    dec_tree = DecisionTreeClassifier(max_depth=d)\n",
    "    dec_tree.fit(x_train, y_train)\n",
    "    train_pred = dec_tree.predict(x_train)\n",
    "    test_pred = dec_tree.predict(x_test)\n",
    "    # evaluate accuracy\n",
    "    train_acc = accuracy(train_pred, y_train)\n",
    "    test_acc = accuracy(test_pred, y_test)\n",
    "    \n",
    "    print(\"Depth: {} | Train acc: {:.2f} | Test acc: {:.2f}\".format(d, train_acc, test_acc))"
   ]
  },
  {
   "cell_type": "markdown",
   "metadata": {},
   "source": [
    "## Decision Tree Tasks\n",
    "1) Repeat the above with each parameter in DecisionTreeClassifier. What range of values makes sense for each parameter?\n",
    "(IE: does it make sense to have max_depth greater than 7 or 8 for this dataset?)"
   ]
  },
  {
   "cell_type": "code",
   "execution_count": 262,
   "metadata": {},
   "outputs": [
    {
     "name": "stdout",
     "output_type": "stream",
     "text": [
      "Depth: 1 | Train acc: 0.76 | Test acc: 0.73\n",
      "Depth: 3 | Train acc: 0.92 | Test acc: 0.65\n",
      "Depth: 5 | Train acc: 0.96 | Test acc: 0.60\n",
      "Depth: 7 | Train acc: 1.00 | Test acc: 0.56\n",
      "Depth: 9 | Train acc: 1.00 | Test acc: 0.60\n",
      "Depth: 15 | Train acc: 1.00 | Test acc: 0.56\n",
      "Depth: 20 | Train acc: 1.00 | Test acc: 0.60\n"
     ]
    }
   ],
   "source": [
    "depths = [1, 3, 5, 7, 9,15,20]\n",
    "for d in depths:\n",
    "    dec_tree = DecisionTreeClassifier(max_depth=d)\n",
    "    dec_tree.fit(x_train, y_train)\n",
    "    train_pred = dec_tree.predict(x_train)\n",
    "    test_pred = dec_tree.predict(x_test)\n",
    "    # evaluate accuracy\n",
    "    train_acc = accuracy(train_pred, y_train)\n",
    "    test_acc = accuracy(test_pred, y_test)\n",
    "    \n",
    "    print(\"Depth: {} | Train acc: {:.2f} | Test acc: {:.2f}\".format(d, train_acc, test_acc))"
   ]
  },
  {
   "cell_type": "markdown",
   "metadata": {},
   "source": [
    "2) What do you think will happen if you normalize/scale one of the features of your dataset before passing it into the DecisionTreeClassifier.fit function? Try modifying one of your columns and rerun the evaluations above.\n",
    "Do the results change? Why does/doesnt this change the resulting model?"
   ]
  },
  {
   "cell_type": "code",
   "execution_count": 270,
   "metadata": {},
   "outputs": [
    {
     "data": {
      "text/html": [
       "<div>\n",
       "<style scoped>\n",
       "    .dataframe tbody tr th:only-of-type {\n",
       "        vertical-align: middle;\n",
       "    }\n",
       "\n",
       "    .dataframe tbody tr th {\n",
       "        vertical-align: top;\n",
       "    }\n",
       "\n",
       "    .dataframe thead th {\n",
       "        text-align: right;\n",
       "    }\n",
       "</style>\n",
       "<table border=\"1\" class=\"dataframe\">\n",
       "  <thead>\n",
       "    <tr style=\"text-align: right;\">\n",
       "      <th></th>\n",
       "      <th>Happiness Score</th>\n",
       "      <th>Standard Error</th>\n",
       "      <th>Economy (GDP per Capita)</th>\n",
       "      <th>Family</th>\n",
       "      <th>Health (Life Expectancy)</th>\n",
       "      <th>Freedom</th>\n",
       "      <th>Trust (Government Corruption)</th>\n",
       "      <th>Generosity</th>\n",
       "      <th>Dystopia Residual</th>\n",
       "    </tr>\n",
       "  </thead>\n",
       "  <tbody>\n",
       "    <tr>\n",
       "      <th>142</th>\n",
       "      <td>3.896</td>\n",
       "      <td>0.04547</td>\n",
       "      <td>1.06024</td>\n",
       "      <td>0.90528</td>\n",
       "      <td>0.43372</td>\n",
       "      <td>0.31914</td>\n",
       "      <td>0.11091</td>\n",
       "      <td>0.06822</td>\n",
       "      <td>0.99895</td>\n",
       "    </tr>\n",
       "    <tr>\n",
       "      <th>73</th>\n",
       "      <td>5.399</td>\n",
       "      <td>0.02596</td>\n",
       "      <td>0.82827</td>\n",
       "      <td>1.08708</td>\n",
       "      <td>0.63793</td>\n",
       "      <td>0.46611</td>\n",
       "      <td>0.00000</td>\n",
       "      <td>0.51535</td>\n",
       "      <td>1.86399</td>\n",
       "    </tr>\n",
       "    <tr>\n",
       "      <th>139</th>\n",
       "      <td>3.956</td>\n",
       "      <td>0.04797</td>\n",
       "      <td>0.23906</td>\n",
       "      <td>0.79273</td>\n",
       "      <td>0.36315</td>\n",
       "      <td>0.22917</td>\n",
       "      <td>0.19900</td>\n",
       "      <td>0.17441</td>\n",
       "      <td>1.95812</td>\n",
       "    </tr>\n",
       "    <tr>\n",
       "      <th>91</th>\n",
       "      <td>5.013</td>\n",
       "      <td>0.03420</td>\n",
       "      <td>0.73479</td>\n",
       "      <td>0.64095</td>\n",
       "      <td>0.60954</td>\n",
       "      <td>0.41691</td>\n",
       "      <td>0.08546</td>\n",
       "      <td>0.07172</td>\n",
       "      <td>2.45373</td>\n",
       "    </tr>\n",
       "    <tr>\n",
       "      <th>93</th>\n",
       "      <td>4.971</td>\n",
       "      <td>0.07896</td>\n",
       "      <td>0.08308</td>\n",
       "      <td>1.02626</td>\n",
       "      <td>0.09131</td>\n",
       "      <td>0.34037</td>\n",
       "      <td>0.15603</td>\n",
       "      <td>0.22269</td>\n",
       "      <td>3.05137</td>\n",
       "    </tr>\n",
       "  </tbody>\n",
       "</table>\n",
       "</div>"
      ],
      "text/plain": [
       "     Happiness Score  Standard Error  Economy (GDP per Capita)   Family  \\\n",
       "142            3.896         0.04547                   1.06024  0.90528   \n",
       "73             5.399         0.02596                   0.82827  1.08708   \n",
       "139            3.956         0.04797                   0.23906  0.79273   \n",
       "91             5.013         0.03420                   0.73479  0.64095   \n",
       "93             4.971         0.07896                   0.08308  1.02626   \n",
       "\n",
       "     Health (Life Expectancy)  Freedom  Trust (Government Corruption)  \\\n",
       "142                   0.43372  0.31914                        0.11091   \n",
       "73                    0.63793  0.46611                        0.00000   \n",
       "139                   0.36315  0.22917                        0.19900   \n",
       "91                    0.60954  0.41691                        0.08546   \n",
       "93                    0.09131  0.34037                        0.15603   \n",
       "\n",
       "     Generosity  Dystopia Residual  \n",
       "142     0.06822            0.99895  \n",
       "73      0.51535            1.86399  \n",
       "139     0.17441            1.95812  \n",
       "91      0.07172            2.45373  \n",
       "93      0.22269            3.05137  "
      ]
     },
     "execution_count": 270,
     "metadata": {},
     "output_type": "execute_result"
    }
   ],
   "source": [
    "x_test.head()"
   ]
  },
  {
   "cell_type": "code",
   "execution_count": 271,
   "metadata": {
    "collapsed": true
   },
   "outputs": [],
   "source": [
    "from sklearn import preprocessing"
   ]
  },
  {
   "cell_type": "code",
   "execution_count": 277,
   "metadata": {
    "collapsed": true
   },
   "outputs": [],
   "source": [
    "# Create a minimum and maximum processor object\n",
    "min_max_scaler = preprocessing.MinMaxScaler()\n",
    "\n",
    "# Create an object to transform the data to fit minmax processor\n",
    "xtest_scaled = min_max_scaler.fit_transform(x_test)\n",
    "xtrain_scaled = min_max_scaler.fit_transform(x_train)"
   ]
  },
  {
   "cell_type": "code",
   "execution_count": 278,
   "metadata": {},
   "outputs": [],
   "source": [
    "df1_normalized = pd.DataFrame(xtest_scaled)\n",
    "df2_normalized = pd.DataFrame(xtrain_scaled)"
   ]
  },
  {
   "cell_type": "code",
   "execution_count": 280,
   "metadata": {},
   "outputs": [
    {
     "name": "stdout",
     "output_type": "stream",
     "text": [
      "Depth: 1 | Train acc: 0.76 | Test acc: 0.75\n",
      "Depth: 3 | Train acc: 0.92 | Test acc: 0.77\n",
      "Depth: 5 | Train acc: 0.97 | Test acc: 0.73\n",
      "Depth: 7 | Train acc: 1.00 | Test acc: 0.69\n",
      "Depth: 9 | Train acc: 1.00 | Test acc: 0.75\n",
      "Depth: 15 | Train acc: 1.00 | Test acc: 0.77\n",
      "Depth: 20 | Train acc: 1.00 | Test acc: 0.69\n"
     ]
    }
   ],
   "source": [
    "depths = [1, 3, 5, 7, 9,15,20]\n",
    "for d in depths:\n",
    "    dec_tree = DecisionTreeClassifier(max_depth=d)\n",
    "    dec_tree.fit(df2_normalized, y_train)\n",
    "    train_pred = dec_tree.predict(df2_normalized)\n",
    "    test_pred = dec_tree.predict(df1_normalized)\n",
    "    # evaluate accuracy\n",
    "    train_acc = accuracy(train_pred, y_train)\n",
    "    test_acc = accuracy(test_pred, y_test)\n",
    "    \n",
    "    print(\"Depth: {} | Train acc: {:.2f} | Test acc: {:.2f}\".format(d, train_acc, test_acc))"
   ]
  },
  {
   "cell_type": "markdown",
   "metadata": {},
   "source": [
    "It doesn't appear to change."
   ]
  },
  {
   "cell_type": "markdown",
   "metadata": {},
   "source": [
    "3) How does changing the \"criterion\" parameter affect your model. Is Gini better than Information Gain? Do not change the other parameters(max_depth, min_sample_split, etc) while doing this."
   ]
  },
  {
   "cell_type": "code",
   "execution_count": 268,
   "metadata": {
    "collapsed": true
   },
   "outputs": [],
   "source": [
    "def try_crit_DT():\n",
    "\n",
    "    #the parameters that I want to test\n",
    "    crit_list = [\"gini\", \"entropy\"]\n",
    "\n",
    "    #create empty lists\n",
    "    rec_crit = []\n",
    "    rec_trainP = []\n",
    "    rec_testP = []\n",
    "\n",
    "    #loop over every combination of the parameters\n",
    "    for index_c, crit_par in enumerate(crit_list):\n",
    "        dec_tree = DecisionTreeClassifier(criterion = crit_par)\n",
    "        dec_tree.fit(x_train, y_train)\n",
    "        # evaluate accuracy\n",
    "        train_acc = evaluateAccuracy(dec_tree, x_train, y_train)\n",
    "        test_acc = evaluateAccuracy(dec_tree, x_test, y_test)\n",
    "\n",
    "        #append things to the lists\n",
    "        rec_crit.append(crit_par)\n",
    "        rec_trainP.append(train_acc)\n",
    "        rec_testP.append(test_acc)\n",
    "\n",
    "    #stich into a pandas DF\n",
    "    finalDF = pd.DataFrame({\"criterion\": rec_crit,\n",
    "    \"prediction_train\": rec_trainP,\n",
    "    \"prediction_test\": rec_testP \n",
    "    })\n",
    "\n",
    "    return finalDF"
   ]
  },
  {
   "cell_type": "code",
   "execution_count": 269,
   "metadata": {},
   "outputs": [
    {
     "data": {
      "text/html": [
       "<div>\n",
       "<style scoped>\n",
       "    .dataframe tbody tr th:only-of-type {\n",
       "        vertical-align: middle;\n",
       "    }\n",
       "\n",
       "    .dataframe tbody tr th {\n",
       "        vertical-align: top;\n",
       "    }\n",
       "\n",
       "    .dataframe thead th {\n",
       "        text-align: right;\n",
       "    }\n",
       "</style>\n",
       "<table border=\"1\" class=\"dataframe\">\n",
       "  <thead>\n",
       "    <tr style=\"text-align: right;\">\n",
       "      <th></th>\n",
       "      <th>criterion</th>\n",
       "      <th>prediction_test</th>\n",
       "      <th>prediction_train</th>\n",
       "    </tr>\n",
       "  </thead>\n",
       "  <tbody>\n",
       "    <tr>\n",
       "      <th>0</th>\n",
       "      <td>gini</td>\n",
       "      <td>0.583333</td>\n",
       "      <td>1.0</td>\n",
       "    </tr>\n",
       "    <tr>\n",
       "      <th>1</th>\n",
       "      <td>entropy</td>\n",
       "      <td>0.666667</td>\n",
       "      <td>1.0</td>\n",
       "    </tr>\n",
       "  </tbody>\n",
       "</table>\n",
       "</div>"
      ],
      "text/plain": [
       "  criterion  prediction_test  prediction_train\n",
       "0      gini         0.583333               1.0\n",
       "1   entropy         0.666667               1.0"
      ]
     },
     "execution_count": 269,
     "metadata": {},
     "output_type": "execute_result"
    }
   ],
   "source": [
    "try_crit_DT()"
   ]
  },
  {
   "cell_type": "markdown",
   "metadata": {},
   "source": [
    "Entropy appeas to perform better on the test set."
   ]
  },
  {
   "cell_type": "markdown",
   "metadata": {},
   "source": [
    "4) Decision Trees are widely used in practice because they're very interpretable. Check out the [feature_importances](http://scikit-learn.org/stable/modules/generated/sklearn.tree.DecisionTreeClassifier.html#sklearn.tree.DecisionTreeClassifier.feature_importances_) attribute of the DecisionTreeClassifier. What features are the most informative according to this model?"
   ]
  },
  {
   "cell_type": "code",
   "execution_count": 284,
   "metadata": {},
   "outputs": [
    {
     "data": {
      "text/plain": [
       "array([0.02752753, 0.04982922, 0.04717722, 0.17472417, 0.26635669,\n",
       "       0.06056056, 0.29547034, 0.07835426, 0.        ])"
      ]
     },
     "execution_count": 284,
     "metadata": {},
     "output_type": "execute_result"
    }
   ],
   "source": [
    "dec_tree.feature_importances_"
   ]
  },
  {
   "cell_type": "markdown",
   "metadata": {},
   "source": [
    "## Visualizing a Decision Tree\n",
    "We can visualize decision trees by exporting the model in graphviz format using the [sklearn.tree.export_graphviz function](http://scikit-learn.org/stable/modules/generated/sklearn.tree.export_graphviz.html). This can be very useful in diagnosing potential issues with your Decision Tree Classifier giving you poor results."
   ]
  },
  {
   "cell_type": "code",
   "execution_count": 249,
   "metadata": {},
   "outputs": [
    {
     "name": "stderr",
     "output_type": "stream",
     "text": [
      "/Users/xiangyu/anaconda3/lib/python3.6/site-packages/sklearn/tree/export.py:399: DeprecationWarning: out_file can be set to None starting from 0.18. This will be the default in 0.20.\n",
      "  DeprecationWarning)\n"
     ]
    },
    {
     "data": {
      "image/svg+xml": [
       "<?xml version=\"1.0\" encoding=\"UTF-8\" standalone=\"no\"?>\n",
       "<!DOCTYPE svg PUBLIC \"-//W3C//DTD SVG 1.1//EN\"\n",
       " \"http://www.w3.org/Graphics/SVG/1.1/DTD/svg11.dtd\">\n",
       "<!-- Generated by graphviz version 2.40.1 (20161225.0304)\n",
       " -->\n",
       "<!-- Title: Tree Pages: 1 -->\n",
       "<svg width=\"938pt\" height=\"414pt\"\n",
       " viewBox=\"0.00 0.00 937.83 414.00\" xmlns=\"http://www.w3.org/2000/svg\" xmlns:xlink=\"http://www.w3.org/1999/xlink\">\n",
       "<g id=\"graph0\" class=\"graph\" transform=\"scale(1 1) rotate(0) translate(4 410)\">\n",
       "<title>Tree</title>\n",
       "<polygon fill=\"#ffffff\" stroke=\"transparent\" points=\"-4,4 -4,-410 933.834,-410 933.834,4 -4,4\"/>\n",
       "<!-- 0 -->\n",
       "<g id=\"node1\" class=\"node\">\n",
       "<title>0</title>\n",
       "<path fill=\"#e58139\" fill-opacity=\"0.513725\" stroke=\"#000000\" d=\"M645.1799,-406C645.1799,-406 441.8162,-406 441.8162,-406 435.8162,-406 429.8162,-400 429.8162,-394 429.8162,-394 429.8162,-340 429.8162,-340 429.8162,-334 435.8162,-328 441.8162,-328 441.8162,-328 645.1799,-328 645.1799,-328 651.1799,-328 657.1799,-334 657.1799,-340 657.1799,-340 657.1799,-394 657.1799,-394 657.1799,-400 651.1799,-406 645.1799,-406\"/>\n",
       "<text text-anchor=\"middle\" x=\"543.498\" y=\"-390.8\" font-family=\"Helvetica,sans-Serif\" font-size=\"14.00\" fill=\"#000000\">Health (Life Expectancy) &lt;= 0.748</text>\n",
       "<text text-anchor=\"middle\" x=\"543.498\" y=\"-376.8\" font-family=\"Helvetica,sans-Serif\" font-size=\"14.00\" fill=\"#000000\">gini = 0.44</text>\n",
       "<text text-anchor=\"middle\" x=\"543.498\" y=\"-362.8\" font-family=\"Helvetica,sans-Serif\" font-size=\"14.00\" fill=\"#000000\">samples = 110</text>\n",
       "<text text-anchor=\"middle\" x=\"543.498\" y=\"-348.8\" font-family=\"Helvetica,sans-Serif\" font-size=\"14.00\" fill=\"#000000\">value = [74, 36]</text>\n",
       "<text text-anchor=\"middle\" x=\"543.498\" y=\"-334.8\" font-family=\"Helvetica,sans-Serif\" font-size=\"14.00\" fill=\"#000000\">class = Europe</text>\n",
       "</g>\n",
       "<!-- 1 -->\n",
       "<g id=\"node2\" class=\"node\">\n",
       "<title>1</title>\n",
       "<path fill=\"#e58139\" fill-opacity=\"0.827451\" stroke=\"#000000\" d=\"M489.541,-292C489.541,-292 379.4551,-292 379.4551,-292 373.4551,-292 367.4551,-286 367.4551,-280 367.4551,-280 367.4551,-226 367.4551,-226 367.4551,-220 373.4551,-214 379.4551,-214 379.4551,-214 489.541,-214 489.541,-214 495.541,-214 501.541,-220 501.541,-226 501.541,-226 501.541,-280 501.541,-280 501.541,-286 495.541,-292 489.541,-292\"/>\n",
       "<text text-anchor=\"middle\" x=\"434.498\" y=\"-276.8\" font-family=\"Helvetica,sans-Serif\" font-size=\"14.00\" fill=\"#000000\">Generosity &lt;= 0.11</text>\n",
       "<text text-anchor=\"middle\" x=\"434.498\" y=\"-262.8\" font-family=\"Helvetica,sans-Serif\" font-size=\"14.00\" fill=\"#000000\">gini = 0.251</text>\n",
       "<text text-anchor=\"middle\" x=\"434.498\" y=\"-248.8\" font-family=\"Helvetica,sans-Serif\" font-size=\"14.00\" fill=\"#000000\">samples = 68</text>\n",
       "<text text-anchor=\"middle\" x=\"434.498\" y=\"-234.8\" font-family=\"Helvetica,sans-Serif\" font-size=\"14.00\" fill=\"#000000\">value = [58, 10]</text>\n",
       "<text text-anchor=\"middle\" x=\"434.498\" y=\"-220.8\" font-family=\"Helvetica,sans-Serif\" font-size=\"14.00\" fill=\"#000000\">class = Europe</text>\n",
       "</g>\n",
       "<!-- 0&#45;&gt;1 -->\n",
       "<g id=\"edge1\" class=\"edge\">\n",
       "<title>0&#45;&gt;1</title>\n",
       "<path fill=\"none\" stroke=\"#000000\" d=\"M505.9864,-327.7677C497.3371,-318.7216 488.0535,-309.0121 479.1344,-299.6839\"/>\n",
       "<polygon fill=\"#000000\" stroke=\"#000000\" points=\"481.5194,-297.1137 472.0788,-292.3046 476.4599,-301.9513 481.5194,-297.1137\"/>\n",
       "<text text-anchor=\"middle\" x=\"471.5184\" y=\"-313.0984\" font-family=\"Helvetica,sans-Serif\" font-size=\"14.00\" fill=\"#000000\">True</text>\n",
       "</g>\n",
       "<!-- 8 -->\n",
       "<g id=\"node9\" class=\"node\">\n",
       "<title>8</title>\n",
       "<path fill=\"#399de5\" fill-opacity=\"0.384314\" stroke=\"#000000\" d=\"M773.543,-292C773.543,-292 531.4531,-292 531.4531,-292 525.4531,-292 519.4531,-286 519.4531,-280 519.4531,-280 519.4531,-226 519.4531,-226 519.4531,-220 525.4531,-214 531.4531,-214 531.4531,-214 773.543,-214 773.543,-214 779.543,-214 785.543,-220 785.543,-226 785.543,-226 785.543,-280 785.543,-280 785.543,-286 779.543,-292 773.543,-292\"/>\n",
       "<text text-anchor=\"middle\" x=\"652.498\" y=\"-276.8\" font-family=\"Helvetica,sans-Serif\" font-size=\"14.00\" fill=\"#000000\">Trust (Government Corruption) &lt;= 0.071</text>\n",
       "<text text-anchor=\"middle\" x=\"652.498\" y=\"-262.8\" font-family=\"Helvetica,sans-Serif\" font-size=\"14.00\" fill=\"#000000\">gini = 0.472</text>\n",
       "<text text-anchor=\"middle\" x=\"652.498\" y=\"-248.8\" font-family=\"Helvetica,sans-Serif\" font-size=\"14.00\" fill=\"#000000\">samples = 42</text>\n",
       "<text text-anchor=\"middle\" x=\"652.498\" y=\"-234.8\" font-family=\"Helvetica,sans-Serif\" font-size=\"14.00\" fill=\"#000000\">value = [16, 26]</text>\n",
       "<text text-anchor=\"middle\" x=\"652.498\" y=\"-220.8\" font-family=\"Helvetica,sans-Serif\" font-size=\"14.00\" fill=\"#000000\">class = Not Europe</text>\n",
       "</g>\n",
       "<!-- 0&#45;&gt;8 -->\n",
       "<g id=\"edge8\" class=\"edge\">\n",
       "<title>0&#45;&gt;8</title>\n",
       "<path fill=\"none\" stroke=\"#000000\" d=\"M581.0097,-327.7677C589.659,-318.7216 598.9426,-309.0121 607.8617,-299.6839\"/>\n",
       "<polygon fill=\"#000000\" stroke=\"#000000\" points=\"610.5362,-301.9513 614.9173,-292.3046 605.4767,-297.1137 610.5362,-301.9513\"/>\n",
       "<text text-anchor=\"middle\" x=\"615.4777\" y=\"-313.0984\" font-family=\"Helvetica,sans-Serif\" font-size=\"14.00\" fill=\"#000000\">False</text>\n",
       "</g>\n",
       "<!-- 2 -->\n",
       "<g id=\"node3\" class=\"node\">\n",
       "<title>2</title>\n",
       "<path fill=\"#399de5\" fill-opacity=\"0.250980\" stroke=\"#000000\" d=\"M271.3098,-178C271.3098,-178 49.6863,-178 49.6863,-178 43.6863,-178 37.6863,-172 37.6863,-166 37.6863,-166 37.6863,-112 37.6863,-112 37.6863,-106 43.6863,-100 49.6863,-100 49.6863,-100 271.3098,-100 271.3098,-100 277.3098,-100 283.3098,-106 283.3098,-112 283.3098,-112 283.3098,-166 283.3098,-166 283.3098,-172 277.3098,-178 271.3098,-178\"/>\n",
       "<text text-anchor=\"middle\" x=\"160.498\" y=\"-162.8\" font-family=\"Helvetica,sans-Serif\" font-size=\"14.00\" fill=\"#000000\">Economy (GDP per Capita) &lt;= 0.982</text>\n",
       "<text text-anchor=\"middle\" x=\"160.498\" y=\"-148.8\" font-family=\"Helvetica,sans-Serif\" font-size=\"14.00\" fill=\"#000000\">gini = 0.49</text>\n",
       "<text text-anchor=\"middle\" x=\"160.498\" y=\"-134.8\" font-family=\"Helvetica,sans-Serif\" font-size=\"14.00\" fill=\"#000000\">samples = 7</text>\n",
       "<text text-anchor=\"middle\" x=\"160.498\" y=\"-120.8\" font-family=\"Helvetica,sans-Serif\" font-size=\"14.00\" fill=\"#000000\">value = [3, 4]</text>\n",
       "<text text-anchor=\"middle\" x=\"160.498\" y=\"-106.8\" font-family=\"Helvetica,sans-Serif\" font-size=\"14.00\" fill=\"#000000\">class = Not Europe</text>\n",
       "</g>\n",
       "<!-- 1&#45;&gt;2 -->\n",
       "<g id=\"edge2\" class=\"edge\">\n",
       "<title>1&#45;&gt;2</title>\n",
       "<path fill=\"none\" stroke=\"#000000\" d=\"M367.4701,-225.1125C336.2014,-212.1029 298.2851,-196.3275 263.4924,-181.8517\"/>\n",
       "<polygon fill=\"#000000\" stroke=\"#000000\" points=\"264.8241,-178.6149 254.2468,-178.005 262.1351,-185.0779 264.8241,-178.6149\"/>\n",
       "</g>\n",
       "<!-- 5 -->\n",
       "<g id=\"node6\" class=\"node\">\n",
       "<title>5</title>\n",
       "<path fill=\"#e58139\" fill-opacity=\"0.890196\" stroke=\"#000000\" d=\"M555.543,-178C555.543,-178 313.4531,-178 313.4531,-178 307.4531,-178 301.4531,-172 301.4531,-166 301.4531,-166 301.4531,-112 301.4531,-112 301.4531,-106 307.4531,-100 313.4531,-100 313.4531,-100 555.543,-100 555.543,-100 561.543,-100 567.543,-106 567.543,-112 567.543,-112 567.543,-166 567.543,-166 567.543,-172 561.543,-178 555.543,-178\"/>\n",
       "<text text-anchor=\"middle\" x=\"434.498\" y=\"-162.8\" font-family=\"Helvetica,sans-Serif\" font-size=\"14.00\" fill=\"#000000\">Trust (Government Corruption) &lt;= 0.307</text>\n",
       "<text text-anchor=\"middle\" x=\"434.498\" y=\"-148.8\" font-family=\"Helvetica,sans-Serif\" font-size=\"14.00\" fill=\"#000000\">gini = 0.177</text>\n",
       "<text text-anchor=\"middle\" x=\"434.498\" y=\"-134.8\" font-family=\"Helvetica,sans-Serif\" font-size=\"14.00\" fill=\"#000000\">samples = 61</text>\n",
       "<text text-anchor=\"middle\" x=\"434.498\" y=\"-120.8\" font-family=\"Helvetica,sans-Serif\" font-size=\"14.00\" fill=\"#000000\">value = [55, 6]</text>\n",
       "<text text-anchor=\"middle\" x=\"434.498\" y=\"-106.8\" font-family=\"Helvetica,sans-Serif\" font-size=\"14.00\" fill=\"#000000\">class = Europe</text>\n",
       "</g>\n",
       "<!-- 1&#45;&gt;5 -->\n",
       "<g id=\"edge5\" class=\"edge\">\n",
       "<title>1&#45;&gt;5</title>\n",
       "<path fill=\"none\" stroke=\"#000000\" d=\"M434.498,-213.7677C434.498,-205.6172 434.498,-196.9283 434.498,-188.4649\"/>\n",
       "<polygon fill=\"#000000\" stroke=\"#000000\" points=\"437.9981,-188.3046 434.498,-178.3046 430.9981,-188.3047 437.9981,-188.3046\"/>\n",
       "</g>\n",
       "<!-- 3 -->\n",
       "<g id=\"node4\" class=\"node\">\n",
       "<title>3</title>\n",
       "<path fill=\"#e58139\" fill-opacity=\"0.666667\" stroke=\"#000000\" d=\"M96.9941,-64C96.9941,-64 12.002,-64 12.002,-64 6.002,-64 .002,-58 .002,-52 .002,-52 .002,-12 .002,-12 .002,-6 6.002,0 12.002,0 12.002,0 96.9941,0 96.9941,0 102.9941,0 108.9941,-6 108.9941,-12 108.9941,-12 108.9941,-52 108.9941,-52 108.9941,-58 102.9941,-64 96.9941,-64\"/>\n",
       "<text text-anchor=\"middle\" x=\"54.498\" y=\"-48.8\" font-family=\"Helvetica,sans-Serif\" font-size=\"14.00\" fill=\"#000000\">gini = 0.375</text>\n",
       "<text text-anchor=\"middle\" x=\"54.498\" y=\"-34.8\" font-family=\"Helvetica,sans-Serif\" font-size=\"14.00\" fill=\"#000000\">samples = 4</text>\n",
       "<text text-anchor=\"middle\" x=\"54.498\" y=\"-20.8\" font-family=\"Helvetica,sans-Serif\" font-size=\"14.00\" fill=\"#000000\">value = [3, 1]</text>\n",
       "<text text-anchor=\"middle\" x=\"54.498\" y=\"-6.8\" font-family=\"Helvetica,sans-Serif\" font-size=\"14.00\" fill=\"#000000\">class = Europe</text>\n",
       "</g>\n",
       "<!-- 2&#45;&gt;3 -->\n",
       "<g id=\"edge3\" class=\"edge\">\n",
       "<title>2&#45;&gt;3</title>\n",
       "<path fill=\"none\" stroke=\"#000000\" d=\"M121.6295,-99.7647C112.4913,-90.5404 102.7486,-80.7057 93.6003,-71.4711\"/>\n",
       "<polygon fill=\"#000000\" stroke=\"#000000\" points=\"95.9381,-68.8579 86.4138,-64.2169 90.9652,-73.7843 95.9381,-68.8579\"/>\n",
       "</g>\n",
       "<!-- 4 -->\n",
       "<g id=\"node5\" class=\"node\">\n",
       "<title>4</title>\n",
       "<path fill=\"#399de5\" stroke=\"#000000\" d=\"M249.6703,-64C249.6703,-64 139.3258,-64 139.3258,-64 133.3258,-64 127.3258,-58 127.3258,-52 127.3258,-52 127.3258,-12 127.3258,-12 127.3258,-6 133.3258,0 139.3258,0 139.3258,0 249.6703,0 249.6703,0 255.6703,0 261.6703,-6 261.6703,-12 261.6703,-12 261.6703,-52 261.6703,-52 261.6703,-58 255.6703,-64 249.6703,-64\"/>\n",
       "<text text-anchor=\"middle\" x=\"194.498\" y=\"-48.8\" font-family=\"Helvetica,sans-Serif\" font-size=\"14.00\" fill=\"#000000\">gini = 0.0</text>\n",
       "<text text-anchor=\"middle\" x=\"194.498\" y=\"-34.8\" font-family=\"Helvetica,sans-Serif\" font-size=\"14.00\" fill=\"#000000\">samples = 3</text>\n",
       "<text text-anchor=\"middle\" x=\"194.498\" y=\"-20.8\" font-family=\"Helvetica,sans-Serif\" font-size=\"14.00\" fill=\"#000000\">value = [0, 3]</text>\n",
       "<text text-anchor=\"middle\" x=\"194.498\" y=\"-6.8\" font-family=\"Helvetica,sans-Serif\" font-size=\"14.00\" fill=\"#000000\">class = Not Europe</text>\n",
       "</g>\n",
       "<!-- 2&#45;&gt;4 -->\n",
       "<g id=\"edge4\" class=\"edge\">\n",
       "<title>2&#45;&gt;4</title>\n",
       "<path fill=\"none\" stroke=\"#000000\" d=\"M172.9653,-99.7647C175.6352,-91.3624 178.4661,-82.4536 181.1671,-73.9532\"/>\n",
       "<polygon fill=\"#000000\" stroke=\"#000000\" points=\"184.5681,-74.8073 184.2609,-64.2169 177.8968,-72.6874 184.5681,-74.8073\"/>\n",
       "</g>\n",
       "<!-- 6 -->\n",
       "<g id=\"node7\" class=\"node\">\n",
       "<title>6</title>\n",
       "<path fill=\"#e58139\" fill-opacity=\"0.925490\" stroke=\"#000000\" d=\"M443.9941,-64C443.9941,-64 359.002,-64 359.002,-64 353.002,-64 347.002,-58 347.002,-52 347.002,-52 347.002,-12 347.002,-12 347.002,-6 353.002,0 359.002,0 359.002,0 443.9941,0 443.9941,0 449.9941,0 455.9941,-6 455.9941,-12 455.9941,-12 455.9941,-52 455.9941,-52 455.9941,-58 449.9941,-64 443.9941,-64\"/>\n",
       "<text text-anchor=\"middle\" x=\"401.498\" y=\"-48.8\" font-family=\"Helvetica,sans-Serif\" font-size=\"14.00\" fill=\"#000000\">gini = 0.128</text>\n",
       "<text text-anchor=\"middle\" x=\"401.498\" y=\"-34.8\" font-family=\"Helvetica,sans-Serif\" font-size=\"14.00\" fill=\"#000000\">samples = 58</text>\n",
       "<text text-anchor=\"middle\" x=\"401.498\" y=\"-20.8\" font-family=\"Helvetica,sans-Serif\" font-size=\"14.00\" fill=\"#000000\">value = [54, 4]</text>\n",
       "<text text-anchor=\"middle\" x=\"401.498\" y=\"-6.8\" font-family=\"Helvetica,sans-Serif\" font-size=\"14.00\" fill=\"#000000\">class = Europe</text>\n",
       "</g>\n",
       "<!-- 5&#45;&gt;6 -->\n",
       "<g id=\"edge6\" class=\"edge\">\n",
       "<title>5&#45;&gt;6</title>\n",
       "<path fill=\"none\" stroke=\"#000000\" d=\"M422.3974,-99.7647C419.8061,-91.3624 417.0585,-82.4536 414.4369,-73.9532\"/>\n",
       "<polygon fill=\"#000000\" stroke=\"#000000\" points=\"417.7258,-72.7412 411.4341,-64.2169 411.0367,-74.8043 417.7258,-72.7412\"/>\n",
       "</g>\n",
       "<!-- 7 -->\n",
       "<g id=\"node8\" class=\"node\">\n",
       "<title>7</title>\n",
       "<path fill=\"#399de5\" fill-opacity=\"0.498039\" stroke=\"#000000\" d=\"M596.6703,-64C596.6703,-64 486.3258,-64 486.3258,-64 480.3258,-64 474.3258,-58 474.3258,-52 474.3258,-52 474.3258,-12 474.3258,-12 474.3258,-6 480.3258,0 486.3258,0 486.3258,0 596.6703,0 596.6703,0 602.6703,0 608.6703,-6 608.6703,-12 608.6703,-12 608.6703,-52 608.6703,-52 608.6703,-58 602.6703,-64 596.6703,-64\"/>\n",
       "<text text-anchor=\"middle\" x=\"541.498\" y=\"-48.8\" font-family=\"Helvetica,sans-Serif\" font-size=\"14.00\" fill=\"#000000\">gini = 0.444</text>\n",
       "<text text-anchor=\"middle\" x=\"541.498\" y=\"-34.8\" font-family=\"Helvetica,sans-Serif\" font-size=\"14.00\" fill=\"#000000\">samples = 3</text>\n",
       "<text text-anchor=\"middle\" x=\"541.498\" y=\"-20.8\" font-family=\"Helvetica,sans-Serif\" font-size=\"14.00\" fill=\"#000000\">value = [1, 2]</text>\n",
       "<text text-anchor=\"middle\" x=\"541.498\" y=\"-6.8\" font-family=\"Helvetica,sans-Serif\" font-size=\"14.00\" fill=\"#000000\">class = Not Europe</text>\n",
       "</g>\n",
       "<!-- 5&#45;&gt;7 -->\n",
       "<g id=\"edge7\" class=\"edge\">\n",
       "<title>5&#45;&gt;7</title>\n",
       "<path fill=\"none\" stroke=\"#000000\" d=\"M473.7333,-99.7647C482.9576,-90.5404 492.7923,-80.7057 502.0269,-71.4711\"/>\n",
       "<polygon fill=\"#000000\" stroke=\"#000000\" points=\"504.685,-73.7629 509.2812,-64.2169 499.7352,-68.8131 504.685,-73.7629\"/>\n",
       "</g>\n",
       "<!-- 9 -->\n",
       "<g id=\"node10\" class=\"node\">\n",
       "<title>9</title>\n",
       "<path fill=\"#399de5\" stroke=\"#000000\" d=\"M707.6703,-171C707.6703,-171 597.3258,-171 597.3258,-171 591.3258,-171 585.3258,-165 585.3258,-159 585.3258,-159 585.3258,-119 585.3258,-119 585.3258,-113 591.3258,-107 597.3258,-107 597.3258,-107 707.6703,-107 707.6703,-107 713.6703,-107 719.6703,-113 719.6703,-119 719.6703,-119 719.6703,-159 719.6703,-159 719.6703,-165 713.6703,-171 707.6703,-171\"/>\n",
       "<text text-anchor=\"middle\" x=\"652.498\" y=\"-155.8\" font-family=\"Helvetica,sans-Serif\" font-size=\"14.00\" fill=\"#000000\">gini = 0.0</text>\n",
       "<text text-anchor=\"middle\" x=\"652.498\" y=\"-141.8\" font-family=\"Helvetica,sans-Serif\" font-size=\"14.00\" fill=\"#000000\">samples = 14</text>\n",
       "<text text-anchor=\"middle\" x=\"652.498\" y=\"-127.8\" font-family=\"Helvetica,sans-Serif\" font-size=\"14.00\" fill=\"#000000\">value = [0, 14]</text>\n",
       "<text text-anchor=\"middle\" x=\"652.498\" y=\"-113.8\" font-family=\"Helvetica,sans-Serif\" font-size=\"14.00\" fill=\"#000000\">class = Not Europe</text>\n",
       "</g>\n",
       "<!-- 8&#45;&gt;9 -->\n",
       "<g id=\"edge9\" class=\"edge\">\n",
       "<title>8&#45;&gt;9</title>\n",
       "<path fill=\"none\" stroke=\"#000000\" d=\"M652.498,-213.7677C652.498,-203.3338 652.498,-192.0174 652.498,-181.4215\"/>\n",
       "<polygon fill=\"#000000\" stroke=\"#000000\" points=\"655.9981,-181.1252 652.498,-171.1252 648.9981,-181.1252 655.9981,-181.1252\"/>\n",
       "</g>\n",
       "<!-- 10 -->\n",
       "<g id=\"node11\" class=\"node\">\n",
       "<title>10</title>\n",
       "<path fill=\"#e58139\" fill-opacity=\"0.250980\" stroke=\"#000000\" d=\"M842.8844,-178C842.8844,-178 750.1117,-178 750.1117,-178 744.1117,-178 738.1117,-172 738.1117,-166 738.1117,-166 738.1117,-112 738.1117,-112 738.1117,-106 744.1117,-100 750.1117,-100 750.1117,-100 842.8844,-100 842.8844,-100 848.8844,-100 854.8844,-106 854.8844,-112 854.8844,-112 854.8844,-166 854.8844,-166 854.8844,-172 848.8844,-178 842.8844,-178\"/>\n",
       "<text text-anchor=\"middle\" x=\"796.498\" y=\"-162.8\" font-family=\"Helvetica,sans-Serif\" font-size=\"14.00\" fill=\"#000000\">Family &lt;= 1.271</text>\n",
       "<text text-anchor=\"middle\" x=\"796.498\" y=\"-148.8\" font-family=\"Helvetica,sans-Serif\" font-size=\"14.00\" fill=\"#000000\">gini = 0.49</text>\n",
       "<text text-anchor=\"middle\" x=\"796.498\" y=\"-134.8\" font-family=\"Helvetica,sans-Serif\" font-size=\"14.00\" fill=\"#000000\">samples = 28</text>\n",
       "<text text-anchor=\"middle\" x=\"796.498\" y=\"-120.8\" font-family=\"Helvetica,sans-Serif\" font-size=\"14.00\" fill=\"#000000\">value = [16, 12]</text>\n",
       "<text text-anchor=\"middle\" x=\"796.498\" y=\"-106.8\" font-family=\"Helvetica,sans-Serif\" font-size=\"14.00\" fill=\"#000000\">class = Europe</text>\n",
       "</g>\n",
       "<!-- 8&#45;&gt;10 -->\n",
       "<g id=\"edge10\" class=\"edge\">\n",
       "<title>8&#45;&gt;10</title>\n",
       "<path fill=\"none\" stroke=\"#000000\" d=\"M702.0547,-213.7677C713.9339,-204.3633 726.7187,-194.242 738.9265,-184.5775\"/>\n",
       "<polygon fill=\"#000000\" stroke=\"#000000\" points=\"741.1821,-187.2559 746.8501,-178.3046 736.8371,-181.7675 741.1821,-187.2559\"/>\n",
       "</g>\n",
       "<!-- 11 -->\n",
       "<g id=\"node12\" class=\"node\">\n",
       "<title>11</title>\n",
       "<path fill=\"#e58139\" fill-opacity=\"0.929412\" stroke=\"#000000\" d=\"M764.9941,-64C764.9941,-64 680.002,-64 680.002,-64 674.002,-64 668.002,-58 668.002,-52 668.002,-52 668.002,-12 668.002,-12 668.002,-6 674.002,0 680.002,0 680.002,0 764.9941,0 764.9941,0 770.9941,0 776.9941,-6 776.9941,-12 776.9941,-12 776.9941,-52 776.9941,-52 776.9941,-58 770.9941,-64 764.9941,-64\"/>\n",
       "<text text-anchor=\"middle\" x=\"722.498\" y=\"-48.8\" font-family=\"Helvetica,sans-Serif\" font-size=\"14.00\" fill=\"#000000\">gini = 0.124</text>\n",
       "<text text-anchor=\"middle\" x=\"722.498\" y=\"-34.8\" font-family=\"Helvetica,sans-Serif\" font-size=\"14.00\" fill=\"#000000\">samples = 15</text>\n",
       "<text text-anchor=\"middle\" x=\"722.498\" y=\"-20.8\" font-family=\"Helvetica,sans-Serif\" font-size=\"14.00\" fill=\"#000000\">value = [14, 1]</text>\n",
       "<text text-anchor=\"middle\" x=\"722.498\" y=\"-6.8\" font-family=\"Helvetica,sans-Serif\" font-size=\"14.00\" fill=\"#000000\">class = Europe</text>\n",
       "</g>\n",
       "<!-- 10&#45;&gt;11 -->\n",
       "<g id=\"edge11\" class=\"edge\">\n",
       "<title>10&#45;&gt;11</title>\n",
       "<path fill=\"none\" stroke=\"#000000\" d=\"M769.3634,-99.7647C763.2366,-90.9057 756.7205,-81.4838 750.5565,-72.571\"/>\n",
       "<polygon fill=\"#000000\" stroke=\"#000000\" points=\"753.3457,-70.4507 744.7789,-64.2169 747.5884,-74.4324 753.3457,-70.4507\"/>\n",
       "</g>\n",
       "<!-- 12 -->\n",
       "<g id=\"node13\" class=\"node\">\n",
       "<title>12</title>\n",
       "<path fill=\"#399de5\" fill-opacity=\"0.819608\" stroke=\"#000000\" d=\"M917.6703,-64C917.6703,-64 807.3258,-64 807.3258,-64 801.3258,-64 795.3258,-58 795.3258,-52 795.3258,-52 795.3258,-12 795.3258,-12 795.3258,-6 801.3258,0 807.3258,0 807.3258,0 917.6703,0 917.6703,0 923.6703,0 929.6703,-6 929.6703,-12 929.6703,-12 929.6703,-52 929.6703,-52 929.6703,-58 923.6703,-64 917.6703,-64\"/>\n",
       "<text text-anchor=\"middle\" x=\"862.498\" y=\"-48.8\" font-family=\"Helvetica,sans-Serif\" font-size=\"14.00\" fill=\"#000000\">gini = 0.26</text>\n",
       "<text text-anchor=\"middle\" x=\"862.498\" y=\"-34.8\" font-family=\"Helvetica,sans-Serif\" font-size=\"14.00\" fill=\"#000000\">samples = 13</text>\n",
       "<text text-anchor=\"middle\" x=\"862.498\" y=\"-20.8\" font-family=\"Helvetica,sans-Serif\" font-size=\"14.00\" fill=\"#000000\">value = [2, 11]</text>\n",
       "<text text-anchor=\"middle\" x=\"862.498\" y=\"-6.8\" font-family=\"Helvetica,sans-Serif\" font-size=\"14.00\" fill=\"#000000\">class = Not Europe</text>\n",
       "</g>\n",
       "<!-- 10&#45;&gt;12 -->\n",
       "<g id=\"edge12\" class=\"edge\">\n",
       "<title>10&#45;&gt;12</title>\n",
       "<path fill=\"none\" stroke=\"#000000\" d=\"M820.6992,-99.7647C826.1073,-90.9971 831.8556,-81.678 837.3028,-72.8469\"/>\n",
       "<polygon fill=\"#000000\" stroke=\"#000000\" points=\"840.355,-74.5655 842.626,-64.2169 834.3972,-70.8905 840.355,-74.5655\"/>\n",
       "</g>\n",
       "</g>\n",
       "</svg>\n"
      ],
      "text/plain": [
       "<graphviz.files.Source at 0x118097470>"
      ]
     },
     "execution_count": 249,
     "metadata": {},
     "output_type": "execute_result"
    }
   ],
   "source": [
    "dec_tree = DecisionTreeClassifier(max_depth=3)\n",
    "dec_tree.fit(x_train, y_train)\n",
    "viz = tree.export_graphviz(dec_tree, feature_names=x_train.columns,\n",
    "                           class_names=['Europe', 'Not Europe'],\n",
    "                           rounded=True, filled=True)\n",
    "\n",
    "with open(\"tree.dot\") as f:\n",
    "    dot_graph = f.read()\n",
    "    graph = graphviz.Source(dot_graph)\n",
    "graph"
   ]
  },
  {
   "cell_type": "markdown",
   "metadata": {},
   "source": [
    "You should see something like:"
   ]
  },
  {
   "cell_type": "markdown",
   "metadata": {},
   "source": [
    "![Decision Tree visualized](imgs/dt.png)"
   ]
  },
  {
   "cell_type": "markdown",
   "metadata": {},
   "source": [
    "5) Visualize the decision tree of your best performing decision tree. Is there anything surprising about the splits that are most informative of this classification task?"
   ]
  },
  {
   "cell_type": "code",
   "execution_count": 201,
   "metadata": {
    "collapsed": true
   },
   "outputs": [],
   "source": [
    "# CODE"
   ]
  },
  {
   "cell_type": "markdown",
   "metadata": {},
   "source": [
    "## Now write a nested for loop that loops over all the parameters and values and store the results in a data frame\n",
    "\n",
    "\n"
   ]
  },
  {
   "cell_type": "code",
   "execution_count": 253,
   "metadata": {
    "collapsed": true
   },
   "outputs": [],
   "source": [
    "def try_many_par_DT():\n",
    "\n",
    "    #the parameters that I want to test\n",
    "    crit_list = [\"gini\", \"entropy\"]\n",
    "    splitter_list = [\"best\", \"random\"]\n",
    "    maxfeat_list = [None, \"auto\", \"sqrt\", \"log2\", 5, 0.3 ]\n",
    "    maxdepth_list = [1, 3, 5, 7, 9 ,15 ,20]\n",
    "    minsplit_list = [2, 3, 4, 5]\n",
    "    minleaf_list = [1,2,3,4,5]\n",
    "    maxleaf_list = [None, 2, 3 ,4, 5]\n",
    "\n",
    "    #create empty lists\n",
    "    rec_crit = []\n",
    "    rec_split = []\n",
    "    rec_maxfeat = []\n",
    "    rec_maxdepth = []\n",
    "    rec_minsplit = []\n",
    "    rec_minleaf = []\n",
    "    rec_maxleaf = []\n",
    "    rec_trainP = []\n",
    "    rec_testP = []\n",
    "\n",
    "    #loop over every combination of the parameters\n",
    "    for index_c, crit_par in enumerate(crit_list):\n",
    "        for index_s, split_par in enumerate(splitter_list):\n",
    "            for index_f, maxfeat_par in enumerate(maxfeat_list):\n",
    "                for index_d, maxdepth_par in enumerate(maxdepth_list):\n",
    "                    for index_ms, minsplit_par in enumerate(minsplit_list):\n",
    "                        for index_ml, minleaf_par in enumerate(minleaf_list):\n",
    "                            for index_maxleaf, maxleaf_par in enumerate(maxleaf_list):\n",
    "\n",
    "                                #initialize classifier\n",
    "                                dec_tree = DecisionTreeClassifier(criterion = crit_par, splitter = split_par, max_depth = maxdepth_par, min_samples_split = minsplit_par, max_features = maxfeat_par, min_samples_leaf = minleaf_par, max_leaf_nodes = maxleaf_par)\n",
    "                                dec_tree.fit(x_train, y_train)\n",
    "\n",
    "                                # evaluate accuracy\n",
    "                                train_acc = evaluateAccuracy(dec_tree, x_train, y_train)\n",
    "                                test_acc = evaluateAccuracy(dec_tree, x_test, y_test)\n",
    "\n",
    "                                #append things to the lists\n",
    "                                rec_crit.append(crit_par)\n",
    "                                rec_split.append(split_par)\n",
    "                                rec_maxfeat.append(maxfeat_par)\n",
    "                                rec_maxdepth.append(maxdepth_par)\n",
    "                                rec_minsplit.append(minsplit_par)\n",
    "                                rec_minleaf.append(minleaf_par)\n",
    "                                rec_maxleaf.append(maxleaf_par)\n",
    "                                rec_trainP.append(train_acc)\n",
    "                                rec_testP.append(test_acc)\n",
    "\n",
    "    #stich into a pandas DF\n",
    "    finalDF = pd.DataFrame({\"criterion\": rec_crit,\n",
    "                            \"splitter\": rec_split,\n",
    "                            \"max_features\": rec_maxfeat,\n",
    "                            \"max_depth\": rec_maxdepth,\n",
    "                            \"min_samples_split\": rec_minsplit,\n",
    "                            \"min_samples_leaf\": rec_minleaf,\n",
    "                            \"max_leaf_nodes\": rec_maxleaf,\n",
    "                            \"prediction_train\": rec_trainP,\n",
    "                            \"prediction_test\": rec_testP \n",
    "                            })\n",
    "\n",
    "    return finalDF"
   ]
  },
  {
   "cell_type": "code",
   "execution_count": 256,
   "metadata": {},
   "outputs": [],
   "source": [
    "various_dt_df = try_many_par_DT()"
   ]
  },
  {
   "cell_type": "code",
   "execution_count": 260,
   "metadata": {},
   "outputs": [
    {
     "data": {
      "text/html": [
       "<div>\n",
       "<style scoped>\n",
       "    .dataframe tbody tr th:only-of-type {\n",
       "        vertical-align: middle;\n",
       "    }\n",
       "\n",
       "    .dataframe tbody tr th {\n",
       "        vertical-align: top;\n",
       "    }\n",
       "\n",
       "    .dataframe thead th {\n",
       "        text-align: right;\n",
       "    }\n",
       "</style>\n",
       "<table border=\"1\" class=\"dataframe\">\n",
       "  <thead>\n",
       "    <tr style=\"text-align: right;\">\n",
       "      <th></th>\n",
       "      <th>criterion</th>\n",
       "      <th>max_depth</th>\n",
       "      <th>max_features</th>\n",
       "      <th>max_leaf_nodes</th>\n",
       "      <th>min_samples_leaf</th>\n",
       "      <th>min_samples_split</th>\n",
       "      <th>prediction_test</th>\n",
       "      <th>prediction_train</th>\n",
       "      <th>splitter</th>\n",
       "    </tr>\n",
       "  </thead>\n",
       "  <tbody>\n",
       "    <tr>\n",
       "      <th>14425</th>\n",
       "      <td>entropy</td>\n",
       "      <td>9</td>\n",
       "      <td>sqrt</td>\n",
       "      <td>NaN</td>\n",
       "      <td>1</td>\n",
       "      <td>3</td>\n",
       "      <td>0.895833</td>\n",
       "      <td>0.918182</td>\n",
       "      <td>random</td>\n",
       "    </tr>\n",
       "    <tr>\n",
       "      <th>4885</th>\n",
       "      <td>gini</td>\n",
       "      <td>20</td>\n",
       "      <td>None</td>\n",
       "      <td>NaN</td>\n",
       "      <td>3</td>\n",
       "      <td>5</td>\n",
       "      <td>0.895833</td>\n",
       "      <td>0.872727</td>\n",
       "      <td>random</td>\n",
       "    </tr>\n",
       "    <tr>\n",
       "      <th>6958</th>\n",
       "      <td>gini</td>\n",
       "      <td>20</td>\n",
       "      <td>log2</td>\n",
       "      <td>4.0</td>\n",
       "      <td>2</td>\n",
       "      <td>4</td>\n",
       "      <td>0.875000</td>\n",
       "      <td>0.736364</td>\n",
       "      <td>random</td>\n",
       "    </tr>\n",
       "    <tr>\n",
       "      <th>6717</th>\n",
       "      <td>gini</td>\n",
       "      <td>9</td>\n",
       "      <td>log2</td>\n",
       "      <td>3.0</td>\n",
       "      <td>4</td>\n",
       "      <td>2</td>\n",
       "      <td>0.875000</td>\n",
       "      <td>0.718182</td>\n",
       "      <td>random</td>\n",
       "    </tr>\n",
       "    <tr>\n",
       "      <th>12349</th>\n",
       "      <td>entropy</td>\n",
       "      <td>9</td>\n",
       "      <td>0.3</td>\n",
       "      <td>5.0</td>\n",
       "      <td>5</td>\n",
       "      <td>3</td>\n",
       "      <td>0.875000</td>\n",
       "      <td>0.772727</td>\n",
       "      <td>best</td>\n",
       "    </tr>\n",
       "  </tbody>\n",
       "</table>\n",
       "</div>"
      ],
      "text/plain": [
       "      criterion  max_depth max_features  max_leaf_nodes  min_samples_leaf  \\\n",
       "14425   entropy          9         sqrt             NaN                 1   \n",
       "4885       gini         20         None             NaN                 3   \n",
       "6958       gini         20         log2             4.0                 2   \n",
       "6717       gini          9         log2             3.0                 4   \n",
       "12349   entropy          9          0.3             5.0                 5   \n",
       "\n",
       "       min_samples_split  prediction_test  prediction_train splitter  \n",
       "14425                  3         0.895833          0.918182   random  \n",
       "4885                   5         0.895833          0.872727   random  \n",
       "6958                   4         0.875000          0.736364   random  \n",
       "6717                   2         0.875000          0.718182   random  \n",
       "12349                  3         0.875000          0.772727     best  "
      ]
     },
     "execution_count": 260,
     "metadata": {},
     "output_type": "execute_result"
    }
   ],
   "source": [
    "various_dt_df.sort_values(\"prediction_test\", ascending = False).head()"
   ]
  },
  {
   "cell_type": "markdown",
   "metadata": {},
   "source": [
    "# References\n",
    "http://scikit-learn.org/stable/modules/neighbors.html#classification\n",
    "    \n",
    "http://scikit-learn.org/stable/modules/tree.html#tree"
   ]
  }
 ],
 "metadata": {
  "kernelspec": {
   "display_name": "Python 3",
   "language": "python",
   "name": "python3"
  },
  "language_info": {
   "codemirror_mode": {
    "name": "ipython",
    "version": 3
   },
   "file_extension": ".py",
   "mimetype": "text/x-python",
   "name": "python",
   "nbconvert_exporter": "python",
   "pygments_lexer": "ipython3",
   "version": "3.6.3"
  }
 },
 "nbformat": 4,
 "nbformat_minor": 2
}

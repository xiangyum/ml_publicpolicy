{
 "cells": [
  {
   "cell_type": "markdown",
   "metadata": {},
   "source": [
    "# HW1\n",
    "By Xiangyu Ma"
   ]
  },
  {
   "cell_type": "code",
   "execution_count": 38,
   "metadata": {
    "collapsed": true
   },
   "outputs": [],
   "source": [
    "import pandas as pd\n",
    "import numpy as np\n",
    "import matplotlib.pyplot as plt"
   ]
  },
  {
   "cell_type": "markdown",
   "metadata": {},
   "source": [
    "## Part 1"
   ]
  },
  {
   "cell_type": "markdown",
   "metadata": {},
   "source": [
    "#### 1. Download and combine data about 3 types of 311 requests (graffiti, alley lights out and vacant/abandoned buildings)"
   ]
  },
  {
   "cell_type": "code",
   "execution_count": 208,
   "metadata": {
    "collapsed": true
   },
   "outputs": [],
   "source": [
    "pd.options.display.max_columns = None"
   ]
  },
  {
   "cell_type": "code",
   "execution_count": 39,
   "metadata": {
    "collapsed": true
   },
   "outputs": [],
   "source": [
    "graf = pd.read_csv(\"data/311_Service_Requests_-_Graffiti_Removal.csv\")"
   ]
  },
  {
   "cell_type": "code",
   "execution_count": 220,
   "metadata": {
    "collapsed": true
   },
   "outputs": [],
   "source": [
    "alley = pd.read_csv(\"data/311_Service_Requests_-_Alley_Lights_Out.csv\")"
   ]
  },
  {
   "cell_type": "code",
   "execution_count": 226,
   "metadata": {
    "collapsed": true
   },
   "outputs": [],
   "source": [
    "vacant = pd.read_csv(\"data/311_Service_Requests_-_Vacant_and_Abandoned_Buildings_Reported.csv\")"
   ]
  },
  {
   "cell_type": "code",
   "execution_count": 287,
   "metadata": {},
   "outputs": [
    {
     "data": {
      "text/html": [
       "<div>\n",
       "<style scoped>\n",
       "    .dataframe tbody tr th:only-of-type {\n",
       "        vertical-align: middle;\n",
       "    }\n",
       "\n",
       "    .dataframe tbody tr th {\n",
       "        vertical-align: top;\n",
       "    }\n",
       "\n",
       "    .dataframe thead th {\n",
       "        text-align: right;\n",
       "    }\n",
       "</style>\n",
       "<table border=\"1\" class=\"dataframe\">\n",
       "  <thead>\n",
       "    <tr style=\"text-align: right;\">\n",
       "      <th></th>\n",
       "      <th>Creation Date</th>\n",
       "      <th>Status</th>\n",
       "      <th>Completion Date</th>\n",
       "      <th>Service Request Number</th>\n",
       "      <th>Type of Service Request</th>\n",
       "      <th>What Type of Surface is the Graffiti on?</th>\n",
       "      <th>Where is the Graffiti located?</th>\n",
       "      <th>Street Address</th>\n",
       "      <th>ZIP Code</th>\n",
       "      <th>X Coordinate</th>\n",
       "      <th>Y Coordinate</th>\n",
       "      <th>Ward</th>\n",
       "      <th>Police District</th>\n",
       "      <th>Community Area</th>\n",
       "      <th>SSA</th>\n",
       "      <th>Latitude</th>\n",
       "      <th>Longitude</th>\n",
       "      <th>Location</th>\n",
       "    </tr>\n",
       "  </thead>\n",
       "  <tbody>\n",
       "    <tr>\n",
       "      <th>0</th>\n",
       "      <td>01/01/2011</td>\n",
       "      <td>Completed - Dup</td>\n",
       "      <td>01/03/2011</td>\n",
       "      <td>11-00002268</td>\n",
       "      <td>Graffiti Removal</td>\n",
       "      <td>Brick - Unpainted</td>\n",
       "      <td>Front</td>\n",
       "      <td>3701 S WOLCOTT AVE</td>\n",
       "      <td>60609.0</td>\n",
       "      <td>1.164295e+06</td>\n",
       "      <td>1.880150e+06</td>\n",
       "      <td>11.0</td>\n",
       "      <td>9.0</td>\n",
       "      <td>59.0</td>\n",
       "      <td>NaN</td>\n",
       "      <td>41.82668</td>\n",
       "      <td>-87.672589</td>\n",
       "      <td>(41.82667996575031, -87.67258908007462)</td>\n",
       "    </tr>\n",
       "  </tbody>\n",
       "</table>\n",
       "</div>"
      ],
      "text/plain": [
       "  Creation Date           Status Completion Date Service Request Number  \\\n",
       "0    01/01/2011  Completed - Dup      01/03/2011            11-00002268   \n",
       "\n",
       "  Type of Service Request What Type of Surface is the Graffiti on?  \\\n",
       "0        Graffiti Removal                        Brick - Unpainted   \n",
       "\n",
       "  Where is the Graffiti located?      Street Address  ZIP Code  X Coordinate  \\\n",
       "0                          Front  3701 S WOLCOTT AVE   60609.0  1.164295e+06   \n",
       "\n",
       "   Y Coordinate  Ward  Police District  Community Area  SSA  Latitude  \\\n",
       "0  1.880150e+06  11.0              9.0            59.0  NaN  41.82668   \n",
       "\n",
       "   Longitude                                 Location  \n",
       "0 -87.672589  (41.82667996575031, -87.67258908007462)  "
      ]
     },
     "execution_count": 287,
     "metadata": {},
     "output_type": "execute_result"
    }
   ],
   "source": [
    "graf.head(1)"
   ]
  },
  {
   "cell_type": "code",
   "execution_count": 288,
   "metadata": {},
   "outputs": [
    {
     "data": {
      "text/html": [
       "<div>\n",
       "<style scoped>\n",
       "    .dataframe tbody tr th:only-of-type {\n",
       "        vertical-align: middle;\n",
       "    }\n",
       "\n",
       "    .dataframe tbody tr th {\n",
       "        vertical-align: top;\n",
       "    }\n",
       "\n",
       "    .dataframe thead th {\n",
       "        text-align: right;\n",
       "    }\n",
       "</style>\n",
       "<table border=\"1\" class=\"dataframe\">\n",
       "  <thead>\n",
       "    <tr style=\"text-align: right;\">\n",
       "      <th></th>\n",
       "      <th>Creation Date</th>\n",
       "      <th>Status</th>\n",
       "      <th>Completion Date</th>\n",
       "      <th>Service Request Number</th>\n",
       "      <th>Type of Service Request</th>\n",
       "      <th>Street Address</th>\n",
       "      <th>ZIP Code</th>\n",
       "      <th>X Coordinate</th>\n",
       "      <th>Y Coordinate</th>\n",
       "      <th>Ward</th>\n",
       "      <th>Police District</th>\n",
       "      <th>Community Area</th>\n",
       "      <th>Latitude</th>\n",
       "      <th>Longitude</th>\n",
       "      <th>Location</th>\n",
       "    </tr>\n",
       "  </thead>\n",
       "  <tbody>\n",
       "    <tr>\n",
       "      <th>0</th>\n",
       "      <td>01/01/2011</td>\n",
       "      <td>Completed - Dup</td>\n",
       "      <td>01/02/2011</td>\n",
       "      <td>11-00001814</td>\n",
       "      <td>Alley Light Out</td>\n",
       "      <td>4316 S SACRAMENTO AVE</td>\n",
       "      <td>60632.0</td>\n",
       "      <td>1.157078e+06</td>\n",
       "      <td>1.875878e+06</td>\n",
       "      <td>14.0</td>\n",
       "      <td>9.0</td>\n",
       "      <td>58.0</td>\n",
       "      <td>41.815176</td>\n",
       "      <td>-87.699332</td>\n",
       "      <td>(41.81517646745516, -87.69933194705028)</td>\n",
       "    </tr>\n",
       "  </tbody>\n",
       "</table>\n",
       "</div>"
      ],
      "text/plain": [
       "  Creation Date           Status Completion Date Service Request Number  \\\n",
       "0    01/01/2011  Completed - Dup      01/02/2011            11-00001814   \n",
       "\n",
       "  Type of Service Request         Street Address  ZIP Code  X Coordinate  \\\n",
       "0         Alley Light Out  4316 S SACRAMENTO AVE   60632.0  1.157078e+06   \n",
       "\n",
       "   Y Coordinate  Ward  Police District  Community Area   Latitude  Longitude  \\\n",
       "0  1.875878e+06  14.0              9.0            58.0  41.815176 -87.699332   \n",
       "\n",
       "                                  Location  \n",
       "0  (41.81517646745516, -87.69933194705028)  "
      ]
     },
     "execution_count": 288,
     "metadata": {},
     "output_type": "execute_result"
    }
   ],
   "source": [
    "alley.head(1)"
   ]
  },
  {
   "cell_type": "code",
   "execution_count": 289,
   "metadata": {},
   "outputs": [
    {
     "data": {
      "text/html": [
       "<div>\n",
       "<style scoped>\n",
       "    .dataframe tbody tr th:only-of-type {\n",
       "        vertical-align: middle;\n",
       "    }\n",
       "\n",
       "    .dataframe tbody tr th {\n",
       "        vertical-align: top;\n",
       "    }\n",
       "\n",
       "    .dataframe thead th {\n",
       "        text-align: right;\n",
       "    }\n",
       "</style>\n",
       "<table border=\"1\" class=\"dataframe\">\n",
       "  <thead>\n",
       "    <tr style=\"text-align: right;\">\n",
       "      <th></th>\n",
       "      <th>Type of Service Request</th>\n",
       "      <th>Service Request Number</th>\n",
       "      <th>Creation Date</th>\n",
       "      <th>LOCATION OF BUILDING ON THE LOT (IF GARAGE, CHANGE TYPE CODE TO BGD).</th>\n",
       "      <th>IS THE BUILDING DANGEROUS OR HAZARDOUS?</th>\n",
       "      <th>IS BUILDING OPEN OR BOARDED?</th>\n",
       "      <th>IF THE BUILDING IS OPEN, WHERE IS THE ENTRY POINT?</th>\n",
       "      <th>IS THE BUILDING CURRENTLY VACANT OR OCCUPIED?</th>\n",
       "      <th>IS THE BUILDING VACANT DUE TO FIRE?</th>\n",
       "      <th>ANY PEOPLE USING PROPERTY? (HOMELESS, CHILDEN, GANGS)</th>\n",
       "      <th>ADDRESS STREET NUMBER</th>\n",
       "      <th>ADDRESS STREET DIRECTION</th>\n",
       "      <th>ADDRESS STREET NAME</th>\n",
       "      <th>ADDRESS STREET SUFFIX</th>\n",
       "      <th>ZIP Code</th>\n",
       "      <th>X Coordinate</th>\n",
       "      <th>Y Coordinate</th>\n",
       "      <th>Ward</th>\n",
       "      <th>Police District</th>\n",
       "      <th>Community Area</th>\n",
       "      <th>LATITUDE</th>\n",
       "      <th>LONGITUDE</th>\n",
       "      <th>Location</th>\n",
       "    </tr>\n",
       "  </thead>\n",
       "  <tbody>\n",
       "    <tr>\n",
       "      <th>0</th>\n",
       "      <td>Vacant/Abandoned Building</td>\n",
       "      <td>08-00109075</td>\n",
       "      <td>01/18/2008</td>\n",
       "      <td>NaN</td>\n",
       "      <td>NaN</td>\n",
       "      <td>NaN</td>\n",
       "      <td>NaN</td>\n",
       "      <td>NaN</td>\n",
       "      <td>NaN</td>\n",
       "      <td>NaN</td>\n",
       "      <td>7905.0</td>\n",
       "      <td>W</td>\n",
       "      <td>ADDISON</td>\n",
       "      <td>ST</td>\n",
       "      <td>60613.0</td>\n",
       "      <td>NaN</td>\n",
       "      <td>NaN</td>\n",
       "      <td>NaN</td>\n",
       "      <td>NaN</td>\n",
       "      <td>NaN</td>\n",
       "      <td>NaN</td>\n",
       "      <td>NaN</td>\n",
       "      <td>NaN</td>\n",
       "    </tr>\n",
       "  </tbody>\n",
       "</table>\n",
       "</div>"
      ],
      "text/plain": [
       "     Type of Service Request Service Request Number Creation Date  \\\n",
       "0  Vacant/Abandoned Building            08-00109075    01/18/2008   \n",
       "\n",
       "  LOCATION OF BUILDING ON THE LOT (IF GARAGE, CHANGE TYPE CODE TO BGD).  \\\n",
       "0                                                NaN                      \n",
       "\n",
       "   IS THE BUILDING DANGEROUS OR HAZARDOUS? IS BUILDING OPEN OR BOARDED?  \\\n",
       "0                                      NaN                          NaN   \n",
       "\n",
       "  IF THE BUILDING IS OPEN, WHERE IS THE ENTRY POINT?  \\\n",
       "0                                                NaN   \n",
       "\n",
       "  IS THE BUILDING CURRENTLY VACANT OR OCCUPIED?  \\\n",
       "0                                           NaN   \n",
       "\n",
       "  IS THE BUILDING VACANT DUE TO FIRE?  \\\n",
       "0                                 NaN   \n",
       "\n",
       "  ANY PEOPLE USING PROPERTY? (HOMELESS, CHILDEN, GANGS)  \\\n",
       "0                                                NaN      \n",
       "\n",
       "   ADDRESS STREET NUMBER ADDRESS STREET DIRECTION ADDRESS STREET NAME  \\\n",
       "0                 7905.0                        W             ADDISON   \n",
       "\n",
       "  ADDRESS STREET SUFFIX  ZIP Code  X Coordinate  Y Coordinate  Ward  \\\n",
       "0                    ST   60613.0           NaN           NaN   NaN   \n",
       "\n",
       "   Police District  Community Area  LATITUDE  LONGITUDE Location  \n",
       "0              NaN             NaN       NaN        NaN      NaN  "
      ]
     },
     "execution_count": 289,
     "metadata": {},
     "output_type": "execute_result"
    }
   ],
   "source": [
    "vacant.head(1)"
   ]
  },
  {
   "cell_type": "code",
   "execution_count": 234,
   "metadata": {},
   "outputs": [],
   "source": [
    "vacant = vacant.rename(columns = {\"SERVICE REQUEST TYPE\": \"Type of Service Request\",\n",
    "                        \"SERVICE REQUEST NUMBER\": \"Service Request Number\",\n",
    "                        \"DATE SERVICE REQUEST WAS RECEIVED\": \"Creation Date\",\n",
    "                        \"ZIP CODE\": \"ZIP Code\",\n",
    "                        \"X COORDINATE\": \"X Coordinate\",\n",
    "                        \"Y COORDINATE\": \"Y Coordinate\"\n",
    "                        })"
   ]
  },
  {
   "cell_type": "code",
   "execution_count": 230,
   "metadata": {},
   "outputs": [],
   "source": [
    "combDF = pd.concat([graf, vacant, alley])"
   ]
  },
  {
   "cell_type": "code",
   "execution_count": 239,
   "metadata": {},
   "outputs": [],
   "source": [
    "finalDF = combDF.loc[:,[\"Type of Service Request\", \"Status\", \"Creation Date\", \"Completion Date\", \"Police District\", \"Ward\", \"ZIP Code\"]].reset_index()"
   ]
  },
  {
   "cell_type": "code",
   "execution_count": 244,
   "metadata": {},
   "outputs": [
    {
     "data": {
      "text/html": [
       "<div>\n",
       "<style scoped>\n",
       "    .dataframe tbody tr th:only-of-type {\n",
       "        vertical-align: middle;\n",
       "    }\n",
       "\n",
       "    .dataframe tbody tr th {\n",
       "        vertical-align: top;\n",
       "    }\n",
       "\n",
       "    .dataframe thead th {\n",
       "        text-align: right;\n",
       "    }\n",
       "</style>\n",
       "<table border=\"1\" class=\"dataframe\">\n",
       "  <thead>\n",
       "    <tr style=\"text-align: right;\">\n",
       "      <th></th>\n",
       "      <th>index</th>\n",
       "      <th>Type of Service Request</th>\n",
       "      <th>Status</th>\n",
       "      <th>Creation Date</th>\n",
       "      <th>Completion Date</th>\n",
       "      <th>Police District</th>\n",
       "      <th>Ward</th>\n",
       "      <th>ZIP Code</th>\n",
       "    </tr>\n",
       "  </thead>\n",
       "  <tbody>\n",
       "    <tr>\n",
       "      <th>0</th>\n",
       "      <td>0</td>\n",
       "      <td>Graffiti Removal</td>\n",
       "      <td>Completed - Dup</td>\n",
       "      <td>01/01/2011</td>\n",
       "      <td>01/03/2011</td>\n",
       "      <td>9.0</td>\n",
       "      <td>11.0</td>\n",
       "      <td>60609.0</td>\n",
       "    </tr>\n",
       "    <tr>\n",
       "      <th>1</th>\n",
       "      <td>1</td>\n",
       "      <td>Graffiti Removal</td>\n",
       "      <td>Completed - Dup</td>\n",
       "      <td>01/01/2011</td>\n",
       "      <td>01/03/2011</td>\n",
       "      <td>25.0</td>\n",
       "      <td>30.0</td>\n",
       "      <td>60639.0</td>\n",
       "    </tr>\n",
       "    <tr>\n",
       "      <th>2</th>\n",
       "      <td>2</td>\n",
       "      <td>Graffiti Removal</td>\n",
       "      <td>Completed - Dup</td>\n",
       "      <td>01/01/2011</td>\n",
       "      <td>01/03/2011</td>\n",
       "      <td>23.0</td>\n",
       "      <td>46.0</td>\n",
       "      <td>60613.0</td>\n",
       "    </tr>\n",
       "    <tr>\n",
       "      <th>3</th>\n",
       "      <td>3</td>\n",
       "      <td>Graffiti Removal</td>\n",
       "      <td>Completed - Dup</td>\n",
       "      <td>01/01/2011</td>\n",
       "      <td>01/03/2011</td>\n",
       "      <td>19.0</td>\n",
       "      <td>32.0</td>\n",
       "      <td>60618.0</td>\n",
       "    </tr>\n",
       "    <tr>\n",
       "      <th>4</th>\n",
       "      <td>4</td>\n",
       "      <td>Graffiti Removal</td>\n",
       "      <td>Completed - Dup</td>\n",
       "      <td>01/01/2011</td>\n",
       "      <td>01/04/2011</td>\n",
       "      <td>16.0</td>\n",
       "      <td>38.0</td>\n",
       "      <td>60630.0</td>\n",
       "    </tr>\n",
       "  </tbody>\n",
       "</table>\n",
       "</div>"
      ],
      "text/plain": [
       "   index Type of Service Request           Status Creation Date  \\\n",
       "0      0        Graffiti Removal  Completed - Dup    01/01/2011   \n",
       "1      1        Graffiti Removal  Completed - Dup    01/01/2011   \n",
       "2      2        Graffiti Removal  Completed - Dup    01/01/2011   \n",
       "3      3        Graffiti Removal  Completed - Dup    01/01/2011   \n",
       "4      4        Graffiti Removal  Completed - Dup    01/01/2011   \n",
       "\n",
       "  Completion Date  Police District  Ward  ZIP Code  \n",
       "0      01/03/2011              9.0  11.0   60609.0  \n",
       "1      01/03/2011             25.0  30.0   60639.0  \n",
       "2      01/03/2011             23.0  46.0   60613.0  \n",
       "3      01/03/2011             19.0  32.0   60618.0  \n",
       "4      01/04/2011             16.0  38.0   60630.0  "
      ]
     },
     "execution_count": 244,
     "metadata": {},
     "output_type": "execute_result"
    }
   ],
   "source": [
    "finalDF.head()"
   ]
  },
  {
   "cell_type": "markdown",
   "metadata": {},
   "source": [
    "#### 2. Generate Summary Statistics\n",
    "*\"Generate summary statistics for these requests including but not limited to number of requests of each type (and subtype within each of the types above) over time, by neighborhood, response time by the city. Please use a combination of tables and graphs to present these summary stats.\"*"
   ]
  },
  {
   "cell_type": "markdown",
   "metadata": {},
   "source": [
    "First, I'll examine the dataset on graffiti removal. Upon examination and a couple of hours of waiting around, I've come to realize that this data set is way too big for my puny little MacBook to handle. So I'll look at a subset of it: dumpster graffiti."
   ]
  },
  {
   "cell_type": "code",
   "execution_count": 62,
   "metadata": {},
   "outputs": [],
   "source": [
    "dumpster_graf = graf.loc[graf.iloc[:,6] ==\"Dumpster\",:].reset_index()"
   ]
  },
  {
   "cell_type": "code",
   "execution_count": 63,
   "metadata": {},
   "outputs": [
    {
     "data": {
      "text/plain": [
       "18666"
      ]
     },
     "execution_count": 63,
     "metadata": {},
     "output_type": "execute_result"
    }
   ],
   "source": [
    "len(dumpster_graf)"
   ]
  },
  {
   "cell_type": "code",
   "execution_count": 27,
   "metadata": {
    "collapsed": true
   },
   "outputs": [],
   "source": [
    "# I need to create a new variable that represents response time."
   ]
  },
  {
   "cell_type": "code",
   "execution_count": 64,
   "metadata": {
    "collapsed": true
   },
   "outputs": [],
   "source": [
    "from dateutil import parser"
   ]
  },
  {
   "cell_type": "code",
   "execution_count": 65,
   "metadata": {},
   "outputs": [],
   "source": [
    "dumpster_graf['createtime'] = np.NaN\n",
    "dumpster_graf['finishtime'] = np.NaN\n",
    "dumpster_graf['total_time'] = np.NaN"
   ]
  },
  {
   "cell_type": "code",
   "execution_count": 91,
   "metadata": {},
   "outputs": [
    {
     "name": "stdout",
     "output_type": "stream",
     "text": [
      "1000 rows have completed.\n",
      "2000 rows have completed.\n",
      "3000 rows have completed.\n",
      "4000 rows have completed.\n",
      "5000 rows have completed.\n",
      "6000 rows have completed.\n",
      "7000 rows have completed.\n",
      "8000 rows have completed.\n",
      "9000 rows have completed.\n",
      "10000 rows have completed.\n",
      "11000 rows have completed.\n",
      "12000 rows have completed.\n",
      "13000 rows have completed.\n",
      "14000 rows have completed.\n",
      "15000 rows have completed.\n",
      "16000 rows have completed.\n",
      "17000 rows have completed.\n",
      "18000 rows have completed.\n"
     ]
    }
   ],
   "source": [
    "for i in range (0, len(dumpster_graf)):\n",
    "    \n",
    "    dumpster_graf.loc[i, 'createtime'] = parser.parse(dumpster_graf.loc[i, 'Creation Date'])\n",
    "    \n",
    "    if dumpster_graf.loc[i,'Status']==\"Completed\":\n",
    "        dumpster_graf.loc[i, 'finishtime'] = parser.parse(dumpster_graf.loc[i, 'Completion Date'])\n",
    "        dumpster_graf.loc[i,'total_time'] = (dumpster_graf.loc[i, 'finishtime'] - dumpster_graf.loc[i, 'createtime']).days\n",
    "    if (i >= 1000 and i%1000 == 0):\n",
    "        print(str(i) + \" rows have completed.\")"
   ]
  },
  {
   "cell_type": "code",
   "execution_count": 92,
   "metadata": {},
   "outputs": [],
   "source": [
    "# create a csv\n",
    "dumpster_graf.to_csv(\"dumpster_graf.csv\")"
   ]
  },
  {
   "cell_type": "markdown",
   "metadata": {},
   "source": [
    "Where are all these incidents happening? Below, I'll examine the reported incidents as they occur across ZIP codes."
   ]
  },
  {
   "cell_type": "markdown",
   "metadata": {},
   "source": [
    "The following table shows the 10 ZIP codes with the most number of reported incidents"
   ]
  },
  {
   "cell_type": "code",
   "execution_count": 283,
   "metadata": {},
   "outputs": [
    {
     "data": {
      "text/plain": [
       "60632.0    114662\n",
       "60608.0     89438\n",
       "60647.0     82823\n",
       "60618.0     77872\n",
       "60629.0     69080\n",
       "60623.0     64895\n",
       "60609.0     53517\n",
       "60639.0     49662\n",
       "60622.0     45434\n",
       "60625.0     44815\n",
       "Name: ZIP Code, dtype: int64"
      ]
     },
     "execution_count": 283,
     "metadata": {},
     "output_type": "execute_result"
    }
   ],
   "source": [
    "finalDF['ZIP Code'].value_counts().head(10)"
   ]
  },
  {
   "cell_type": "markdown",
   "metadata": {},
   "source": [
    "Let's examine more closely at the zipcode with the most incidents, 606032."
   ]
  },
  {
   "cell_type": "code",
   "execution_count": 285,
   "metadata": {},
   "outputs": [
    {
     "data": {
      "text/plain": [
       "Graffiti Removal             106305\n",
       "Alley Light Out                7176\n",
       "Vacant/Abandoned Building      1181\n",
       "Name: Type of Service Request, dtype: int64"
      ]
     },
     "execution_count": 285,
     "metadata": {},
     "output_type": "execute_result"
    }
   ],
   "source": [
    "finalDF.loc[finalDF[\"ZIP Code\"] == 60632, \"Type of Service Request\"].value_counts()"
   ]
  },
  {
   "cell_type": "markdown",
   "metadata": {},
   "source": [
    "Now, let's look at variation across time. I'll look first at the creation date of the requests. I realized I had to take a small 2.5% sample to avoid my macbook going screeching to a halt, so let me do that."
   ]
  },
  {
   "cell_type": "code",
   "execution_count": 308,
   "metadata": {
    "collapsed": true
   },
   "outputs": [],
   "source": [
    "# take a 2.5% probability sample\n",
    "sampleDF = finalDF.sample(frac=0.025, replace= False).reset_index()"
   ]
  },
  {
   "cell_type": "code",
   "execution_count": 309,
   "metadata": {},
   "outputs": [
    {
     "name": "stdout",
     "output_type": "stream",
     "text": [
      "1000 rows have completed.\n",
      "2000 rows have completed.\n",
      "3000 rows have completed.\n",
      "4000 rows have completed.\n",
      "5000 rows have completed.\n",
      "6000 rows have completed.\n",
      "7000 rows have completed.\n",
      "8000 rows have completed.\n",
      "9000 rows have completed.\n",
      "10000 rows have completed.\n",
      "11000 rows have completed.\n",
      "12000 rows have completed.\n",
      "13000 rows have completed.\n",
      "14000 rows have completed.\n",
      "15000 rows have completed.\n",
      "16000 rows have completed.\n",
      "17000 rows have completed.\n",
      "18000 rows have completed.\n",
      "19000 rows have completed.\n",
      "20000 rows have completed.\n",
      "21000 rows have completed.\n",
      "22000 rows have completed.\n",
      "23000 rows have completed.\n",
      "24000 rows have completed.\n",
      "25000 rows have completed.\n",
      "26000 rows have completed.\n",
      "27000 rows have completed.\n",
      "28000 rows have completed.\n",
      "29000 rows have completed.\n",
      "30000 rows have completed.\n"
     ]
    }
   ],
   "source": [
    "sampleDF[\"createime\"] = np.NaN\n",
    "sampleDF[\"finishtime\"] = np.NaN\n",
    "sampleDF[\"total_time\"] = np.NaN\n",
    "for i in range(0, len(sampleDF)):\n",
    "    sampleDF.loc[i, 'createtime'] = parser.parse(sampleDF.loc[i, 'Creation Date'])\n",
    "    if (sampleDF.loc[i,'Status']==\"Completed\" or sampleDF.loc[i,'Status']==\"Completed - Dup\"):\n",
    "        sampleDF.loc[i, 'finishtime'] = parser.parse(sampleDF.loc[i, 'Completion Date'])\n",
    "        sampleDF.loc[i,'total_time'] = (sampleDF.loc[i, 'finishtime'] - sampleDF.loc[i, 'createtime']).days\n",
    "    if (i >= 1000 and i%1000 == 0):\n",
    "        print(str(i) + \" rows have completed.\")"
   ]
  },
  {
   "cell_type": "code",
   "execution_count": 310,
   "metadata": {
    "collapsed": true
   },
   "outputs": [],
   "source": [
    "sampleDF.to_csv(\"sampleDF.csv\")"
   ]
  },
  {
   "cell_type": "code",
   "execution_count": 414,
   "metadata": {},
   "outputs": [],
   "source": [
    "sampleDF['year'] = sampleDF[\"createtime\"].apply(lambda x: x.year)"
   ]
  },
  {
   "cell_type": "code",
   "execution_count": 415,
   "metadata": {},
   "outputs": [],
   "source": [
    "tsDF = sampleDF.loc[:,\"year\"].value_counts().sort_index()"
   ]
  },
  {
   "cell_type": "code",
   "execution_count": 416,
   "metadata": {},
   "outputs": [],
   "source": [
    "# remove the three strange outliers\n",
    "tsDF2 = tsDF.iloc[3:,]"
   ]
  },
  {
   "cell_type": "markdown",
   "metadata": {},
   "source": [
    "This is is the time-series graph of all incidents from 2009 onwards."
   ]
  },
  {
   "cell_type": "code",
   "execution_count": 421,
   "metadata": {},
   "outputs": [
    {
     "data": {
      "image/png": "[encoded data removed]",
      "text/plain": [
       "<Figure size 432x288 with 1 Axes>"
      ]
     },
     "metadata": {},
     "output_type": "display_data"
    }
   ],
   "source": [
    "tsDF2.plot()\n",
    "plt.title('Time Series of all incidents')\n",
    "plt.show()"
   ]
  },
  {
   "cell_type": "code",
   "execution_count": 430,
   "metadata": {},
   "outputs": [
    {
     "data": {
      "image/png": "[encoded data removed]",
      "text/plain": [
       "<Figure size 432x288 with 1 Axes>"
      ]
     },
     "metadata": {},
     "output_type": "display_data"
    }
   ],
   "source": [
    "grafTS = sampleDF.loc[sampleDF[\"Type of Service Request\"]==\"Graffiti Removal\",\"year\"].value_counts().sort_index().iloc[3:,]\n",
    "grafTS.plot()\n",
    "plt.title('Time Series of Graffiti Removal')\n",
    "plt.show()"
   ]
  },
  {
   "cell_type": "code",
   "execution_count": 427,
   "metadata": {},
   "outputs": [
    {
     "data": {
      "image/png": "[encoded data removed]",
      "text/plain": [
       "<Figure size 432x288 with 1 Axes>"
      ]
     },
     "metadata": {},
     "output_type": "display_data"
    }
   ],
   "source": [
    "alleyTS = sampleDF.loc[sampleDF[\"Type of Service Request\"]==\"Alley Light Out\",\"year\"].value_counts().sort_index()\n",
    "alleyTS.plot()\n",
    "plt.title('Time Series of Alley Lights Out')\n",
    "plt.show()"
   ]
  },
  {
   "cell_type": "code",
   "execution_count": 429,
   "metadata": {},
   "outputs": [
    {
     "data": {
      "image/png": "[encoded data removed]",
      "text/plain": [
       "<Figure size 432x288 with 1 Axes>"
      ]
     },
     "metadata": {},
     "output_type": "display_data"
    }
   ],
   "source": [
    "abanTS = sampleDF.loc[sampleDF[\"Type of Service Request\"]==\"Vacant/Abandoned Building\",\"year\"].value_counts().sort_index()\n",
    "alleyTS.plot()\n",
    "plt.title('Time Series of Abandoned Buildings')\n",
    "plt.show()"
   ]
  },
  {
   "cell_type": "markdown",
   "metadata": {},
   "source": [
    "Now let's look at some trends by ZIP code."
   ]
  },
  {
   "cell_type": "code",
   "execution_count": 433,
   "metadata": {},
   "outputs": [
    {
     "data": {
      "text/plain": [
       "60"
      ]
     },
     "execution_count": 433,
     "metadata": {},
     "output_type": "execute_result"
    }
   ],
   "source": [
    "sampleDF['ZIP Code'].nunique()"
   ]
  },
  {
   "cell_type": "markdown",
   "metadata": {},
   "source": [
    "There are 60 ZIP codes in my sample. I'll rank the ZIP codes by total no. of incidents, and then examine the ZIP code with the most incidents (60632), and the one with the median amount of incidents (60645)"
   ]
  },
  {
   "cell_type": "code",
   "execution_count": 448,
   "metadata": {},
   "outputs": [
    {
     "data": {
      "text/plain": [
       "Graffiti Removal             2714\n",
       "Alley Light Out               199\n",
       "Vacant/Abandoned Building      34\n",
       "Name: Type of Service Request, dtype: int64"
      ]
     },
     "execution_count": 448,
     "metadata": {},
     "output_type": "execute_result"
    }
   ],
   "source": [
    "mostDF = sampleDF.loc[sampleDF['ZIP Code'] == 60632]\n",
    "mostDF[\"Type of Service Request\"].value_counts()"
   ]
  },
  {
   "cell_type": "code",
   "execution_count": 452,
   "metadata": {},
   "outputs": [
    {
     "data": {
      "text/plain": [
       "Graffiti Removal             214\n",
       "Alley Light Out               45\n",
       "Vacant/Abandoned Building      1\n",
       "Name: Type of Service Request, dtype: int64"
      ]
     },
     "execution_count": 452,
     "metadata": {},
     "output_type": "execute_result"
    }
   ],
   "source": [
    "medianDF = sampleDF.loc[sampleDF['ZIP Code'] == 60645]\n",
    "medianDF[\"Type of Service Request\"].value_counts()"
   ]
  },
  {
   "cell_type": "markdown",
   "metadata": {},
   "source": [
    "It seems that graffiti is the main driver of the difference in incidence reports between the two ZIP codes."
   ]
  },
  {
   "cell_type": "markdown",
   "metadata": {},
   "source": [
    "#### 3. Five interesting things I learned from the 311 data."
   ]
  },
  {
   "cell_type": "markdown",
   "metadata": {},
   "source": [
    "Now, to present some interesting preliminary findings:\n",
    "1. It appears that the vast majority (76.7%) of graffiti reports are dealt with on the day of the report.\n",
    "2. There does not appear to be a clear trend in the time-series graph of overall incidents.\n",
    "3. There does not appear to be a clear trend in the time-series graphs of graffiti and alley lights out either.\n",
    "4. There seems to be a decrease in reports of abandoned buildings across time.\n",
    "5. Graffiti may be the main source of difference in reports across ZIP codes."
   ]
  },
  {
   "cell_type": "code",
   "execution_count": 167,
   "metadata": {},
   "outputs": [
    {
     "data": {
      "text/plain": [
       "76.67952426872388"
      ]
     },
     "execution_count": 167,
     "metadata": {},
     "output_type": "execute_result"
    }
   ],
   "source": [
    "14313/len(dumpster_graf)*100"
   ]
  },
  {
   "cell_type": "code",
   "execution_count": 174,
   "metadata": {},
   "outputs": [],
   "source": [
    "df1 = pd.DataFrame(dumpster_graf.loc[:,'total_time'].value_counts())\n",
    "df2 = df1.reset_index().sort_values(\"index\").iloc[:30,:]"
   ]
  },
  {
   "cell_type": "code",
   "execution_count": 178,
   "metadata": {},
   "outputs": [
    {
     "data": {
      "image/png": "[encoded data removed]",
      "text/plain": [
       "<Figure size 432x288 with 1 Axes>"
      ]
     },
     "metadata": {},
     "output_type": "display_data"
    }
   ],
   "source": [
    "plt.bar(df2['index'], df2['total_time'], width = 0.9, align='edge', alpha=0.5, )\n",
    "plt.title('Time taken (days) for dumpster graffiti removal')\n",
    "plt.xlabel(\"No. of days.\")\n",
    "plt.ylabel(\"No. of cases.\")\n",
    "plt.show()"
   ]
  },
  {
   "cell_type": "markdown",
   "metadata": {},
   "source": [
    "### Part II"
   ]
  },
  {
   "cell_type": "markdown",
   "metadata": {},
   "source": [
    "This is my first time working with the US Census, so I'm learning a lot as I go along. It's my first encounter with the American Community Survey. I'm quite struck: it's a truly remarkable project. In the US Census' own words, \"While the main function of the decennial census is to provide counts of people for the purpose of congressional apportionment and legislative redistricting, the primary purpose of the ACS is to measure the changing social and economic characteristics of the U.S. population.\" \n",
    "\n",
    "Looking at the ACS data, I'm struck first by the many types there are. There's 1-year data, 3-year data, and 5-year data: I found a [helpful guide on the census website](https://www.census.gov/programs-surveys/acs/guidance/estimates.html) that provides information on the differences between the three and when to use each. The main take-away is that there's a tradeoff between accurate/precision/granurarity of the data and the timeliness of the data.\n",
    "\n",
    "But more choices await. Say I choose to use ACS 5-year data (2011-2015). I'm confronted next with a choice of four tables:\n",
    "* Detail tables\n",
    "* Subject tables\n",
    "* Data profiles\n",
    "* Comparison profiles\n",
    "\n",
    "What, again, are the differences? It seems like they just *are*. They contain different types of information about the population.\n",
    "\n",
    "This is also my first time writing API queries. This took me an embarrassing amount of time to get working.\n"
   ]
  },
  {
   "cell_type": "code",
   "execution_count": 543,
   "metadata": {
    "collapsed": true
   },
   "outputs": [],
   "source": [
    "api_keyxy = '9d2dc927b08baaf664a88ce2c21e23b3acaa7d1d'\n",
    "base_url_acs_5y_2015 = 'https://api.census.gov/data/2015/acs/acs5?get='\n",
    "race = 'B02001_002E'\n",
    "snap = 'B22003_001E'\n",
    "male = \"B01001_002E\"\n",
    "children= 'B23007_001E'\n",
    "total_pop = 'B01001_001E'\n",
    "predicate = \"&for=zip%20code%20tabulation%20area:*\"\n",
    "predkey = \"&key=9d2dc927b08baaf664a88ce2c21e23b3acaa7d1d\"\n",
    "first_try = base_url + total_pop + ',' + race + ',' + snap + \",\" + male + \",\" + children + predicate + predkey"
   ]
  },
  {
   "cell_type": "code",
   "execution_count": 547,
   "metadata": {
    "collapsed": true
   },
   "outputs": [],
   "source": [
    "censusDF = pd.read_json(first_try)\n",
    "censusDF.to_csv(\"census.csv\")"
   ]
  },
  {
   "cell_type": "code",
   "execution_count": 609,
   "metadata": {
    "collapsed": true
   },
   "outputs": [],
   "source": [
    "censusDF = pd.read_csv(\"census.csv\")\n",
    "censusDF.columns = censusDF.iloc[0]\n",
    "censusDF = censusDF.iloc[1:,:]"
   ]
  },
  {
   "cell_type": "code",
   "execution_count": 610,
   "metadata": {},
   "outputs": [
    {
     "name": "stdout",
     "output_type": "stream",
     "text": [
      "total_pop completed.\n",
      "white completed.\n",
      "snap completed.\n",
      "male completed.\n",
      "children completed.\n",
      "ZIP Code completed.\n"
     ]
    }
   ],
   "source": [
    "# convert str columns to numeric; also, rename columns\n",
    "listnames = [\"total_pop\", \"white\", \"snap\", \"male\", \"children\", \"ZIP Code\"]\n",
    "for i in range(2,8):\n",
    "    j = i -2\n",
    "    censusDF[listnames[j]] = pd.to_numeric(censusDF.iloc[:,i])\n",
    "    print(listnames[j] + \" completed.\")"
   ]
  },
  {
   "cell_type": "code",
   "execution_count": 611,
   "metadata": {},
   "outputs": [],
   "source": [
    "rdycensusDF = censusDF.iloc[7:,:]"
   ]
  },
  {
   "cell_type": "code",
   "execution_count": 612,
   "metadata": {},
   "outputs": [
    {
     "name": "stderr",
     "output_type": "stream",
     "text": [
      "/Users/xiangyu/anaconda3/lib/python3.6/site-packages/ipykernel_launcher.py:5: SettingWithCopyWarning: \n",
      "A value is trying to be set on a copy of a slice from a DataFrame.\n",
      "Try using .loc[row_indexer,col_indexer] = value instead\n",
      "\n",
      "See the caveats in the documentation: http://pandas.pydata.org/pandas-docs/stable/indexing.html#indexing-view-versus-copy\n",
      "  \"\"\"\n"
     ]
    },
    {
     "name": "stdout",
     "output_type": "stream",
     "text": [
      "total_pop completed.\n",
      "white completed.\n",
      "snap completed.\n",
      "male completed.\n"
     ]
    }
   ],
   "source": [
    "# convert cols to express %\n",
    "listnames2 = [\"white\", \"snap\", \"male\", \"children\"]\n",
    "for i in range(9,13):\n",
    "    j = i - 9\n",
    "    rdycensusDF[listnames2[j]+\"%\"] = rdycensusDF.iloc[:,i]/rdycensusDF['total_pop']\n",
    "    print(listnames[j] + \" completed.\")"
   ]
  },
  {
   "cell_type": "code",
   "execution_count": 615,
   "metadata": {},
   "outputs": [
    {
     "data": {
      "text/html": [
       "<div>\n",
       "<style scoped>\n",
       "    .dataframe tbody tr th:only-of-type {\n",
       "        vertical-align: middle;\n",
       "    }\n",
       "\n",
       "    .dataframe tbody tr th {\n",
       "        vertical-align: top;\n",
       "    }\n",
       "\n",
       "    .dataframe thead th {\n",
       "        text-align: right;\n",
       "    }\n",
       "</style>\n",
       "<table border=\"1\" class=\"dataframe\">\n",
       "  <thead>\n",
       "    <tr style=\"text-align: right;\">\n",
       "      <th></th>\n",
       "      <th>0</th>\n",
       "      <th>NAME</th>\n",
       "      <th>B01001_001E</th>\n",
       "      <th>B02001_002E</th>\n",
       "      <th>B22003_001E</th>\n",
       "      <th>B01001_002E</th>\n",
       "      <th>B23007_001E</th>\n",
       "      <th>zip code tabulation area</th>\n",
       "      <th>total_pop</th>\n",
       "      <th>white</th>\n",
       "      <th>snap</th>\n",
       "      <th>male</th>\n",
       "      <th>children</th>\n",
       "      <th>ZIP Code</th>\n",
       "      <th>white%</th>\n",
       "      <th>snap%</th>\n",
       "      <th>male%</th>\n",
       "      <th>children%</th>\n",
       "    </tr>\n",
       "  </thead>\n",
       "  <tbody>\n",
       "    <tr>\n",
       "      <th>8</th>\n",
       "      <td>8</td>\n",
       "      <td>ZCTA5 00617</td>\n",
       "      <td>24793</td>\n",
       "      <td>23276</td>\n",
       "      <td>8352</td>\n",
       "      <td>11833</td>\n",
       "      <td>6173</td>\n",
       "      <td>00617</td>\n",
       "      <td>24793</td>\n",
       "      <td>23276</td>\n",
       "      <td>8352</td>\n",
       "      <td>11833</td>\n",
       "      <td>6173</td>\n",
       "      <td>617</td>\n",
       "      <td>0.938813</td>\n",
       "      <td>0.336869</td>\n",
       "      <td>0.477272</td>\n",
       "      <td>0.248982</td>\n",
       "    </tr>\n",
       "  </tbody>\n",
       "</table>\n",
       "</div>"
      ],
      "text/plain": [
       "0  0         NAME B01001_001E B02001_002E B22003_001E B01001_002E B23007_001E  \\\n",
       "8  8  ZCTA5 00617       24793       23276        8352       11833        6173   \n",
       "\n",
       "0 zip code tabulation area  total_pop  white  snap   male  children  ZIP Code  \\\n",
       "8                    00617      24793  23276  8352  11833      6173       617   \n",
       "\n",
       "0    white%     snap%     male%  children%  \n",
       "8  0.938813  0.336869  0.477272   0.248982  "
      ]
     },
     "execution_count": 615,
     "metadata": {},
     "output_type": "execute_result"
    }
   ],
   "source": [
    "rdycensusDF.head(1)"
   ]
  },
  {
   "cell_type": "code",
   "execution_count": 621,
   "metadata": {},
   "outputs": [],
   "source": [
    "finalcensus = rdycensusDF.iloc[:,[7,8,13,14,15,16,17]]"
   ]
  },
  {
   "cell_type": "code",
   "execution_count": 622,
   "metadata": {
    "collapsed": true
   },
   "outputs": [],
   "source": [
    "mergedDF = pd.merge(sampleDF,finalcensus, how = 'left', on = \"ZIP Code\")"
   ]
  },
  {
   "cell_type": "code",
   "execution_count": 623,
   "metadata": {},
   "outputs": [
    {
     "data": {
      "text/html": [
       "<div>\n",
       "<style scoped>\n",
       "    .dataframe tbody tr th:only-of-type {\n",
       "        vertical-align: middle;\n",
       "    }\n",
       "\n",
       "    .dataframe tbody tr th {\n",
       "        vertical-align: top;\n",
       "    }\n",
       "\n",
       "    .dataframe thead th {\n",
       "        text-align: right;\n",
       "    }\n",
       "</style>\n",
       "<table border=\"1\" class=\"dataframe\">\n",
       "  <thead>\n",
       "    <tr style=\"text-align: right;\">\n",
       "      <th></th>\n",
       "      <th>level_0</th>\n",
       "      <th>index</th>\n",
       "      <th>Type of Service Request</th>\n",
       "      <th>Status</th>\n",
       "      <th>Creation Date</th>\n",
       "      <th>Completion Date</th>\n",
       "      <th>Police District</th>\n",
       "      <th>Ward</th>\n",
       "      <th>ZIP Code</th>\n",
       "      <th>cyear</th>\n",
       "      <th>createtime</th>\n",
       "      <th>createime</th>\n",
       "      <th>finishtime</th>\n",
       "      <th>total_time</th>\n",
       "      <th>year</th>\n",
       "      <th>zip code tabulation area</th>\n",
       "      <th>total_pop</th>\n",
       "      <th>white%</th>\n",
       "      <th>snap%</th>\n",
       "      <th>male%</th>\n",
       "      <th>children%</th>\n",
       "    </tr>\n",
       "  </thead>\n",
       "  <tbody>\n",
       "    <tr>\n",
       "      <th>0</th>\n",
       "      <td>171019</td>\n",
       "      <td>171019</td>\n",
       "      <td>Graffiti Removal</td>\n",
       "      <td>Completed</td>\n",
       "      <td>06/06/2011</td>\n",
       "      <td>06/27/2011</td>\n",
       "      <td>19.0</td>\n",
       "      <td>47.0</td>\n",
       "      <td>60618</td>\n",
       "      <td>NaN</td>\n",
       "      <td>2011-06-06</td>\n",
       "      <td>NaN</td>\n",
       "      <td>2011-06-27 00:00:00</td>\n",
       "      <td>21.0</td>\n",
       "      <td>2011</td>\n",
       "      <td>60618</td>\n",
       "      <td>97324.0</td>\n",
       "      <td>0.805290</td>\n",
       "      <td>0.364042</td>\n",
       "      <td>0.502867</td>\n",
       "      <td>0.216175</td>\n",
       "    </tr>\n",
       "    <tr>\n",
       "      <th>1</th>\n",
       "      <td>238387</td>\n",
       "      <td>238387</td>\n",
       "      <td>Graffiti Removal</td>\n",
       "      <td>Completed</td>\n",
       "      <td>08/29/2011</td>\n",
       "      <td>08/29/2011</td>\n",
       "      <td>14.0</td>\n",
       "      <td>1.0</td>\n",
       "      <td>60647</td>\n",
       "      <td>NaN</td>\n",
       "      <td>2011-08-29</td>\n",
       "      <td>NaN</td>\n",
       "      <td>2011-08-29 00:00:00</td>\n",
       "      <td>0.0</td>\n",
       "      <td>2011</td>\n",
       "      <td>60647</td>\n",
       "      <td>88269.0</td>\n",
       "      <td>0.763722</td>\n",
       "      <td>0.383645</td>\n",
       "      <td>0.507698</td>\n",
       "      <td>0.193284</td>\n",
       "    </tr>\n",
       "    <tr>\n",
       "      <th>2</th>\n",
       "      <td>300428</td>\n",
       "      <td>300428</td>\n",
       "      <td>Graffiti Removal</td>\n",
       "      <td>Completed</td>\n",
       "      <td>11/21/2011</td>\n",
       "      <td>11/21/2011</td>\n",
       "      <td>10.0</td>\n",
       "      <td>22.0</td>\n",
       "      <td>60623</td>\n",
       "      <td>NaN</td>\n",
       "      <td>2011-11-21</td>\n",
       "      <td>NaN</td>\n",
       "      <td>2011-11-21 00:00:00</td>\n",
       "      <td>0.0</td>\n",
       "      <td>2011</td>\n",
       "      <td>60623</td>\n",
       "      <td>88635.0</td>\n",
       "      <td>0.468325</td>\n",
       "      <td>0.281255</td>\n",
       "      <td>0.492018</td>\n",
       "      <td>0.212850</td>\n",
       "    </tr>\n",
       "    <tr>\n",
       "      <th>3</th>\n",
       "      <td>1104655</td>\n",
       "      <td>70486</td>\n",
       "      <td>Alley Light Out</td>\n",
       "      <td>Completed - Dup</td>\n",
       "      <td>12/29/2011</td>\n",
       "      <td>01/05/2012</td>\n",
       "      <td>6.0</td>\n",
       "      <td>6.0</td>\n",
       "      <td>60619</td>\n",
       "      <td>NaN</td>\n",
       "      <td>2011-12-29</td>\n",
       "      <td>NaN</td>\n",
       "      <td>2012-01-05 00:00:00</td>\n",
       "      <td>7.0</td>\n",
       "      <td>2011</td>\n",
       "      <td>60619</td>\n",
       "      <td>63411.0</td>\n",
       "      <td>0.012033</td>\n",
       "      <td>0.405229</td>\n",
       "      <td>0.437132</td>\n",
       "      <td>0.222580</td>\n",
       "    </tr>\n",
       "    <tr>\n",
       "      <th>4</th>\n",
       "      <td>24018</td>\n",
       "      <td>24018</td>\n",
       "      <td>Graffiti Removal</td>\n",
       "      <td>Completed</td>\n",
       "      <td>01/21/2013</td>\n",
       "      <td>01/28/2013</td>\n",
       "      <td>4.0</td>\n",
       "      <td>10.0</td>\n",
       "      <td>60617</td>\n",
       "      <td>NaN</td>\n",
       "      <td>2013-01-21</td>\n",
       "      <td>NaN</td>\n",
       "      <td>2013-01-28 00:00:00</td>\n",
       "      <td>7.0</td>\n",
       "      <td>2013</td>\n",
       "      <td>60617</td>\n",
       "      <td>82213.0</td>\n",
       "      <td>0.362437</td>\n",
       "      <td>0.336930</td>\n",
       "      <td>0.458492</td>\n",
       "      <td>0.230341</td>\n",
       "    </tr>\n",
       "  </tbody>\n",
       "</table>\n",
       "</div>"
      ],
      "text/plain": [
       "   level_0   index Type of Service Request           Status Creation Date  \\\n",
       "0   171019  171019        Graffiti Removal        Completed    06/06/2011   \n",
       "1   238387  238387        Graffiti Removal        Completed    08/29/2011   \n",
       "2   300428  300428        Graffiti Removal        Completed    11/21/2011   \n",
       "3  1104655   70486         Alley Light Out  Completed - Dup    12/29/2011   \n",
       "4    24018   24018        Graffiti Removal        Completed    01/21/2013   \n",
       "\n",
       "  Completion Date  Police District  Ward ZIP Code  cyear createtime  \\\n",
       "0      06/27/2011             19.0  47.0    60618    NaN 2011-06-06   \n",
       "1      08/29/2011             14.0   1.0    60647    NaN 2011-08-29   \n",
       "2      11/21/2011             10.0  22.0    60623    NaN 2011-11-21   \n",
       "3      01/05/2012              6.0   6.0    60619    NaN 2011-12-29   \n",
       "4      01/28/2013              4.0  10.0    60617    NaN 2013-01-21   \n",
       "\n",
       "   createime           finishtime  total_time  year zip code tabulation area  \\\n",
       "0        NaN  2011-06-27 00:00:00        21.0  2011                    60618   \n",
       "1        NaN  2011-08-29 00:00:00         0.0  2011                    60647   \n",
       "2        NaN  2011-11-21 00:00:00         0.0  2011                    60623   \n",
       "3        NaN  2012-01-05 00:00:00         7.0  2011                    60619   \n",
       "4        NaN  2013-01-28 00:00:00         7.0  2013                    60617   \n",
       "\n",
       "   total_pop    white%     snap%     male%  children%  \n",
       "0    97324.0  0.805290  0.364042  0.502867   0.216175  \n",
       "1    88269.0  0.763722  0.383645  0.507698   0.193284  \n",
       "2    88635.0  0.468325  0.281255  0.492018   0.212850  \n",
       "3    63411.0  0.012033  0.405229  0.437132   0.222580  \n",
       "4    82213.0  0.362437  0.336930  0.458492   0.230341  "
      ]
     },
     "execution_count": 623,
     "metadata": {},
     "output_type": "execute_result"
    }
   ],
   "source": [
    "mergedDF.head()"
   ]
  },
  {
   "cell_type": "markdown",
   "metadata": {},
   "source": [
    "What types of blocks get alley lights out reports? "
   ]
  },
  {
   "cell_type": "code",
   "execution_count": 660,
   "metadata": {},
   "outputs": [],
   "source": [
    "lightsoutDF = mergedDF.loc[mergedDF[\"Type of Service Request\"] == \"Alley Light Out\",:]\n",
    "tempDF = lightsoutDF[\"zip code tabulation area\"].value_counts().reset_index().rename(columns = {\"zip code tabulation area\": \"count\", \"index\" : \"ZIP\"})\n",
    "tempDF[\"ZIP Code\"] = pd.to_numeric(tempDF[\"ZIP\"])\n",
    "lightsDF = pd.merge(tempDF, finalcensus, how = 'left', on = \"ZIP Code\")"
   ]
  },
  {
   "cell_type": "code",
   "execution_count": 671,
   "metadata": {},
   "outputs": [
    {
     "data": {
      "text/html": [
       "<div>\n",
       "<style scoped>\n",
       "    .dataframe tbody tr th:only-of-type {\n",
       "        vertical-align: middle;\n",
       "    }\n",
       "\n",
       "    .dataframe tbody tr th {\n",
       "        vertical-align: top;\n",
       "    }\n",
       "\n",
       "    .dataframe thead th {\n",
       "        text-align: right;\n",
       "    }\n",
       "</style>\n",
       "<table border=\"1\" class=\"dataframe\">\n",
       "  <thead>\n",
       "    <tr style=\"text-align: right;\">\n",
       "      <th></th>\n",
       "      <th>ZIP</th>\n",
       "      <th>count</th>\n",
       "      <th>ZIP Code</th>\n",
       "      <th>zip code tabulation area</th>\n",
       "      <th>total_pop</th>\n",
       "      <th>white%</th>\n",
       "      <th>snap%</th>\n",
       "      <th>male%</th>\n",
       "      <th>children%</th>\n",
       "    </tr>\n",
       "  </thead>\n",
       "  <tbody>\n",
       "    <tr>\n",
       "      <th>0</th>\n",
       "      <td>60628</td>\n",
       "      <td>323</td>\n",
       "      <td>60628</td>\n",
       "      <td>60628</td>\n",
       "      <td>67914</td>\n",
       "      <td>0.040110</td>\n",
       "      <td>0.342610</td>\n",
       "      <td>0.438260</td>\n",
       "      <td>0.223106</td>\n",
       "    </tr>\n",
       "    <tr>\n",
       "      <th>1</th>\n",
       "      <td>60629</td>\n",
       "      <td>317</td>\n",
       "      <td>60629</td>\n",
       "      <td>60629</td>\n",
       "      <td>114982</td>\n",
       "      <td>0.351107</td>\n",
       "      <td>0.268216</td>\n",
       "      <td>0.491051</td>\n",
       "      <td>0.205145</td>\n",
       "    </tr>\n",
       "    <tr>\n",
       "      <th>2</th>\n",
       "      <td>60617</td>\n",
       "      <td>268</td>\n",
       "      <td>60617</td>\n",
       "      <td>60617</td>\n",
       "      <td>82213</td>\n",
       "      <td>0.362437</td>\n",
       "      <td>0.336930</td>\n",
       "      <td>0.458492</td>\n",
       "      <td>0.230341</td>\n",
       "    </tr>\n",
       "    <tr>\n",
       "      <th>3</th>\n",
       "      <td>60620</td>\n",
       "      <td>241</td>\n",
       "      <td>60620</td>\n",
       "      <td>60620</td>\n",
       "      <td>69909</td>\n",
       "      <td>0.015649</td>\n",
       "      <td>0.364088</td>\n",
       "      <td>0.434522</td>\n",
       "      <td>0.230714</td>\n",
       "    </tr>\n",
       "    <tr>\n",
       "      <th>4</th>\n",
       "      <td>60619</td>\n",
       "      <td>231</td>\n",
       "      <td>60619</td>\n",
       "      <td>60619</td>\n",
       "      <td>63411</td>\n",
       "      <td>0.012033</td>\n",
       "      <td>0.405229</td>\n",
       "      <td>0.437132</td>\n",
       "      <td>0.222580</td>\n",
       "    </tr>\n",
       "    <tr>\n",
       "      <th>5</th>\n",
       "      <td>60638</td>\n",
       "      <td>228</td>\n",
       "      <td>60638</td>\n",
       "      <td>60638</td>\n",
       "      <td>57958</td>\n",
       "      <td>0.740243</td>\n",
       "      <td>0.342524</td>\n",
       "      <td>0.483488</td>\n",
       "      <td>0.245178</td>\n",
       "    </tr>\n",
       "    <tr>\n",
       "      <th>6</th>\n",
       "      <td>60632</td>\n",
       "      <td>199</td>\n",
       "      <td>60632</td>\n",
       "      <td>60632</td>\n",
       "      <td>91310</td>\n",
       "      <td>0.550378</td>\n",
       "      <td>0.264265</td>\n",
       "      <td>0.507579</td>\n",
       "      <td>0.211532</td>\n",
       "    </tr>\n",
       "    <tr>\n",
       "      <th>7</th>\n",
       "      <td>60643</td>\n",
       "      <td>187</td>\n",
       "      <td>60643</td>\n",
       "      <td>60643</td>\n",
       "      <td>50992</td>\n",
       "      <td>0.226310</td>\n",
       "      <td>0.349957</td>\n",
       "      <td>0.456130</td>\n",
       "      <td>0.240038</td>\n",
       "    </tr>\n",
       "    <tr>\n",
       "      <th>8</th>\n",
       "      <td>60634</td>\n",
       "      <td>182</td>\n",
       "      <td>60634</td>\n",
       "      <td>60634</td>\n",
       "      <td>74093</td>\n",
       "      <td>0.782584</td>\n",
       "      <td>0.343663</td>\n",
       "      <td>0.489992</td>\n",
       "      <td>0.238794</td>\n",
       "    </tr>\n",
       "    <tr>\n",
       "      <th>9</th>\n",
       "      <td>60651</td>\n",
       "      <td>171</td>\n",
       "      <td>60651</td>\n",
       "      <td>60651</td>\n",
       "      <td>61287</td>\n",
       "      <td>0.129897</td>\n",
       "      <td>0.311926</td>\n",
       "      <td>0.472482</td>\n",
       "      <td>0.219051</td>\n",
       "    </tr>\n",
       "  </tbody>\n",
       "</table>\n",
       "</div>"
      ],
      "text/plain": [
       "     ZIP  count  ZIP Code zip code tabulation area  total_pop    white%  \\\n",
       "0  60628    323     60628                    60628      67914  0.040110   \n",
       "1  60629    317     60629                    60629     114982  0.351107   \n",
       "2  60617    268     60617                    60617      82213  0.362437   \n",
       "3  60620    241     60620                    60620      69909  0.015649   \n",
       "4  60619    231     60619                    60619      63411  0.012033   \n",
       "5  60638    228     60638                    60638      57958  0.740243   \n",
       "6  60632    199     60632                    60632      91310  0.550378   \n",
       "7  60643    187     60643                    60643      50992  0.226310   \n",
       "8  60634    182     60634                    60634      74093  0.782584   \n",
       "9  60651    171     60651                    60651      61287  0.129897   \n",
       "\n",
       "      snap%     male%  children%  \n",
       "0  0.342610  0.438260   0.223106  \n",
       "1  0.268216  0.491051   0.205145  \n",
       "2  0.336930  0.458492   0.230341  \n",
       "3  0.364088  0.434522   0.230714  \n",
       "4  0.405229  0.437132   0.222580  \n",
       "5  0.342524  0.483488   0.245178  \n",
       "6  0.264265  0.507579   0.211532  \n",
       "7  0.349957  0.456130   0.240038  \n",
       "8  0.343663  0.489992   0.238794  \n",
       "9  0.311926  0.472482   0.219051  "
      ]
     },
     "execution_count": 671,
     "metadata": {},
     "output_type": "execute_result"
    }
   ],
   "source": [
    "lightsDF.head(10)"
   ]
  },
  {
   "cell_type": "markdown",
   "metadata": {},
   "source": [
    "It seems that many of them have high % of white people in their population. The SNAP eligible % seems a little too high — I might have screwed up there."
   ]
  },
  {
   "cell_type": "markdown",
   "metadata": {},
   "source": [
    "What types of blocks get vacant building reports? "
   ]
  },
  {
   "cell_type": "code",
   "execution_count": 674,
   "metadata": {
    "collapsed": true
   },
   "outputs": [],
   "source": [
    "vacDF = mergedDF.loc[mergedDF[\"Type of Service Request\"] == \"Vacant/Abandoned Building\",:]\n",
    "tempDF = vacDF[\"zip code tabulation area\"].value_counts().reset_index().rename(columns = {\"zip code tabulation area\": \"count\", \"index\" : \"ZIP\"})\n",
    "tempDF[\"ZIP Code\"] = pd.to_numeric(tempDF[\"ZIP\"])\n",
    "vacantDF = pd.merge(tempDF, finalcensus, how = 'left', on = \"ZIP Code\")"
   ]
  },
  {
   "cell_type": "code",
   "execution_count": 675,
   "metadata": {},
   "outputs": [
    {
     "data": {
      "text/html": [
       "<div>\n",
       "<style scoped>\n",
       "    .dataframe tbody tr th:only-of-type {\n",
       "        vertical-align: middle;\n",
       "    }\n",
       "\n",
       "    .dataframe tbody tr th {\n",
       "        vertical-align: top;\n",
       "    }\n",
       "\n",
       "    .dataframe thead th {\n",
       "        text-align: right;\n",
       "    }\n",
       "</style>\n",
       "<table border=\"1\" class=\"dataframe\">\n",
       "  <thead>\n",
       "    <tr style=\"text-align: right;\">\n",
       "      <th></th>\n",
       "      <th>ZIP</th>\n",
       "      <th>count</th>\n",
       "      <th>ZIP Code</th>\n",
       "      <th>zip code tabulation area</th>\n",
       "      <th>total_pop</th>\n",
       "      <th>white%</th>\n",
       "      <th>snap%</th>\n",
       "      <th>male%</th>\n",
       "      <th>children%</th>\n",
       "    </tr>\n",
       "  </thead>\n",
       "  <tbody>\n",
       "    <tr>\n",
       "      <th>0</th>\n",
       "      <td>60636</td>\n",
       "      <td>182</td>\n",
       "      <td>60636</td>\n",
       "      <td>60636</td>\n",
       "      <td>37278</td>\n",
       "      <td>0.019127</td>\n",
       "      <td>0.303208</td>\n",
       "      <td>0.474784</td>\n",
       "      <td>0.205322</td>\n",
       "    </tr>\n",
       "    <tr>\n",
       "      <th>1</th>\n",
       "      <td>60628</td>\n",
       "      <td>166</td>\n",
       "      <td>60628</td>\n",
       "      <td>60628</td>\n",
       "      <td>67914</td>\n",
       "      <td>0.040110</td>\n",
       "      <td>0.342610</td>\n",
       "      <td>0.438260</td>\n",
       "      <td>0.223106</td>\n",
       "    </tr>\n",
       "    <tr>\n",
       "      <th>2</th>\n",
       "      <td>60621</td>\n",
       "      <td>118</td>\n",
       "      <td>60621</td>\n",
       "      <td>60621</td>\n",
       "      <td>31881</td>\n",
       "      <td>0.015025</td>\n",
       "      <td>0.345472</td>\n",
       "      <td>0.445500</td>\n",
       "      <td>0.203507</td>\n",
       "    </tr>\n",
       "    <tr>\n",
       "      <th>3</th>\n",
       "      <td>60617</td>\n",
       "      <td>103</td>\n",
       "      <td>60617</td>\n",
       "      <td>60617</td>\n",
       "      <td>82213</td>\n",
       "      <td>0.362437</td>\n",
       "      <td>0.336930</td>\n",
       "      <td>0.458492</td>\n",
       "      <td>0.230341</td>\n",
       "    </tr>\n",
       "    <tr>\n",
       "      <th>4</th>\n",
       "      <td>60620</td>\n",
       "      <td>103</td>\n",
       "      <td>60620</td>\n",
       "      <td>60620</td>\n",
       "      <td>69909</td>\n",
       "      <td>0.015649</td>\n",
       "      <td>0.364088</td>\n",
       "      <td>0.434522</td>\n",
       "      <td>0.230714</td>\n",
       "    </tr>\n",
       "    <tr>\n",
       "      <th>5</th>\n",
       "      <td>60619</td>\n",
       "      <td>95</td>\n",
       "      <td>60619</td>\n",
       "      <td>60619</td>\n",
       "      <td>63411</td>\n",
       "      <td>0.012033</td>\n",
       "      <td>0.405229</td>\n",
       "      <td>0.437132</td>\n",
       "      <td>0.222580</td>\n",
       "    </tr>\n",
       "    <tr>\n",
       "      <th>6</th>\n",
       "      <td>60624</td>\n",
       "      <td>92</td>\n",
       "      <td>60624</td>\n",
       "      <td>60624</td>\n",
       "      <td>38140</td>\n",
       "      <td>0.027216</td>\n",
       "      <td>0.311038</td>\n",
       "      <td>0.472916</td>\n",
       "      <td>0.203985</td>\n",
       "    </tr>\n",
       "    <tr>\n",
       "      <th>7</th>\n",
       "      <td>60609</td>\n",
       "      <td>80</td>\n",
       "      <td>60609</td>\n",
       "      <td>60609</td>\n",
       "      <td>62010</td>\n",
       "      <td>0.483212</td>\n",
       "      <td>0.310982</td>\n",
       "      <td>0.491034</td>\n",
       "      <td>0.213820</td>\n",
       "    </tr>\n",
       "    <tr>\n",
       "      <th>8</th>\n",
       "      <td>60623</td>\n",
       "      <td>63</td>\n",
       "      <td>60623</td>\n",
       "      <td>60623</td>\n",
       "      <td>88635</td>\n",
       "      <td>0.468325</td>\n",
       "      <td>0.281255</td>\n",
       "      <td>0.492018</td>\n",
       "      <td>0.212850</td>\n",
       "    </tr>\n",
       "    <tr>\n",
       "      <th>9</th>\n",
       "      <td>60651</td>\n",
       "      <td>59</td>\n",
       "      <td>60651</td>\n",
       "      <td>60651</td>\n",
       "      <td>61287</td>\n",
       "      <td>0.129897</td>\n",
       "      <td>0.311926</td>\n",
       "      <td>0.472482</td>\n",
       "      <td>0.219051</td>\n",
       "    </tr>\n",
       "  </tbody>\n",
       "</table>\n",
       "</div>"
      ],
      "text/plain": [
       "     ZIP  count  ZIP Code zip code tabulation area  total_pop    white%  \\\n",
       "0  60636    182     60636                    60636      37278  0.019127   \n",
       "1  60628    166     60628                    60628      67914  0.040110   \n",
       "2  60621    118     60621                    60621      31881  0.015025   \n",
       "3  60617    103     60617                    60617      82213  0.362437   \n",
       "4  60620    103     60620                    60620      69909  0.015649   \n",
       "5  60619     95     60619                    60619      63411  0.012033   \n",
       "6  60624     92     60624                    60624      38140  0.027216   \n",
       "7  60609     80     60609                    60609      62010  0.483212   \n",
       "8  60623     63     60623                    60623      88635  0.468325   \n",
       "9  60651     59     60651                    60651      61287  0.129897   \n",
       "\n",
       "      snap%     male%  children%  \n",
       "0  0.303208  0.474784   0.205322  \n",
       "1  0.342610  0.438260   0.223106  \n",
       "2  0.345472  0.445500   0.203507  \n",
       "3  0.336930  0.458492   0.230341  \n",
       "4  0.364088  0.434522   0.230714  \n",
       "5  0.405229  0.437132   0.222580  \n",
       "6  0.311038  0.472916   0.203985  \n",
       "7  0.310982  0.491034   0.213820  \n",
       "8  0.281255  0.492018   0.212850  \n",
       "9  0.311926  0.472482   0.219051  "
      ]
     },
     "execution_count": 675,
     "metadata": {},
     "output_type": "execute_result"
    }
   ],
   "source": [
    "vacantDF.head(10)"
   ]
  },
  {
   "cell_type": "markdown",
   "metadata": {},
   "source": [
    "The trend of these zip codes being minority heavy is even more true now. They also seem to have fewer families with children, and higher SNAP rates, compared to the ZIP codes that are high in no. of alley lights out.."
   ]
  },
  {
   "cell_type": "markdown",
   "metadata": {},
   "source": [
    "### Part III"
   ]
  },
  {
   "cell_type": "markdown",
   "metadata": {},
   "source": [
    "#### A."
   ]
  },
  {
   "cell_type": "markdown",
   "metadata": {},
   "source": [
    "Google maps tells me that 3600 W Roosevelt Ave is in ZIP Code 60624."
   ]
  },
  {
   "cell_type": "code",
   "execution_count": 684,
   "metadata": {},
   "outputs": [
    {
     "data": {
      "text/plain": [
       "Vacant/Abandoned Building    92\n",
       "Alley Light Out              78\n",
       "Graffiti Removal             67\n",
       "Name: Type of Service Request, dtype: int64"
      ]
     },
     "execution_count": 684,
     "metadata": {},
     "output_type": "execute_result"
    }
   ],
   "source": [
    "sampleDF.loc[sampleDF[\"ZIP Code\"] == 60624,:][\"Type of Service Request\"].value_counts()"
   ]
  },
  {
   "cell_type": "markdown",
   "metadata": {},
   "source": [
    "It's most likely to be a vacant/abandoned building request."
   ]
  },
  {
   "cell_type": "code",
   "execution_count": 700,
   "metadata": {},
   "outputs": [
    {
     "name": "stdout",
     "output_type": "stream",
     "text": [
      "38.81856540084388\n",
      "32.91139240506329\n",
      "28.270042194092827\n"
     ]
    }
   ],
   "source": [
    "tempsum = 92+78+67\n",
    "print(92/tempsum*100)\n",
    "print(78/tempsum*100)\n",
    "print(67/tempsum*100)"
   ]
  },
  {
   "cell_type": "markdown",
   "metadata": {},
   "source": [
    "38.8% it's a vacant/abandoned building, 32.9% it's an alley light out, 28% it's a graffiti removal."
   ]
  },
  {
   "cell_type": "markdown",
   "metadata": {},
   "source": [
    "#### B."
   ]
  },
  {
   "cell_type": "markdown",
   "metadata": {},
   "source": [
    "Garfield Park is also in ZIP code 60624 while Uptown is in Zipcode 60640."
   ]
  },
  {
   "cell_type": "code",
   "execution_count": 689,
   "metadata": {},
   "outputs": [
    {
     "data": {
      "text/plain": [
       "Graffiti Removal             488\n",
       "Alley Light Out               47\n",
       "Vacant/Abandoned Building      3\n",
       "Name: Type of Service Request, dtype: int64"
      ]
     },
     "execution_count": 689,
     "metadata": {},
     "output_type": "execute_result"
    }
   ],
   "source": [
    "sampleDF.loc[sampleDF[\"ZIP Code\"] == 60640,:][\"Type of Service Request\"].value_counts()"
   ]
  },
  {
   "cell_type": "code",
   "execution_count": 701,
   "metadata": {},
   "outputs": [
    {
     "name": "stdout",
     "output_type": "stream",
     "text": [
      "90.70631970260223\n",
      "8.736059479553903\n",
      "0.5576208178438662\n"
     ]
    }
   ],
   "source": [
    "tempsum2 = 488+47+3\n",
    "print(488/tempsum2*100)\n",
    "print(47/tempsum2*100)\n",
    "print(3/tempsum2*100)"
   ]
  },
  {
   "cell_type": "markdown",
   "metadata": {},
   "source": [
    "Using Bayes' law:\n",
    "\n",
    "P(Garfield Park | Graffiti) = P(Graffiti|G Park) * P(Graffiti) / P(Garfield Park)\n",
    "\n",
    "P(Uptown| Graffiti) = P(Graffiti|Uptown ) * P(Graffiti) / P(Uptown)"
   ]
  },
  {
   "cell_type": "code",
   "execution_count": 705,
   "metadata": {
    "collapsed": true
   },
   "outputs": [],
   "source": [
    "puptown = tempsum2/(tempsum+tempsum2)\n",
    "pgpark = tempsum/(tempsum+tempsum2)\n",
    "pgraf = (488+67)/(tempsum+tempsum2)"
   ]
  },
  {
   "cell_type": "code",
   "execution_count": 706,
   "metadata": {},
   "outputs": [
    {
     "name": "stdout",
     "output_type": "stream",
     "text": [
      "P(Garfield Park | Graffiti): 0.6620199754312878\n",
      "P(Uptown| Graffiti: 0.9357250452591866\n"
     ]
    }
   ],
   "source": [
    "print(\"P(Garfield Park | Graffiti): {}\".format(67/tempsum*pgraf/pgpark))\n",
    "print(\"P(Uptown| Graffiti: {}\".format(488/tempsum2*pgraf/puptown))"
   ]
  },
  {
   "cell_type": "code",
   "execution_count": 714,
   "metadata": {},
   "outputs": [
    {
     "data": {
      "text/plain": [
       "1.413439291842497"
      ]
     },
     "execution_count": 714,
     "metadata": {},
     "output_type": "execute_result"
    }
   ],
   "source": [
    "0.9357250452591866/0.6620199754312878"
   ]
  },
  {
   "cell_type": "markdown",
   "metadata": {},
   "source": [
    "It's more 1.41 more likely to be from Uptown Park."
   ]
  },
  {
   "cell_type": "markdown",
   "metadata": {},
   "source": [
    "#### C."
   ]
  },
  {
   "cell_type": "code",
   "execution_count": 710,
   "metadata": {
    "collapsed": true
   },
   "outputs": [],
   "source": [
    "pgp = 600/1000\n",
    "pup = 400/1000\n",
    "pgraf2 = 260/1000\n",
    "condGP = 100/600\n",
    "condUP = 160/400"
   ]
  },
  {
   "cell_type": "code",
   "execution_count": 712,
   "metadata": {},
   "outputs": [
    {
     "name": "stdout",
     "output_type": "stream",
     "text": [
      "P(Garfield Park | Graffiti): 0.07222222222222223\n",
      "P(Uptown| Graffiti): 0.26\n"
     ]
    }
   ],
   "source": [
    "print(\"P(Garfield Park | Graffiti): {}\".format(condGP*pgraf2/pgp))\n",
    "print(\"P(Uptown| Graffiti): {}\".format(condUP*pgraf2/pup))"
   ]
  },
  {
   "cell_type": "code",
   "execution_count": 713,
   "metadata": {},
   "outputs": [
    {
     "data": {
      "text/plain": [
       "3.6011080332409975"
      ]
     },
     "execution_count": 713,
     "metadata": {},
     "output_type": "execute_result"
    }
   ],
   "source": [
    "0.26/0.0722"
   ]
  },
  {
   "cell_type": "markdown",
   "metadata": {},
   "source": [
    "It's more 3.6 times likely to come from Uptown."
   ]
  }
 ],
 "metadata": {
  "kernelspec": {
   "display_name": "Python 3",
   "language": "python",
   "name": "python3"
  },
  "language_info": {
   "codemirror_mode": {
    "name": "ipython",
    "version": 3
   },
   "file_extension": ".py",
   "mimetype": "text/x-python",
   "name": "python",
   "nbconvert_exporter": "python",
   "pygments_lexer": "ipython3",
   "version": "3.6.3"
  }
 },
 "nbformat": 4,
 "nbformat_minor": 2
}
